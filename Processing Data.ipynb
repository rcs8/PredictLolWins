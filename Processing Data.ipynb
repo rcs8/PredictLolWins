{
 "cells": [
  {
   "cell_type": "code",
   "execution_count": 80,
   "metadata": {},
   "outputs": [],
   "source": [
    "import pandas as pd\n",
    "import numpy as np"
   ]
  },
  {
   "cell_type": "markdown",
   "metadata": {},
   "source": [
    "#### Nesa etapa iremos fazer a definição de tipos, bem como o tratamentos dos dados faltantes,normalização, discretização e limpeza do dados. Todo o processo de pré processamento."
   ]
  },
  {
   "cell_type": "code",
   "execution_count": 81,
   "metadata": {},
   "outputs": [],
   "source": [
    "###Essa base é a base seed, através dos ids dos jogadores, iremos fazer os joins até chegar\n",
    "###na base final utilizada nessa etapa\n",
    "df_users_seed = pd.read_csv(\"SummonerFinalData.csv\", index_col = 'accountId')\n",
    "\n",
    "### Lista das 10 ultimas partidas de cada jogador na base seed. \n",
    "df_matches_acc_id = pd.read_csv(\"matchByAccounbtIdFiltered10.csv\", index_col = 'accountId')\n",
    "\n",
    "### Estatisticas de cada time dentro das partidas\n",
    "df_match_stats = pd.read_csv(\"dataMatchesStats.csv\", index_col = 'gameId')\n",
    "\n",
    "### Estatisticas \n",
    "df_players_matches_stats = pd.read_csv(\"playersMatchesStats.csv\", index_col = 'gameId')"
   ]
  },
  {
   "cell_type": "code",
   "execution_count": 82,
   "metadata": {},
   "outputs": [
    {
     "name": "stdout",
     "output_type": "stream",
     "text": [
      "(2661, 13)\n",
      "Unnamed: 0        int64\n",
      "tier             object\n",
      "summonerId       object\n",
      "summonerName     object\n",
      "leaguePoints      int64\n",
      "wins              int64\n",
      "losses            int64\n",
      "veteran            bool\n",
      "inactive           bool\n",
      "freshBlood         bool\n",
      "hotStreak          bool\n",
      "summonerLevel     int64\n",
      "puuid            object\n",
      "dtype: object\n"
     ]
    }
   ],
   "source": [
    "####Print de algumas informações basicas######\n",
    "print(df_users_seed.shape)\n",
    "print(df_users_seed.dtypes)"
   ]
  },
  {
   "cell_type": "code",
   "execution_count": 83,
   "metadata": {},
   "outputs": [
    {
     "name": "stdout",
     "output_type": "stream",
     "text": [
      "(53720, 8)\n",
      "platformId    object\n",
      "gameId         int64\n",
      "champion       int64\n",
      "queue          int64\n",
      "season         int64\n",
      "timestamp      int64\n",
      "role          object\n",
      "lane          object\n",
      "dtype: object\n"
     ]
    }
   ],
   "source": [
    "print(df_matches_acc_id.shape)\n",
    "print(df_matches_acc_id.dtypes)"
   ]
  },
  {
   "cell_type": "code",
   "execution_count": 84,
   "metadata": {},
   "outputs": [
    {
     "name": "stdout",
     "output_type": "stream",
     "text": [
      "(60654, 16)\n",
      "teamId                   int64\n",
      "win                     object\n",
      "firstBlood                bool\n",
      "firstTower                bool\n",
      "firstInhibitor            bool\n",
      "firstBaron                bool\n",
      "firstDragon               bool\n",
      "firstRiftHerald           bool\n",
      "towerKills               int64\n",
      "inhibitorKills           int64\n",
      "baronKills               int64\n",
      "dragonKills              int64\n",
      "vilemawKills             int64\n",
      "riftHeraldKills          int64\n",
      "dominionVictoryScore     int64\n",
      "bans                    object\n",
      "dtype: object\n"
     ]
    }
   ],
   "source": [
    "print(df_match_stats.shape)\n",
    "print(df_match_stats.dtypes)"
   ]
  },
  {
   "cell_type": "code",
   "execution_count": 85,
   "metadata": {},
   "outputs": [
    {
     "name": "stdout",
     "output_type": "stream",
     "text": [
      "(303252, 13)\n",
      "champion              int64\n",
      "spell1                int64\n",
      "spell2                int64\n",
      "win                    bool\n",
      "kills                 int64\n",
      "deaths                int64\n",
      "assists               int64\n",
      "totalDamageDealt      int64\n",
      "goldEarned            int64\n",
      "champLevel            int64\n",
      "totalMinionsKilled    int64\n",
      "item0                 int64\n",
      "item1                 int64\n",
      "dtype: object\n"
     ]
    }
   ],
   "source": [
    "print(df_players_matches_stats.shape)\n",
    "print(df_players_matches_stats.dtypes)"
   ]
  },
  {
   "cell_type": "code",
   "execution_count": 86,
   "metadata": {},
   "outputs": [],
   "source": [
    "###Checar com professor a questão de tipagem."
   ]
  },
  {
   "cell_type": "code",
   "execution_count": 87,
   "metadata": {},
   "outputs": [],
   "source": [
    "####Dropando essa coluna intrusa\n",
    "df_users_seed.drop('Unnamed: 0', axis = 1, inplace=True)"
   ]
  },
  {
   "cell_type": "markdown",
   "metadata": {},
   "source": [
    "## Ajuste de Tipos"
   ]
  },
  {
   "cell_type": "code",
   "execution_count": 88,
   "metadata": {},
   "outputs": [
    {
     "name": "stdout",
     "output_type": "stream",
     "text": [
      "tier             category\n",
      "summonerId         string\n",
      "summonerName       string\n",
      "leaguePoints        int64\n",
      "wins                int64\n",
      "losses              int64\n",
      "veteran              bool\n",
      "inactive             bool\n",
      "freshBlood           bool\n",
      "hotStreak            bool\n",
      "summonerLevel       int64\n",
      "puuid              string\n",
      "dtype: object\n",
      "Index(['DIAMONDI', 'DIAMONDII', 'DIAMONDIII', 'DIAMONDIV', 'MASTER'], dtype='object')\n"
     ]
    }
   ],
   "source": [
    "### Ajuste de tipos da base de usuários\n",
    "\n",
    "### Minha dúvida é se identificadores como (puuid ou summonerId são categoricos ou string, porque categorico é tecnicamente finito)\n",
    "df_users_seed['tier'] = df_users_seed['tier'].astype('category')\n",
    "df_users_seed['summonerId'] = df_users_seed['summonerId'].astype('string')\n",
    "df_users_seed['summonerName'] = df_users_seed['summonerName'].astype('string')\n",
    "df_users_seed['puuid'] = df_users_seed['puuid'].astype('string')\n",
    "\n",
    "print(df_users_seed.dtypes)\n",
    "print(df_users_seed['tier'].cat.categories)\n",
    "# df_users_seed.head()"
   ]
  },
  {
   "cell_type": "code",
   "execution_count": 89,
   "metadata": {
    "scrolled": true
   },
   "outputs": [
    {
     "name": "stdout",
     "output_type": "stream",
     "text": [
      "platformId    category\n",
      "gameId           int64\n",
      "champion         int64\n",
      "queue            int64\n",
      "season           int64\n",
      "timestamp        int64\n",
      "role          category\n",
      "lane          category\n",
      "dtype: object\n",
      "Index(['BR1'], dtype='object')\n",
      "Index(['DUO', 'DUO_CARRY', 'DUO_SUPPORT', 'NONE', 'SOLO'], dtype='object')\n",
      "Index(['BOTTOM', 'JUNGLE', 'MID', 'NONE', 'TOP'], dtype='object')\n"
     ]
    }
   ],
   "source": [
    "### Ajuste de tipos da lista de partidas\n",
    "\n",
    "### Platform ID pode ser considerado uma categoria mesmo só tendo dados de BR1? Season pode ser uma categoria?\n",
    "df_matches_acc_id['platformId'] = df_matches_acc_id['platformId'].astype('category')\n",
    "df_matches_acc_id['role'] = df_matches_acc_id['role'].astype('category')\n",
    "df_matches_acc_id['lane'] = df_matches_acc_id['lane'].astype('category')\n",
    "\n",
    "print(df_matches_acc_id.dtypes)\n",
    "print(df_matches_acc_id['platformId'].cat.categories)\n",
    "print(df_matches_acc_id['role'].cat.categories)\n",
    "print(df_matches_acc_id['lane'].cat.categories)"
   ]
  },
  {
   "cell_type": "code",
   "execution_count": 90,
   "metadata": {},
   "outputs": [
    {
     "name": "stdout",
     "output_type": "stream",
     "text": [
      "teamId                     int64\n",
      "win                     category\n",
      "firstBlood                  bool\n",
      "firstTower                  bool\n",
      "firstInhibitor              bool\n",
      "firstBaron                  bool\n",
      "firstDragon                 bool\n",
      "firstRiftHerald             bool\n",
      "towerKills                 int64\n",
      "inhibitorKills             int64\n",
      "baronKills                 int64\n",
      "dragonKills                int64\n",
      "vilemawKills               int64\n",
      "riftHeraldKills            int64\n",
      "dominionVictoryScore       int64\n",
      "bans                      object\n",
      "dtype: object\n",
      "Index(['Fail', 'Win'], dtype='object')\n"
     ]
    }
   ],
   "source": [
    "### Ajuste d etipos das estatisticas da partida\n",
    "\n",
    "df_match_stats['win'] = df_match_stats['win'].astype('category')\n",
    "\n",
    "print(df_match_stats.dtypes)\n",
    "print(df_match_stats['win'].cat.categories)"
   ]
  },
  {
   "cell_type": "markdown",
   "metadata": {},
   "source": [
    "## Checagem de dados faltantes"
   ]
  },
  {
   "cell_type": "code",
   "execution_count": 91,
   "metadata": {},
   "outputs": [],
   "source": [
    "def getMissData(df):\n",
    "     return pd.DataFrame({'names' : df.columns, 'types' : df.dtypes, 'NA #': df.isna().sum(), 'NA %' : (df.isna().sum() / df.shape[0]) * 100})\n",
    "    "
   ]
  },
  {
   "cell_type": "code",
   "execution_count": 92,
   "metadata": {
    "scrolled": true
   },
   "outputs": [
    {
     "data": {
      "text/html": [
       "<div>\n",
       "<style scoped>\n",
       "    .dataframe tbody tr th:only-of-type {\n",
       "        vertical-align: middle;\n",
       "    }\n",
       "\n",
       "    .dataframe tbody tr th {\n",
       "        vertical-align: top;\n",
       "    }\n",
       "\n",
       "    .dataframe thead th {\n",
       "        text-align: right;\n",
       "    }\n",
       "</style>\n",
       "<table border=\"1\" class=\"dataframe\">\n",
       "  <thead>\n",
       "    <tr style=\"text-align: right;\">\n",
       "      <th></th>\n",
       "      <th>names</th>\n",
       "      <th>types</th>\n",
       "      <th>NA #</th>\n",
       "      <th>NA %</th>\n",
       "    </tr>\n",
       "  </thead>\n",
       "  <tbody>\n",
       "    <tr>\n",
       "      <th>tier</th>\n",
       "      <td>tier</td>\n",
       "      <td>category</td>\n",
       "      <td>0</td>\n",
       "      <td>0.0</td>\n",
       "    </tr>\n",
       "    <tr>\n",
       "      <th>summonerId</th>\n",
       "      <td>summonerId</td>\n",
       "      <td>string</td>\n",
       "      <td>0</td>\n",
       "      <td>0.0</td>\n",
       "    </tr>\n",
       "    <tr>\n",
       "      <th>summonerName</th>\n",
       "      <td>summonerName</td>\n",
       "      <td>string</td>\n",
       "      <td>0</td>\n",
       "      <td>0.0</td>\n",
       "    </tr>\n",
       "    <tr>\n",
       "      <th>leaguePoints</th>\n",
       "      <td>leaguePoints</td>\n",
       "      <td>int64</td>\n",
       "      <td>0</td>\n",
       "      <td>0.0</td>\n",
       "    </tr>\n",
       "    <tr>\n",
       "      <th>wins</th>\n",
       "      <td>wins</td>\n",
       "      <td>int64</td>\n",
       "      <td>0</td>\n",
       "      <td>0.0</td>\n",
       "    </tr>\n",
       "    <tr>\n",
       "      <th>losses</th>\n",
       "      <td>losses</td>\n",
       "      <td>int64</td>\n",
       "      <td>0</td>\n",
       "      <td>0.0</td>\n",
       "    </tr>\n",
       "    <tr>\n",
       "      <th>veteran</th>\n",
       "      <td>veteran</td>\n",
       "      <td>bool</td>\n",
       "      <td>0</td>\n",
       "      <td>0.0</td>\n",
       "    </tr>\n",
       "    <tr>\n",
       "      <th>inactive</th>\n",
       "      <td>inactive</td>\n",
       "      <td>bool</td>\n",
       "      <td>0</td>\n",
       "      <td>0.0</td>\n",
       "    </tr>\n",
       "    <tr>\n",
       "      <th>freshBlood</th>\n",
       "      <td>freshBlood</td>\n",
       "      <td>bool</td>\n",
       "      <td>0</td>\n",
       "      <td>0.0</td>\n",
       "    </tr>\n",
       "    <tr>\n",
       "      <th>hotStreak</th>\n",
       "      <td>hotStreak</td>\n",
       "      <td>bool</td>\n",
       "      <td>0</td>\n",
       "      <td>0.0</td>\n",
       "    </tr>\n",
       "    <tr>\n",
       "      <th>summonerLevel</th>\n",
       "      <td>summonerLevel</td>\n",
       "      <td>int64</td>\n",
       "      <td>0</td>\n",
       "      <td>0.0</td>\n",
       "    </tr>\n",
       "    <tr>\n",
       "      <th>puuid</th>\n",
       "      <td>puuid</td>\n",
       "      <td>string</td>\n",
       "      <td>0</td>\n",
       "      <td>0.0</td>\n",
       "    </tr>\n",
       "  </tbody>\n",
       "</table>\n",
       "</div>"
      ],
      "text/plain": [
       "                       names     types  NA #  NA %\n",
       "tier                    tier  category     0   0.0\n",
       "summonerId        summonerId    string     0   0.0\n",
       "summonerName    summonerName    string     0   0.0\n",
       "leaguePoints    leaguePoints     int64     0   0.0\n",
       "wins                    wins     int64     0   0.0\n",
       "losses                losses     int64     0   0.0\n",
       "veteran              veteran      bool     0   0.0\n",
       "inactive            inactive      bool     0   0.0\n",
       "freshBlood        freshBlood      bool     0   0.0\n",
       "hotStreak          hotStreak      bool     0   0.0\n",
       "summonerLevel  summonerLevel     int64     0   0.0\n",
       "puuid                  puuid    string     0   0.0"
      ]
     },
     "execution_count": 92,
     "metadata": {},
     "output_type": "execute_result"
    }
   ],
   "source": [
    "### Dados faltantes\n",
    "getMissData(df_users_seed)"
   ]
  },
  {
   "cell_type": "code",
   "execution_count": 93,
   "metadata": {},
   "outputs": [
    {
     "data": {
      "text/html": [
       "<div>\n",
       "<style scoped>\n",
       "    .dataframe tbody tr th:only-of-type {\n",
       "        vertical-align: middle;\n",
       "    }\n",
       "\n",
       "    .dataframe tbody tr th {\n",
       "        vertical-align: top;\n",
       "    }\n",
       "\n",
       "    .dataframe thead th {\n",
       "        text-align: right;\n",
       "    }\n",
       "</style>\n",
       "<table border=\"1\" class=\"dataframe\">\n",
       "  <thead>\n",
       "    <tr style=\"text-align: right;\">\n",
       "      <th></th>\n",
       "      <th>names</th>\n",
       "      <th>types</th>\n",
       "      <th>NA #</th>\n",
       "      <th>NA %</th>\n",
       "    </tr>\n",
       "  </thead>\n",
       "  <tbody>\n",
       "    <tr>\n",
       "      <th>platformId</th>\n",
       "      <td>platformId</td>\n",
       "      <td>category</td>\n",
       "      <td>0</td>\n",
       "      <td>0.0</td>\n",
       "    </tr>\n",
       "    <tr>\n",
       "      <th>gameId</th>\n",
       "      <td>gameId</td>\n",
       "      <td>int64</td>\n",
       "      <td>0</td>\n",
       "      <td>0.0</td>\n",
       "    </tr>\n",
       "    <tr>\n",
       "      <th>champion</th>\n",
       "      <td>champion</td>\n",
       "      <td>int64</td>\n",
       "      <td>0</td>\n",
       "      <td>0.0</td>\n",
       "    </tr>\n",
       "    <tr>\n",
       "      <th>queue</th>\n",
       "      <td>queue</td>\n",
       "      <td>int64</td>\n",
       "      <td>0</td>\n",
       "      <td>0.0</td>\n",
       "    </tr>\n",
       "    <tr>\n",
       "      <th>season</th>\n",
       "      <td>season</td>\n",
       "      <td>int64</td>\n",
       "      <td>0</td>\n",
       "      <td>0.0</td>\n",
       "    </tr>\n",
       "    <tr>\n",
       "      <th>timestamp</th>\n",
       "      <td>timestamp</td>\n",
       "      <td>int64</td>\n",
       "      <td>0</td>\n",
       "      <td>0.0</td>\n",
       "    </tr>\n",
       "    <tr>\n",
       "      <th>role</th>\n",
       "      <td>role</td>\n",
       "      <td>category</td>\n",
       "      <td>0</td>\n",
       "      <td>0.0</td>\n",
       "    </tr>\n",
       "    <tr>\n",
       "      <th>lane</th>\n",
       "      <td>lane</td>\n",
       "      <td>category</td>\n",
       "      <td>0</td>\n",
       "      <td>0.0</td>\n",
       "    </tr>\n",
       "  </tbody>\n",
       "</table>\n",
       "</div>"
      ],
      "text/plain": [
       "                 names     types  NA #  NA %\n",
       "platformId  platformId  category     0   0.0\n",
       "gameId          gameId     int64     0   0.0\n",
       "champion      champion     int64     0   0.0\n",
       "queue            queue     int64     0   0.0\n",
       "season          season     int64     0   0.0\n",
       "timestamp    timestamp     int64     0   0.0\n",
       "role              role  category     0   0.0\n",
       "lane              lane  category     0   0.0"
      ]
     },
     "execution_count": 93,
     "metadata": {},
     "output_type": "execute_result"
    }
   ],
   "source": [
    "getMissData(df_matches_acc_id)"
   ]
  },
  {
   "cell_type": "code",
   "execution_count": 94,
   "metadata": {},
   "outputs": [
    {
     "data": {
      "text/html": [
       "<div>\n",
       "<style scoped>\n",
       "    .dataframe tbody tr th:only-of-type {\n",
       "        vertical-align: middle;\n",
       "    }\n",
       "\n",
       "    .dataframe tbody tr th {\n",
       "        vertical-align: top;\n",
       "    }\n",
       "\n",
       "    .dataframe thead th {\n",
       "        text-align: right;\n",
       "    }\n",
       "</style>\n",
       "<table border=\"1\" class=\"dataframe\">\n",
       "  <thead>\n",
       "    <tr style=\"text-align: right;\">\n",
       "      <th></th>\n",
       "      <th>names</th>\n",
       "      <th>types</th>\n",
       "      <th>NA #</th>\n",
       "      <th>NA %</th>\n",
       "    </tr>\n",
       "  </thead>\n",
       "  <tbody>\n",
       "    <tr>\n",
       "      <th>teamId</th>\n",
       "      <td>teamId</td>\n",
       "      <td>int64</td>\n",
       "      <td>0</td>\n",
       "      <td>0.000000</td>\n",
       "    </tr>\n",
       "    <tr>\n",
       "      <th>win</th>\n",
       "      <td>win</td>\n",
       "      <td>category</td>\n",
       "      <td>2</td>\n",
       "      <td>0.003297</td>\n",
       "    </tr>\n",
       "    <tr>\n",
       "      <th>firstBlood</th>\n",
       "      <td>firstBlood</td>\n",
       "      <td>bool</td>\n",
       "      <td>0</td>\n",
       "      <td>0.000000</td>\n",
       "    </tr>\n",
       "    <tr>\n",
       "      <th>firstTower</th>\n",
       "      <td>firstTower</td>\n",
       "      <td>bool</td>\n",
       "      <td>0</td>\n",
       "      <td>0.000000</td>\n",
       "    </tr>\n",
       "    <tr>\n",
       "      <th>firstInhibitor</th>\n",
       "      <td>firstInhibitor</td>\n",
       "      <td>bool</td>\n",
       "      <td>0</td>\n",
       "      <td>0.000000</td>\n",
       "    </tr>\n",
       "    <tr>\n",
       "      <th>firstBaron</th>\n",
       "      <td>firstBaron</td>\n",
       "      <td>bool</td>\n",
       "      <td>0</td>\n",
       "      <td>0.000000</td>\n",
       "    </tr>\n",
       "    <tr>\n",
       "      <th>firstDragon</th>\n",
       "      <td>firstDragon</td>\n",
       "      <td>bool</td>\n",
       "      <td>0</td>\n",
       "      <td>0.000000</td>\n",
       "    </tr>\n",
       "    <tr>\n",
       "      <th>firstRiftHerald</th>\n",
       "      <td>firstRiftHerald</td>\n",
       "      <td>bool</td>\n",
       "      <td>0</td>\n",
       "      <td>0.000000</td>\n",
       "    </tr>\n",
       "    <tr>\n",
       "      <th>towerKills</th>\n",
       "      <td>towerKills</td>\n",
       "      <td>int64</td>\n",
       "      <td>0</td>\n",
       "      <td>0.000000</td>\n",
       "    </tr>\n",
       "    <tr>\n",
       "      <th>inhibitorKills</th>\n",
       "      <td>inhibitorKills</td>\n",
       "      <td>int64</td>\n",
       "      <td>0</td>\n",
       "      <td>0.000000</td>\n",
       "    </tr>\n",
       "    <tr>\n",
       "      <th>baronKills</th>\n",
       "      <td>baronKills</td>\n",
       "      <td>int64</td>\n",
       "      <td>0</td>\n",
       "      <td>0.000000</td>\n",
       "    </tr>\n",
       "    <tr>\n",
       "      <th>dragonKills</th>\n",
       "      <td>dragonKills</td>\n",
       "      <td>int64</td>\n",
       "      <td>0</td>\n",
       "      <td>0.000000</td>\n",
       "    </tr>\n",
       "    <tr>\n",
       "      <th>vilemawKills</th>\n",
       "      <td>vilemawKills</td>\n",
       "      <td>int64</td>\n",
       "      <td>0</td>\n",
       "      <td>0.000000</td>\n",
       "    </tr>\n",
       "    <tr>\n",
       "      <th>riftHeraldKills</th>\n",
       "      <td>riftHeraldKills</td>\n",
       "      <td>int64</td>\n",
       "      <td>0</td>\n",
       "      <td>0.000000</td>\n",
       "    </tr>\n",
       "    <tr>\n",
       "      <th>dominionVictoryScore</th>\n",
       "      <td>dominionVictoryScore</td>\n",
       "      <td>int64</td>\n",
       "      <td>0</td>\n",
       "      <td>0.000000</td>\n",
       "    </tr>\n",
       "    <tr>\n",
       "      <th>bans</th>\n",
       "      <td>bans</td>\n",
       "      <td>object</td>\n",
       "      <td>0</td>\n",
       "      <td>0.000000</td>\n",
       "    </tr>\n",
       "  </tbody>\n",
       "</table>\n",
       "</div>"
      ],
      "text/plain": [
       "                                     names     types  NA #      NA %\n",
       "teamId                              teamId     int64     0  0.000000\n",
       "win                                    win  category     2  0.003297\n",
       "firstBlood                      firstBlood      bool     0  0.000000\n",
       "firstTower                      firstTower      bool     0  0.000000\n",
       "firstInhibitor              firstInhibitor      bool     0  0.000000\n",
       "firstBaron                      firstBaron      bool     0  0.000000\n",
       "firstDragon                    firstDragon      bool     0  0.000000\n",
       "firstRiftHerald            firstRiftHerald      bool     0  0.000000\n",
       "towerKills                      towerKills     int64     0  0.000000\n",
       "inhibitorKills              inhibitorKills     int64     0  0.000000\n",
       "baronKills                      baronKills     int64     0  0.000000\n",
       "dragonKills                    dragonKills     int64     0  0.000000\n",
       "vilemawKills                  vilemawKills     int64     0  0.000000\n",
       "riftHeraldKills            riftHeraldKills     int64     0  0.000000\n",
       "dominionVictoryScore  dominionVictoryScore     int64     0  0.000000\n",
       "bans                                  bans    object     0  0.000000"
      ]
     },
     "execution_count": 94,
     "metadata": {},
     "output_type": "execute_result"
    }
   ],
   "source": [
    "getMissData(df_match_stats)"
   ]
  },
  {
   "cell_type": "code",
   "execution_count": 95,
   "metadata": {},
   "outputs": [
    {
     "data": {
      "text/html": [
       "<div>\n",
       "<style scoped>\n",
       "    .dataframe tbody tr th:only-of-type {\n",
       "        vertical-align: middle;\n",
       "    }\n",
       "\n",
       "    .dataframe tbody tr th {\n",
       "        vertical-align: top;\n",
       "    }\n",
       "\n",
       "    .dataframe thead th {\n",
       "        text-align: right;\n",
       "    }\n",
       "</style>\n",
       "<table border=\"1\" class=\"dataframe\">\n",
       "  <thead>\n",
       "    <tr style=\"text-align: right;\">\n",
       "      <th></th>\n",
       "      <th>names</th>\n",
       "      <th>types</th>\n",
       "      <th>NA #</th>\n",
       "      <th>NA %</th>\n",
       "    </tr>\n",
       "  </thead>\n",
       "  <tbody>\n",
       "    <tr>\n",
       "      <th>champion</th>\n",
       "      <td>champion</td>\n",
       "      <td>int64</td>\n",
       "      <td>0</td>\n",
       "      <td>0.0</td>\n",
       "    </tr>\n",
       "    <tr>\n",
       "      <th>spell1</th>\n",
       "      <td>spell1</td>\n",
       "      <td>int64</td>\n",
       "      <td>0</td>\n",
       "      <td>0.0</td>\n",
       "    </tr>\n",
       "    <tr>\n",
       "      <th>spell2</th>\n",
       "      <td>spell2</td>\n",
       "      <td>int64</td>\n",
       "      <td>0</td>\n",
       "      <td>0.0</td>\n",
       "    </tr>\n",
       "    <tr>\n",
       "      <th>win</th>\n",
       "      <td>win</td>\n",
       "      <td>bool</td>\n",
       "      <td>0</td>\n",
       "      <td>0.0</td>\n",
       "    </tr>\n",
       "    <tr>\n",
       "      <th>kills</th>\n",
       "      <td>kills</td>\n",
       "      <td>int64</td>\n",
       "      <td>0</td>\n",
       "      <td>0.0</td>\n",
       "    </tr>\n",
       "    <tr>\n",
       "      <th>deaths</th>\n",
       "      <td>deaths</td>\n",
       "      <td>int64</td>\n",
       "      <td>0</td>\n",
       "      <td>0.0</td>\n",
       "    </tr>\n",
       "    <tr>\n",
       "      <th>assists</th>\n",
       "      <td>assists</td>\n",
       "      <td>int64</td>\n",
       "      <td>0</td>\n",
       "      <td>0.0</td>\n",
       "    </tr>\n",
       "    <tr>\n",
       "      <th>totalDamageDealt</th>\n",
       "      <td>totalDamageDealt</td>\n",
       "      <td>int64</td>\n",
       "      <td>0</td>\n",
       "      <td>0.0</td>\n",
       "    </tr>\n",
       "    <tr>\n",
       "      <th>goldEarned</th>\n",
       "      <td>goldEarned</td>\n",
       "      <td>int64</td>\n",
       "      <td>0</td>\n",
       "      <td>0.0</td>\n",
       "    </tr>\n",
       "    <tr>\n",
       "      <th>champLevel</th>\n",
       "      <td>champLevel</td>\n",
       "      <td>int64</td>\n",
       "      <td>0</td>\n",
       "      <td>0.0</td>\n",
       "    </tr>\n",
       "    <tr>\n",
       "      <th>totalMinionsKilled</th>\n",
       "      <td>totalMinionsKilled</td>\n",
       "      <td>int64</td>\n",
       "      <td>0</td>\n",
       "      <td>0.0</td>\n",
       "    </tr>\n",
       "    <tr>\n",
       "      <th>item0</th>\n",
       "      <td>item0</td>\n",
       "      <td>int64</td>\n",
       "      <td>0</td>\n",
       "      <td>0.0</td>\n",
       "    </tr>\n",
       "    <tr>\n",
       "      <th>item1</th>\n",
       "      <td>item1</td>\n",
       "      <td>int64</td>\n",
       "      <td>0</td>\n",
       "      <td>0.0</td>\n",
       "    </tr>\n",
       "  </tbody>\n",
       "</table>\n",
       "</div>"
      ],
      "text/plain": [
       "                                 names  types  NA #  NA %\n",
       "champion                      champion  int64     0   0.0\n",
       "spell1                          spell1  int64     0   0.0\n",
       "spell2                          spell2  int64     0   0.0\n",
       "win                                win   bool     0   0.0\n",
       "kills                            kills  int64     0   0.0\n",
       "deaths                          deaths  int64     0   0.0\n",
       "assists                        assists  int64     0   0.0\n",
       "totalDamageDealt      totalDamageDealt  int64     0   0.0\n",
       "goldEarned                  goldEarned  int64     0   0.0\n",
       "champLevel                  champLevel  int64     0   0.0\n",
       "totalMinionsKilled  totalMinionsKilled  int64     0   0.0\n",
       "item0                            item0  int64     0   0.0\n",
       "item1                            item1  int64     0   0.0"
      ]
     },
     "execution_count": 95,
     "metadata": {},
     "output_type": "execute_result"
    }
   ],
   "source": [
    "getMissData(df_players_matches_stats)"
   ]
  },
  {
   "cell_type": "markdown",
   "metadata": {},
   "source": [
    "**Como os dados foram obtidos através de api, não temos dados faltantes**"
   ]
  },
  {
   "cell_type": "markdown",
   "metadata": {},
   "source": [
    "## Detecção de Outliers"
   ]
  },
  {
   "cell_type": "markdown",
   "metadata": {},
   "source": [
    "**No League of legends, o que pode ser considerado um outlier? Primeiro vamos analisar as vitórias e derrotas do jogador**"
   ]
  },
  {
   "cell_type": "code",
   "execution_count": 96,
   "metadata": {},
   "outputs": [
    {
     "data": {
      "text/html": [
       "<div>\n",
       "<style scoped>\n",
       "    .dataframe tbody tr th:only-of-type {\n",
       "        vertical-align: middle;\n",
       "    }\n",
       "\n",
       "    .dataframe tbody tr th {\n",
       "        vertical-align: top;\n",
       "    }\n",
       "\n",
       "    .dataframe thead th {\n",
       "        text-align: right;\n",
       "    }\n",
       "</style>\n",
       "<table border=\"1\" class=\"dataframe\">\n",
       "  <thead>\n",
       "    <tr style=\"text-align: right;\">\n",
       "      <th></th>\n",
       "      <th>wins</th>\n",
       "      <th>losses</th>\n",
       "    </tr>\n",
       "  </thead>\n",
       "  <tbody>\n",
       "    <tr>\n",
       "      <th>count</th>\n",
       "      <td>2661.000000</td>\n",
       "      <td>2661.000000</td>\n",
       "    </tr>\n",
       "    <tr>\n",
       "      <th>mean</th>\n",
       "      <td>320.681323</td>\n",
       "      <td>290.610673</td>\n",
       "    </tr>\n",
       "    <tr>\n",
       "      <th>std</th>\n",
       "      <td>207.561816</td>\n",
       "      <td>206.441510</td>\n",
       "    </tr>\n",
       "    <tr>\n",
       "      <th>min</th>\n",
       "      <td>20.000000</td>\n",
       "      <td>8.000000</td>\n",
       "    </tr>\n",
       "    <tr>\n",
       "      <th>25%</th>\n",
       "      <td>172.000000</td>\n",
       "      <td>141.000000</td>\n",
       "    </tr>\n",
       "    <tr>\n",
       "      <th>50%</th>\n",
       "      <td>269.000000</td>\n",
       "      <td>239.000000</td>\n",
       "    </tr>\n",
       "    <tr>\n",
       "      <th>75%</th>\n",
       "      <td>421.000000</td>\n",
       "      <td>390.000000</td>\n",
       "    </tr>\n",
       "    <tr>\n",
       "      <th>max</th>\n",
       "      <td>1363.000000</td>\n",
       "      <td>1338.000000</td>\n",
       "    </tr>\n",
       "  </tbody>\n",
       "</table>\n",
       "</div>"
      ],
      "text/plain": [
       "              wins       losses\n",
       "count  2661.000000  2661.000000\n",
       "mean    320.681323   290.610673\n",
       "std     207.561816   206.441510\n",
       "min      20.000000     8.000000\n",
       "25%     172.000000   141.000000\n",
       "50%     269.000000   239.000000\n",
       "75%     421.000000   390.000000\n",
       "max    1363.000000  1338.000000"
      ]
     },
     "execution_count": 96,
     "metadata": {},
     "output_type": "execute_result"
    }
   ],
   "source": [
    "df_users_seed[['wins','losses']].describe()"
   ]
  },
  {
   "cell_type": "code",
   "execution_count": 97,
   "metadata": {},
   "outputs": [
    {
     "data": {
      "text/plain": [
       "<matplotlib.axes._subplots.AxesSubplot at 0x2aed956ef10>"
      ]
     },
     "execution_count": 97,
     "metadata": {},
     "output_type": "execute_result"
    },
    {
     "data": {
      "image/png": "[encoded data removed]",
      "text/plain": [
       "<Figure size 432x288 with 1 Axes>"
      ]
     },
     "metadata": {
      "needs_background": "light"
     },
     "output_type": "display_data"
    }
   ],
   "source": [
    "df_users_seed.boxplot(column=['wins', 'losses'])"
   ]
  },
  {
   "cell_type": "markdown",
   "metadata": {},
   "source": [
    "**Como alguns player jogam a mais tempo, não podemos analisar esse número isoladamente, por isso vamos ver em relação ao tempo de jogo, que podemos considerar como o Summoner Level**"
   ]
  },
  {
   "cell_type": "code",
   "execution_count": 98,
   "metadata": {},
   "outputs": [
    {
     "data": {
      "text/plain": [
       "<matplotlib.axes._subplots.AxesSubplot at 0x2aed9408580>"
      ]
     },
     "execution_count": 98,
     "metadata": {},
     "output_type": "execute_result"
    },
    {
     "data": {
      "image/png": "[encoded data removed]",
      "text/plain": [
       "<Figure size 432x288 with 1 Axes>"
      ]
     },
     "metadata": {
      "needs_background": "light"
     },
     "output_type": "display_data"
    }
   ],
   "source": [
    "\n",
    "df_users_seed.plot.scatter(x='summonerLevel', y='losses')"
   ]
  },
  {
   "cell_type": "code",
   "execution_count": 99,
   "metadata": {
    "scrolled": true
   },
   "outputs": [
    {
     "data": {
      "text/plain": [
       "<matplotlib.axes._subplots.AxesSubplot at 0x2aed8afd5b0>"
      ]
     },
     "execution_count": 99,
     "metadata": {},
     "output_type": "execute_result"
    },
    {
     "data": {
      "image/png": "[encoded data removed]",
      "text/plain": [
       "<Figure size 432x288 with 1 Axes>"
      ]
     },
     "metadata": {
      "needs_background": "light"
     },
     "output_type": "display_data"
    }
   ],
   "source": [
    "df_users_seed.plot.scatter(x='summonerLevel', y='wins')"
   ]
  },
  {
   "cell_type": "markdown",
   "metadata": {},
   "source": [
    "**O problema de usar o summoner level é porque até um certo tempo, existia um limite de level no League of Legends, onde jogadores podiam chegar somente até o level 30, mas o número de vitorias e derrotas continuava subindo. Por conta desse limite, faz sentido tentarmos agrupar por tiers**\n"
   ]
  },
  {
   "cell_type": "code",
   "execution_count": 100,
   "metadata": {},
   "outputs": [
    {
     "data": {
      "text/html": [
       "<div>\n",
       "<style scoped>\n",
       "    .dataframe tbody tr th:only-of-type {\n",
       "        vertical-align: middle;\n",
       "    }\n",
       "\n",
       "    .dataframe tbody tr th {\n",
       "        vertical-align: top;\n",
       "    }\n",
       "\n",
       "    .dataframe thead th {\n",
       "        text-align: right;\n",
       "    }\n",
       "</style>\n",
       "<table border=\"1\" class=\"dataframe\">\n",
       "  <thead>\n",
       "    <tr style=\"text-align: right;\">\n",
       "      <th></th>\n",
       "      <th>wins</th>\n",
       "      <th>losses</th>\n",
       "    </tr>\n",
       "    <tr>\n",
       "      <th>tier</th>\n",
       "      <th></th>\n",
       "      <th></th>\n",
       "    </tr>\n",
       "  </thead>\n",
       "  <tbody>\n",
       "    <tr>\n",
       "      <th>DIAMONDI</th>\n",
       "      <td>276.444444</td>\n",
       "      <td>252.752525</td>\n",
       "    </tr>\n",
       "    <tr>\n",
       "      <th>DIAMONDII</th>\n",
       "      <td>238.631313</td>\n",
       "      <td>220.585859</td>\n",
       "    </tr>\n",
       "    <tr>\n",
       "      <th>DIAMONDIII</th>\n",
       "      <td>224.860697</td>\n",
       "      <td>210.104478</td>\n",
       "    </tr>\n",
       "    <tr>\n",
       "      <th>DIAMONDIV</th>\n",
       "      <td>212.213198</td>\n",
       "      <td>200.507614</td>\n",
       "    </tr>\n",
       "    <tr>\n",
       "      <th>MASTER</th>\n",
       "      <td>355.835565</td>\n",
       "      <td>320.226567</td>\n",
       "    </tr>\n",
       "  </tbody>\n",
       "</table>\n",
       "</div>"
      ],
      "text/plain": [
       "                  wins      losses\n",
       "tier                              \n",
       "DIAMONDI    276.444444  252.752525\n",
       "DIAMONDII   238.631313  220.585859\n",
       "DIAMONDIII  224.860697  210.104478\n",
       "DIAMONDIV   212.213198  200.507614\n",
       "MASTER      355.835565  320.226567"
      ]
     },
     "execution_count": 100,
     "metadata": {},
     "output_type": "execute_result"
    }
   ],
   "source": [
    "df_users_by_tier = df_users_seed.groupby(['tier'])\n",
    "df_users_by_tier[['wins','losses']].mean()"
   ]
  },
  {
   "cell_type": "code",
   "execution_count": 101,
   "metadata": {},
   "outputs": [
    {
     "data": {
      "text/plain": [
       "DIAMONDI           AxesSubplot(0.1,0.679412;0.363636x0.220588)\n",
       "DIAMONDII     AxesSubplot(0.536364,0.679412;0.363636x0.220588)\n",
       "DIAMONDIII         AxesSubplot(0.1,0.414706;0.363636x0.220588)\n",
       "DIAMONDIV     AxesSubplot(0.536364,0.414706;0.363636x0.220588)\n",
       "MASTER                 AxesSubplot(0.1,0.15;0.363636x0.220588)\n",
       "dtype: object"
      ]
     },
     "execution_count": 101,
     "metadata": {},
     "output_type": "execute_result"
    },
    {
     "data": {
      "image/png": "[encoded data removed]",
      "text/plain": [
       "<Figure size 432x288 with 6 Axes>"
      ]
     },
     "metadata": {
      "needs_background": "light"
     },
     "output_type": "display_data"
    }
   ],
   "source": [
    "df_users_by_tier.boxplot(column=['wins','losses'])"
   ]
  },
  {
   "cell_type": "markdown",
   "metadata": {},
   "source": [
    "**Por tier nós entramos na questão se o jogador é bom ou não, então vale a pena vermos a relação entre as duas variáveis**"
   ]
  },
  {
   "cell_type": "code",
   "execution_count": 102,
   "metadata": {},
   "outputs": [
    {
     "data": {
      "text/plain": [
       "<matplotlib.axes._subplots.AxesSubplot at 0x2aed9457e80>"
      ]
     },
     "execution_count": 102,
     "metadata": {},
     "output_type": "execute_result"
    },
    {
     "data": {
      "image/png": "[encoded data removed]",
      "text/plain": [
       "<Figure size 432x288 with 1 Axes>"
      ]
     },
     "metadata": {
      "needs_background": "light"
     },
     "output_type": "display_data"
    }
   ],
   "source": [
    "df_users_seed.plot.scatter(x='wins', y='losses')"
   ]
  },
  {
   "cell_type": "markdown",
   "metadata": {},
   "source": [
    "**Pelo grafico, podemos ver que o mais comum é a pessoa ter a mesma quantidade de vitórias que derrotas, então os valores não são necessáriamente outliers**"
   ]
  },
  {
   "cell_type": "markdown",
   "metadata": {},
   "source": [
    "**Save Post Processed Data**"
   ]
  },
  {
   "cell_type": "code",
   "execution_count": 103,
   "metadata": {},
   "outputs": [],
   "source": [
    "df_users_seed.to_csv(\"SummonerFinalData_PP.csv\")\n",
    "\n",
    "df_matches_acc_id.to_csv(\"matchByAccounbtIdFiltered10_PP.csv\")\n",
    "\n",
    "df_match_stats.to_csv(\"dataMatchesStats_PP.csv\")\n",
    "\n",
    "df_players_matches_stats.to_csv(\"playersMatchesStats_PP.csv\")"
   ]
  },
  {
   "cell_type": "code",
   "execution_count": null,
   "metadata": {},
   "outputs": [],
   "source": []
  }
 ],
 "metadata": {
  "kernelspec": {
   "display_name": "Python 3",
   "language": "python",
   "name": "python3"
  },
  "language_info": {
   "codemirror_mode": {
    "name": "ipython",
    "version": 3
   },
   "file_extension": ".py",
   "mimetype": "text/x-python",
   "name": "python",
   "nbconvert_exporter": "python",
   "pygments_lexer": "ipython3",
   "version": "3.8.3"
  }
 },
 "nbformat": 4,
 "nbformat_minor": 4
}
