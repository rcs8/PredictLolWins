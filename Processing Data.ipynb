{
 "cells": [
  {
   "cell_type": "code",
   "execution_count": 1,
   "metadata": {},
   "outputs": [],
   "source": [
    "import pandas as pd\n",
    "import numpy as np"
   ]
  },
  {
   "cell_type": "markdown",
   "metadata": {},
   "source": [
    "#### Nesa etapa iremos fazer a definição de tipos, bem como o tratamentos dos dados faltantes,normalização, discretização e limpeza do dados. Todo o processo de pré processamento."
   ]
  },
  {
   "cell_type": "code",
   "execution_count": 36,
   "metadata": {},
   "outputs": [],
   "source": [
    "###Essa base é a base seed, através dos ids dos jogadores, iremos fazer os joins até chegar\n",
    "###na base final utilizada nessa etapa\n",
    "df_users_seed = pd.read_csv(\"SummonerFinalData.csv\", index_col = 'accountId')\n",
    "\n",
    "### Lista das 10 ultimas partidas de cada jogador na base seed. \n",
    "df_matches_acc_id = pd.read_csv(\"matchByAccounbtIdFiltered10.csv\", index_col = 'accountId')\n",
    "\n",
    "### Estatisticas de cada time dentro das partidas\n",
    "df_match_stats = pd.read_csv(\"dataMatchesStats.csv\", index_col = 'gameId')\n",
    "\n",
    "### Estatisticas \n",
    "df_players_matches_stats = pd.read_csv(\"playersMatchesStats.csv\", index_col = 'gameId')"
   ]
  },
  {
   "cell_type": "code",
   "execution_count": 23,
   "metadata": {},
   "outputs": [
    {
     "name": "stdout",
     "output_type": "stream",
     "text": [
      "(2661, 13)\n",
      "Unnamed: 0        int64\n",
      "tier             object\n",
      "summonerId       object\n",
      "summonerName     object\n",
      "leaguePoints      int64\n",
      "wins              int64\n",
      "losses            int64\n",
      "veteran            bool\n",
      "inactive           bool\n",
      "freshBlood         bool\n",
      "hotStreak          bool\n",
      "summonerLevel     int64\n",
      "puuid            object\n",
      "dtype: object\n"
     ]
    }
   ],
   "source": [
    "####Print de algumas informações basicas######\n",
    "print(df_users_seed.shape)\n",
    "print(df_users_seed.dtypes)"
   ]
  },
  {
   "cell_type": "code",
   "execution_count": 24,
   "metadata": {},
   "outputs": [
    {
     "name": "stdout",
     "output_type": "stream",
     "text": [
      "(53720, 8)\n",
      "platformId    object\n",
      "gameId         int64\n",
      "champion       int64\n",
      "queue          int64\n",
      "season         int64\n",
      "timestamp      int64\n",
      "role          object\n",
      "lane          object\n",
      "dtype: object\n"
     ]
    }
   ],
   "source": [
    "print(df_matches_acc_id.shape)\n",
    "print(df_matches_acc_id.dtypes)"
   ]
  },
  {
   "cell_type": "code",
   "execution_count": 25,
   "metadata": {},
   "outputs": [
    {
     "name": "stdout",
     "output_type": "stream",
     "text": [
      "(60654, 16)\n",
      "teamId                   int64\n",
      "win                     object\n",
      "firstBlood                bool\n",
      "firstTower                bool\n",
      "firstInhibitor            bool\n",
      "firstBaron                bool\n",
      "firstDragon               bool\n",
      "firstRiftHerald           bool\n",
      "towerKills               int64\n",
      "inhibitorKills           int64\n",
      "baronKills               int64\n",
      "dragonKills              int64\n",
      "vilemawKills             int64\n",
      "riftHeraldKills          int64\n",
      "dominionVictoryScore     int64\n",
      "bans                    object\n",
      "dtype: object\n"
     ]
    }
   ],
   "source": [
    "print(df_match_stats.shape)\n",
    "print(df_match_stats.dtypes)"
   ]
  },
  {
   "cell_type": "code",
   "execution_count": 26,
   "metadata": {},
   "outputs": [
    {
     "name": "stdout",
     "output_type": "stream",
     "text": [
      "(303252, 13)\n",
      "champion              int64\n",
      "spell1                int64\n",
      "spell2                int64\n",
      "win                    bool\n",
      "kills                 int64\n",
      "deaths                int64\n",
      "assists               int64\n",
      "totalDamageDealt      int64\n",
      "goldEarned            int64\n",
      "champLevel            int64\n",
      "totalMinionsKilled    int64\n",
      "item0                 int64\n",
      "item1                 int64\n",
      "dtype: object\n"
     ]
    }
   ],
   "source": [
    "print(df_players_matches_stats.shape)\n",
    "print(df_players_matches_stats.dtypes)"
   ]
  },
  {
   "cell_type": "code",
   "execution_count": 73,
   "metadata": {},
   "outputs": [],
   "source": [
    "###Checar com professor a questão de tipagem."
   ]
  },
  {
   "cell_type": "code",
   "execution_count": 27,
   "metadata": {},
   "outputs": [],
   "source": [
    "####Dropando essa coluna intrusa\n",
    "df_users_seed.drop('Unnamed: 0', axis = 1, inplace=True)"
   ]
  },
  {
   "cell_type": "markdown",
   "metadata": {},
   "source": [
    "**Ajuste de Tipos**"
   ]
  },
  {
   "cell_type": "code",
   "execution_count": 28,
   "metadata": {},
   "outputs": [
    {
     "name": "stdout",
     "output_type": "stream",
     "text": [
      "tier             category\n",
      "summonerId         string\n",
      "summonerName       string\n",
      "leaguePoints        int64\n",
      "wins                int64\n",
      "losses              int64\n",
      "veteran              bool\n",
      "inactive             bool\n",
      "freshBlood           bool\n",
      "hotStreak            bool\n",
      "summonerLevel       int64\n",
      "puuid              string\n",
      "dtype: object\n",
      "Index(['DIAMONDI', 'DIAMONDII', 'DIAMONDIII', 'DIAMONDIV', 'MASTER'], dtype='object')\n"
     ]
    }
   ],
   "source": [
    "### Ajuste de tipos da base de usuários\n",
    "\n",
    "### Minha dúvida é se identificadores como (puuid ou summonerId são categoricos ou string, porque categorico é tecnicamente finito)\n",
    "df_users_seed['tier'] = df_users_seed['tier'].astype('category')\n",
    "df_users_seed['summonerId'] = df_users_seed['summonerId'].astype('string')\n",
    "df_users_seed['summonerName'] = df_users_seed['summonerName'].astype('string')\n",
    "df_users_seed['puuid'] = df_users_seed['puuid'].astype('string')\n",
    "\n",
    "print(df_users_seed.dtypes)\n",
    "print(df_users_seed['tier'].cat.categories)\n",
    "# df_users_seed.head()"
   ]
  },
  {
   "cell_type": "code",
   "execution_count": 29,
   "metadata": {
    "scrolled": true
   },
   "outputs": [
    {
     "name": "stdout",
     "output_type": "stream",
     "text": [
      "platformId    category\n",
      "gameId           int64\n",
      "champion         int64\n",
      "queue            int64\n",
      "season           int64\n",
      "timestamp        int64\n",
      "role          category\n",
      "lane          category\n",
      "dtype: object\n",
      "Index(['BR1'], dtype='object')\n",
      "Index(['DUO', 'DUO_CARRY', 'DUO_SUPPORT', 'NONE', 'SOLO'], dtype='object')\n",
      "Index(['BOTTOM', 'JUNGLE', 'MID', 'NONE', 'TOP'], dtype='object')\n"
     ]
    }
   ],
   "source": [
    "### Ajuste de tipos da lista de partidas\n",
    "\n",
    "### Platform ID pode ser considerado uma categoria mesmo só tendo dados de BR1? Season pode ser uma categoria?\n",
    "df_matches_acc_id['platformId'] = df_matches_acc_id['platformId'].astype('category')\n",
    "df_matches_acc_id['role'] = df_matches_acc_id['role'].astype('category')\n",
    "df_matches_acc_id['lane'] = df_matches_acc_id['lane'].astype('category')\n",
    "\n",
    "print(df_matches_acc_id.dtypes)\n",
    "print(df_matches_acc_id['platformId'].cat.categories)\n",
    "print(df_matches_acc_id['role'].cat.categories)\n",
    "print(df_matches_acc_id['lane'].cat.categories)"
   ]
  },
  {
   "cell_type": "code",
   "execution_count": 38,
   "metadata": {},
   "outputs": [
    {
     "name": "stdout",
     "output_type": "stream",
     "text": [
      "teamId                     int64\n",
      "win                     category\n",
      "firstBlood                  bool\n",
      "firstTower                  bool\n",
      "firstInhibitor              bool\n",
      "firstBaron                  bool\n",
      "firstDragon                 bool\n",
      "firstRiftHerald             bool\n",
      "towerKills                 int64\n",
      "inhibitorKills             int64\n",
      "baronKills                 int64\n",
      "dragonKills                int64\n",
      "vilemawKills               int64\n",
      "riftHeraldKills            int64\n",
      "dominionVictoryScore       int64\n",
      "bans                      object\n",
      "dtype: object\n",
      "Index(['Fail', 'Win'], dtype='object')\n"
     ]
    }
   ],
   "source": [
    "### Ajuste d etipos das estatisticas da partida\n",
    "\n",
    "df_match_stats['win'] = df_match_stats['win'].astype('category')\n",
    "\n",
    "print(df_match_stats.dtypes)\n",
    "print(df_match_stats['win'].cat.categories)"
   ]
  },
  {
   "cell_type": "code",
   "execution_count": 39,
   "metadata": {},
   "outputs": [
    {
     "data": {
      "text/plain": [
       "champion              int64\n",
       "spell1                int64\n",
       "spell2                int64\n",
       "win                    bool\n",
       "kills                 int64\n",
       "deaths                int64\n",
       "assists               int64\n",
       "totalDamageDealt      int64\n",
       "goldEarned            int64\n",
       "champLevel            int64\n",
       "totalMinionsKilled    int64\n",
       "item0                 int64\n",
       "item1                 int64\n",
       "dtype: object"
      ]
     },
     "execution_count": 39,
     "metadata": {},
     "output_type": "execute_result"
    }
   ],
   "source": [
    "### Ajuste de tipos das estatisticas do jogador na partida\n",
    "\n",
    "df_players_matches_stats.dtypes"
   ]
  },
  {
   "cell_type": "markdown",
   "metadata": {},
   "source": [
    "**Checagem de dados faltantes**"
   ]
  },
  {
   "cell_type": "code",
   "execution_count": null,
   "metadata": {},
   "outputs": [],
   "source": [
    "def getMissData(df):\n",
    "     return pd.DataFrame({'names' : df.columns, 'types' : df.dtypes, 'NA #': df.isna().sum(), 'NA %' : (df.isna().sum() / df.shape[0]) * 100})\n",
    "    "
   ]
  },
  {
   "cell_type": "code",
   "execution_count": 83,
   "metadata": {
    "scrolled": true
   },
   "outputs": [
    {
     "data": {
      "text/html": [
       "<div>\n",
       "<style scoped>\n",
       "    .dataframe tbody tr th:only-of-type {\n",
       "        vertical-align: middle;\n",
       "    }\n",
       "\n",
       "    .dataframe tbody tr th {\n",
       "        vertical-align: top;\n",
       "    }\n",
       "\n",
       "    .dataframe thead th {\n",
       "        text-align: right;\n",
       "    }\n",
       "</style>\n",
       "<table border=\"1\" class=\"dataframe\">\n",
       "  <thead>\n",
       "    <tr style=\"text-align: right;\">\n",
       "      <th></th>\n",
       "      <th>names</th>\n",
       "      <th>types</th>\n",
       "      <th>NA #</th>\n",
       "      <th>NA %</th>\n",
       "    </tr>\n",
       "  </thead>\n",
       "  <tbody>\n",
       "    <tr>\n",
       "      <th>tier</th>\n",
       "      <td>tier</td>\n",
       "      <td>category</td>\n",
       "      <td>0</td>\n",
       "      <td>0.0</td>\n",
       "    </tr>\n",
       "    <tr>\n",
       "      <th>summonerId</th>\n",
       "      <td>summonerId</td>\n",
       "      <td>string</td>\n",
       "      <td>0</td>\n",
       "      <td>0.0</td>\n",
       "    </tr>\n",
       "    <tr>\n",
       "      <th>summonerName</th>\n",
       "      <td>summonerName</td>\n",
       "      <td>string</td>\n",
       "      <td>0</td>\n",
       "      <td>0.0</td>\n",
       "    </tr>\n",
       "    <tr>\n",
       "      <th>leaguePoints</th>\n",
       "      <td>leaguePoints</td>\n",
       "      <td>int64</td>\n",
       "      <td>0</td>\n",
       "      <td>0.0</td>\n",
       "    </tr>\n",
       "    <tr>\n",
       "      <th>wins</th>\n",
       "      <td>wins</td>\n",
       "      <td>int64</td>\n",
       "      <td>0</td>\n",
       "      <td>0.0</td>\n",
       "    </tr>\n",
       "    <tr>\n",
       "      <th>losses</th>\n",
       "      <td>losses</td>\n",
       "      <td>int64</td>\n",
       "      <td>0</td>\n",
       "      <td>0.0</td>\n",
       "    </tr>\n",
       "    <tr>\n",
       "      <th>veteran</th>\n",
       "      <td>veteran</td>\n",
       "      <td>bool</td>\n",
       "      <td>0</td>\n",
       "      <td>0.0</td>\n",
       "    </tr>\n",
       "    <tr>\n",
       "      <th>inactive</th>\n",
       "      <td>inactive</td>\n",
       "      <td>bool</td>\n",
       "      <td>0</td>\n",
       "      <td>0.0</td>\n",
       "    </tr>\n",
       "    <tr>\n",
       "      <th>freshBlood</th>\n",
       "      <td>freshBlood</td>\n",
       "      <td>bool</td>\n",
       "      <td>0</td>\n",
       "      <td>0.0</td>\n",
       "    </tr>\n",
       "    <tr>\n",
       "      <th>hotStreak</th>\n",
       "      <td>hotStreak</td>\n",
       "      <td>bool</td>\n",
       "      <td>0</td>\n",
       "      <td>0.0</td>\n",
       "    </tr>\n",
       "    <tr>\n",
       "      <th>summonerLevel</th>\n",
       "      <td>summonerLevel</td>\n",
       "      <td>int64</td>\n",
       "      <td>0</td>\n",
       "      <td>0.0</td>\n",
       "    </tr>\n",
       "    <tr>\n",
       "      <th>puuid</th>\n",
       "      <td>puuid</td>\n",
       "      <td>string</td>\n",
       "      <td>0</td>\n",
       "      <td>0.0</td>\n",
       "    </tr>\n",
       "  </tbody>\n",
       "</table>\n",
       "</div>"
      ],
      "text/plain": [
       "                       names     types  NA #  NA %\n",
       "tier                    tier  category     0   0.0\n",
       "summonerId        summonerId    string     0   0.0\n",
       "summonerName    summonerName    string     0   0.0\n",
       "leaguePoints    leaguePoints     int64     0   0.0\n",
       "wins                    wins     int64     0   0.0\n",
       "losses                losses     int64     0   0.0\n",
       "veteran              veteran      bool     0   0.0\n",
       "inactive            inactive      bool     0   0.0\n",
       "freshBlood        freshBlood      bool     0   0.0\n",
       "hotStreak          hotStreak      bool     0   0.0\n",
       "summonerLevel  summonerLevel     int64     0   0.0\n",
       "puuid                  puuid    string     0   0.0"
      ]
     },
     "execution_count": 83,
     "metadata": {},
     "output_type": "execute_result"
    }
   ],
   "source": [
    "### Dados faltantes\n",
    "getMissData(df_users_seed)"
   ]
  },
  {
   "cell_type": "code",
   "execution_count": 78,
   "metadata": {},
   "outputs": [],
   "source": [
    "### Como os dados foram obtidos através de api, não temos dados faltantes"
   ]
  },
  {
   "cell_type": "code",
   "execution_count": 79,
   "metadata": {},
   "outputs": [
    {
     "data": {
      "text/plain": [
       "Index(['platformId', 'gameId', 'champion', 'queue', 'season', 'timestamp',\n",
       "       'role', 'lane'],\n",
       "      dtype='object')"
      ]
     },
     "execution_count": 79,
     "metadata": {},
     "output_type": "execute_result"
    }
   ],
   "source": [
    "df_matches_acc_id.columns"
   ]
  },
  {
   "cell_type": "code",
   "execution_count": 80,
   "metadata": {},
   "outputs": [
    {
     "data": {
      "text/html": [
       "<div>\n",
       "<style scoped>\n",
       "    .dataframe tbody tr th:only-of-type {\n",
       "        vertical-align: middle;\n",
       "    }\n",
       "\n",
       "    .dataframe tbody tr th {\n",
       "        vertical-align: top;\n",
       "    }\n",
       "\n",
       "    .dataframe thead th {\n",
       "        text-align: right;\n",
       "    }\n",
       "</style>\n",
       "<table border=\"1\" class=\"dataframe\">\n",
       "  <thead>\n",
       "    <tr style=\"text-align: right;\">\n",
       "      <th></th>\n",
       "      <th>platformId</th>\n",
       "      <th>gameId</th>\n",
       "      <th>champion</th>\n",
       "      <th>queue</th>\n",
       "      <th>season</th>\n",
       "      <th>timestamp</th>\n",
       "      <th>role</th>\n",
       "      <th>lane</th>\n",
       "    </tr>\n",
       "    <tr>\n",
       "      <th>accountId</th>\n",
       "      <th></th>\n",
       "      <th></th>\n",
       "      <th></th>\n",
       "      <th></th>\n",
       "      <th></th>\n",
       "      <th></th>\n",
       "      <th></th>\n",
       "      <th></th>\n",
       "    </tr>\n",
       "  </thead>\n",
       "  <tbody>\n",
       "    <tr>\n",
       "      <th>bk1m2_GS-2L9loYOKil6EbsEHnQOCY15LRVByLuQvjf46Cc</th>\n",
       "      <td>BR1</td>\n",
       "      <td>2071507283</td>\n",
       "      <td>114</td>\n",
       "      <td>440</td>\n",
       "      <td>13</td>\n",
       "      <td>1601166961222</td>\n",
       "      <td>SOLO</td>\n",
       "      <td>TOP</td>\n",
       "    </tr>\n",
       "    <tr>\n",
       "      <th>bk1m2_GS-2L9loYOKil6EbsEHnQOCY15LRVByLuQvjf46Cc</th>\n",
       "      <td>BR1</td>\n",
       "      <td>2071513192</td>\n",
       "      <td>236</td>\n",
       "      <td>440</td>\n",
       "      <td>13</td>\n",
       "      <td>1601164763566</td>\n",
       "      <td>DUO</td>\n",
       "      <td>TOP</td>\n",
       "    </tr>\n",
       "  </tbody>\n",
       "</table>\n",
       "</div>"
      ],
      "text/plain": [
       "                                                platformId      gameId  \\\n",
       "accountId                                                                \n",
       "bk1m2_GS-2L9loYOKil6EbsEHnQOCY15LRVByLuQvjf46Cc        BR1  2071507283   \n",
       "bk1m2_GS-2L9loYOKil6EbsEHnQOCY15LRVByLuQvjf46Cc        BR1  2071513192   \n",
       "\n",
       "                                                 champion  queue  season  \\\n",
       "accountId                                                                  \n",
       "bk1m2_GS-2L9loYOKil6EbsEHnQOCY15LRVByLuQvjf46Cc       114    440      13   \n",
       "bk1m2_GS-2L9loYOKil6EbsEHnQOCY15LRVByLuQvjf46Cc       236    440      13   \n",
       "\n",
       "                                                     timestamp  role lane  \n",
       "accountId                                                                  \n",
       "bk1m2_GS-2L9loYOKil6EbsEHnQOCY15LRVByLuQvjf46Cc  1601166961222  SOLO  TOP  \n",
       "bk1m2_GS-2L9loYOKil6EbsEHnQOCY15LRVByLuQvjf46Cc  1601164763566   DUO  TOP  "
      ]
     },
     "execution_count": 80,
     "metadata": {},
     "output_type": "execute_result"
    }
   ],
   "source": [
    "df_matches_acc_id.head(2)"
   ]
  },
  {
   "cell_type": "code",
   "execution_count": 84,
   "metadata": {},
   "outputs": [
    {
     "data": {
      "text/html": [
       "<div>\n",
       "<style scoped>\n",
       "    .dataframe tbody tr th:only-of-type {\n",
       "        vertical-align: middle;\n",
       "    }\n",
       "\n",
       "    .dataframe tbody tr th {\n",
       "        vertical-align: top;\n",
       "    }\n",
       "\n",
       "    .dataframe thead th {\n",
       "        text-align: right;\n",
       "    }\n",
       "</style>\n",
       "<table border=\"1\" class=\"dataframe\">\n",
       "  <thead>\n",
       "    <tr style=\"text-align: right;\">\n",
       "      <th></th>\n",
       "      <th>names</th>\n",
       "      <th>types</th>\n",
       "      <th>NA #</th>\n",
       "      <th>NA %</th>\n",
       "    </tr>\n",
       "  </thead>\n",
       "  <tbody>\n",
       "    <tr>\n",
       "      <th>platformId</th>\n",
       "      <td>platformId</td>\n",
       "      <td>category</td>\n",
       "      <td>0</td>\n",
       "      <td>0.0</td>\n",
       "    </tr>\n",
       "    <tr>\n",
       "      <th>gameId</th>\n",
       "      <td>gameId</td>\n",
       "      <td>int64</td>\n",
       "      <td>0</td>\n",
       "      <td>0.0</td>\n",
       "    </tr>\n",
       "    <tr>\n",
       "      <th>champion</th>\n",
       "      <td>champion</td>\n",
       "      <td>int64</td>\n",
       "      <td>0</td>\n",
       "      <td>0.0</td>\n",
       "    </tr>\n",
       "    <tr>\n",
       "      <th>queue</th>\n",
       "      <td>queue</td>\n",
       "      <td>int64</td>\n",
       "      <td>0</td>\n",
       "      <td>0.0</td>\n",
       "    </tr>\n",
       "    <tr>\n",
       "      <th>season</th>\n",
       "      <td>season</td>\n",
       "      <td>int64</td>\n",
       "      <td>0</td>\n",
       "      <td>0.0</td>\n",
       "    </tr>\n",
       "    <tr>\n",
       "      <th>timestamp</th>\n",
       "      <td>timestamp</td>\n",
       "      <td>int64</td>\n",
       "      <td>0</td>\n",
       "      <td>0.0</td>\n",
       "    </tr>\n",
       "    <tr>\n",
       "      <th>role</th>\n",
       "      <td>role</td>\n",
       "      <td>category</td>\n",
       "      <td>0</td>\n",
       "      <td>0.0</td>\n",
       "    </tr>\n",
       "    <tr>\n",
       "      <th>lane</th>\n",
       "      <td>lane</td>\n",
       "      <td>category</td>\n",
       "      <td>0</td>\n",
       "      <td>0.0</td>\n",
       "    </tr>\n",
       "  </tbody>\n",
       "</table>\n",
       "</div>"
      ],
      "text/plain": [
       "                 names     types  NA #  NA %\n",
       "platformId  platformId  category     0   0.0\n",
       "gameId          gameId     int64     0   0.0\n",
       "champion      champion     int64     0   0.0\n",
       "queue            queue     int64     0   0.0\n",
       "season          season     int64     0   0.0\n",
       "timestamp    timestamp     int64     0   0.0\n",
       "role              role  category     0   0.0\n",
       "lane              lane  category     0   0.0"
      ]
     },
     "execution_count": 84,
     "metadata": {},
     "output_type": "execute_result"
    }
   ],
   "source": [
    "### Dados faltantes\n",
    "getMissData(df_matches_acc_id)"
   ]
  },
  {
   "cell_type": "markdown",
   "metadata": {},
   "source": [
    "**Detecção de Outliers**"
   ]
  },
  {
   "cell_type": "code",
   "execution_count": 39,
   "metadata": {},
   "outputs": [],
   "source": [
    "### Minha dúvida aqui é o que agt pode considerar ser um outlier e em relação a oq e se vale a pena remover um outlier\n",
    "### Não acho que valha a pena comparar com tier, já que é categorico"
   ]
  },
  {
   "cell_type": "code",
   "execution_count": 85,
   "metadata": {},
   "outputs": [
    {
     "data": {
      "text/plain": [
       "<matplotlib.axes._subplots.AxesSubplot at 0x23f4efe3520>"
      ]
     },
     "execution_count": 85,
     "metadata": {},
     "output_type": "execute_result"
    },
    {
     "data": {
      "image/png": "[encoded data removed]",
      "text/plain": [
       "<Figure size 432x288 with 1 Axes>"
      ]
     },
     "metadata": {
      "needs_background": "light"
     },
     "output_type": "display_data"
    }
   ],
   "source": [
    "df_users_seed.plot.scatter(x='summonerLevel', y='losses')"
   ]
  },
  {
   "cell_type": "code",
   "execution_count": 86,
   "metadata": {
    "scrolled": true
   },
   "outputs": [
    {
     "data": {
      "text/plain": [
       "<matplotlib.axes._subplots.AxesSubplot at 0x23f55d7cca0>"
      ]
     },
     "execution_count": 86,
     "metadata": {},
     "output_type": "execute_result"
    },
    {
     "data": {
      "image/png": "[encoded data removed]",
      "text/plain": [
       "<Figure size 432x288 with 1 Axes>"
      ]
     },
     "metadata": {
      "needs_background": "light"
     },
     "output_type": "display_data"
    }
   ],
   "source": [
    "df_users_seed.plot.scatter(x='summonerLevel', y='wins')"
   ]
  },
  {
   "cell_type": "code",
   "execution_count": 99,
   "metadata": {},
   "outputs": [
    {
     "data": {
      "text/plain": [
       "<matplotlib.axes._subplots.AxesSubplot at 0x23f50f49070>"
      ]
     },
     "execution_count": 99,
     "metadata": {},
     "output_type": "execute_result"
    },
    {
     "data": {
      "image/png": "[encoded data removed]",
      "text/plain": [
       "<Figure size 432x288 with 1 Axes>"
      ]
     },
     "metadata": {
      "needs_background": "light"
     },
     "output_type": "display_data"
    }
   ],
   "source": [
    "df_users_seed.plot.scatter(x='wins', y='losses')"
   ]
  },
  {
   "cell_type": "code",
   "execution_count": 87,
   "metadata": {},
   "outputs": [
    {
     "data": {
      "text/plain": [
       "count    2661.000000\n",
       "mean      320.681323\n",
       "std       207.561816\n",
       "min        20.000000\n",
       "25%       172.000000\n",
       "50%       269.000000\n",
       "75%       421.000000\n",
       "max      1363.000000\n",
       "Name: wins, dtype: float64"
      ]
     },
     "execution_count": 87,
     "metadata": {},
     "output_type": "execute_result"
    }
   ],
   "source": [
    "df_users_seed['wins'].describe()"
   ]
  },
  {
   "cell_type": "code",
   "execution_count": 88,
   "metadata": {},
   "outputs": [
    {
     "data": {
      "text/plain": [
       "count    2661.000000\n",
       "mean      290.610673\n",
       "std       206.441510\n",
       "min         8.000000\n",
       "25%       141.000000\n",
       "50%       239.000000\n",
       "75%       390.000000\n",
       "max      1338.000000\n",
       "Name: losses, dtype: float64"
      ]
     },
     "execution_count": 88,
     "metadata": {},
     "output_type": "execute_result"
    }
   ],
   "source": [
    "df_users_seed['losses'].describe()"
   ]
  },
  {
   "cell_type": "code",
   "execution_count": null,
   "metadata": {},
   "outputs": [],
   "source": []
  }
 ],
 "metadata": {
  "kernelspec": {
   "display_name": "Python 3",
   "language": "python",
   "name": "python3"
  },
  "language_info": {
   "codemirror_mode": {
    "name": "ipython",
    "version": 3
   },
   "file_extension": ".py",
   "mimetype": "text/x-python",
   "name": "python",
   "nbconvert_exporter": "python",
   "pygments_lexer": "ipython3",
   "version": "3.8.3"
  }
 },
 "nbformat": 4,
 "nbformat_minor": 4
}
