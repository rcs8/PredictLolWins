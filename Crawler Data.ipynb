{
 "cells": [
  {
   "cell_type": "code",
   "execution_count": 1,
   "metadata": {},
   "outputs": [],
   "source": [
    "import pandas as pd\n",
    "import numpy as np\n",
    "import requests as rq\n",
    "import time\n",
    "from requests.exceptions import HTTPError\n",
    "import json\n",
    "from jsonschema import validate\n",
    "from riotwatcher import LolWatcher, ApiError"
   ]
  },
  {
   "cell_type": "code",
   "execution_count": 3,
   "metadata": {},
   "outputs": [],
   "source": [
    "API_KEY = \"RGAPI-f5ffc1a2-3502-459e-9997-d9441d21f3d8\"\n",
    "base_diamond = \"https://br1.api.riotgames.com/lol/league/v4/entries/RANKED_SOLO_5x5/\"\n",
    "base_challenger = \"https://br1.api.riotgames.com/lol/league/v4/challengerleagues/by-queue/RANKED_SOLO_5x5/\"\n",
    "base_master = \"https://br1.api.riotgames.com/lol/league/v4/masterleagues/by-queue/RANKED_SOLO_5x5\"\n",
    "base_grand_master = \"https://br1.api.riotgames.com/lol/league/v4/grandmasterleagues/by-queue/RANKED_SOLO_5x5\"\n",
    "\n",
    "base_summoner_infos = \"https://br1.api.riotgames.com/lol/summoner/v4/summoners/by-name/\""
   ]
  },
  {
   "cell_type": "code",
   "execution_count": 4,
   "metadata": {},
   "outputs": [],
   "source": [
    "watcher = LolWatcher(API_KEY)\n",
    "my_region = 'br1'"
   ]
  },
  {
   "cell_type": "code",
   "execution_count": 4,
   "metadata": {},
   "outputs": [],
   "source": [
    "def makeRequest(string):\n",
    "    try:\n",
    "        response = rq.get(string)\n",
    "        response.raise_for_status()\n",
    "    except HTTPError:\n",
    "        if response.status_code == 429:\n",
    "            time.sleep(120)\n",
    "            makeRequest(string)\n",
    "    return response.json()"
   ]
  },
  {
   "cell_type": "code",
   "execution_count": 5,
   "metadata": {},
   "outputs": [],
   "source": [
    "def getLowEloInfos(json):\n",
    "    df = pd.DataFrame(json)\n",
    "    df[\"tier\"] = df['tier'] + df[\"rank\"]\n",
    "    df.drop([\"leagueId\",\"queueType\",\"rank\",\"miniSeries\"], axis=1,inplace=True)\n",
    "    return df   "
   ]
  },
  {
   "cell_type": "code",
   "execution_count": 6,
   "metadata": {},
   "outputs": [],
   "source": [
    "def getHighEloInfos(json):\n",
    "    df_aux = pd.DataFrame(json[\"entries\"])\n",
    "    df_aux.drop(\"rank\", axis=1, inplace=True)\n",
    "    df_aux[\"tier\"] = \"MASTER\"\n",
    "    df_aux = df_aux.reindex(\n",
    "        columns=['tier', 'summonerId', 'summonerName', \n",
    "                 'leaguePoints', 'wins', 'losses','veteran',\n",
    "                 'inactive', 'freshBlood', 'hotStreak'])\n",
    "    return df_aux"
   ]
  },
  {
   "cell_type": "code",
   "execution_count": 10,
   "metadata": {},
   "outputs": [
    {
     "name": "stdout",
     "output_type": "stream",
     "text": [
      "CPU times: user 284 ms, sys: 51 ms, total: 335 ms\n",
      "Wall time: 6.37 s\n"
     ]
    }
   ],
   "source": [
    "%%time\n",
    "divisions = [\"I\",\"II\",\"III\",\"IV\"]\n",
    "tiers = [\"DIAMOND\",\"MASTER\",\"GRANDMASTER\",\"CHALLENGER\"]\n",
    "df = pd.DataFrame()\n",
    "for i in tiers:\n",
    "    if i == \"DIAMOND\":\n",
    "        for j in divisions:\n",
    "            string = base_diamond + i + \"/\" + j + \"?api_key=\" + API_KEY\n",
    "            df_aux = getLowEloInfos(makeRequest(string))\n",
    "            df = df.append(df_aux,ignore_index = True)\n",
    "    \n",
    "    elif i == \"MASTER\":\n",
    "        string = base_master + \"?api_key=\" + API_KEY\n",
    "        df_aux = getHighEloInfos(makeRequest(string))\n",
    "        df = df.append(df_aux,ignore_index = True)\n",
    "    \n",
    "    \n",
    "    elif i == \"GRANDMASTER\":\n",
    "        string = base_grand_master + \"?api_key=\" + API_KEY\n",
    "        df_aux = getHighEloInfos(makeRequest(string))\n",
    "        df = df.append(df_aux,ignore_index = True)\n",
    "    \n",
    "    else:\n",
    "        string = base_challenger + \"?api_key=\" + API_KEY\n",
    "        df_aux = getHighEloInfos(makeRequest(string))\n",
    "        df = df.append(df_aux,ignore_index = True)\n",
    "        "
   ]
  },
  {
   "cell_type": "code",
   "execution_count": 11,
   "metadata": {},
   "outputs": [],
   "source": [
    "df.to_csv(\"usersBasicInfos.csv\",index=False)"
   ]
  },
  {
   "cell_type": "code",
   "execution_count": 15,
   "metadata": {},
   "outputs": [],
   "source": [
    "df = pd.read_csv(\"usersBasicInfos.csv\")"
   ]
  },
  {
   "cell_type": "code",
   "execution_count": 16,
   "metadata": {},
   "outputs": [
    {
     "data": {
      "text/plain": [
       "(2737, 10)"
      ]
     },
     "execution_count": 16,
     "metadata": {},
     "output_type": "execute_result"
    }
   ],
   "source": [
    "df.shape"
   ]
  },
  {
   "cell_type": "code",
   "execution_count": 17,
   "metadata": {
    "scrolled": true
   },
   "outputs": [
    {
     "data": {
      "text/html": [
       "<div>\n",
       "<style scoped>\n",
       "    .dataframe tbody tr th:only-of-type {\n",
       "        vertical-align: middle;\n",
       "    }\n",
       "\n",
       "    .dataframe tbody tr th {\n",
       "        vertical-align: top;\n",
       "    }\n",
       "\n",
       "    .dataframe thead th {\n",
       "        text-align: right;\n",
       "    }\n",
       "</style>\n",
       "<table border=\"1\" class=\"dataframe\">\n",
       "  <thead>\n",
       "    <tr style=\"text-align: right;\">\n",
       "      <th></th>\n",
       "      <th>tier</th>\n",
       "      <th>summonerId</th>\n",
       "      <th>summonerName</th>\n",
       "      <th>leaguePoints</th>\n",
       "      <th>wins</th>\n",
       "      <th>losses</th>\n",
       "      <th>veteran</th>\n",
       "      <th>inactive</th>\n",
       "      <th>freshBlood</th>\n",
       "      <th>hotStreak</th>\n",
       "    </tr>\n",
       "  </thead>\n",
       "  <tbody>\n",
       "    <tr>\n",
       "      <td>0</td>\n",
       "      <td>DIAMONDI</td>\n",
       "      <td>a6XNnr-OC1673HAJaeCorjI1T9Sbe7gYJIBpbsu_CllJIOI</td>\n",
       "      <td>LokiFc</td>\n",
       "      <td>39</td>\n",
       "      <td>192</td>\n",
       "      <td>184</td>\n",
       "      <td>False</td>\n",
       "      <td>False</td>\n",
       "      <td>False</td>\n",
       "      <td>False</td>\n",
       "    </tr>\n",
       "    <tr>\n",
       "      <td>1</td>\n",
       "      <td>DIAMONDI</td>\n",
       "      <td>h_TlijF-s3RAtZaCyUVvBvgO-GGVuG60TqH3h7cTGrOKT18</td>\n",
       "      <td>lepanta</td>\n",
       "      <td>96</td>\n",
       "      <td>123</td>\n",
       "      <td>102</td>\n",
       "      <td>False</td>\n",
       "      <td>False</td>\n",
       "      <td>False</td>\n",
       "      <td>False</td>\n",
       "    </tr>\n",
       "  </tbody>\n",
       "</table>\n",
       "</div>"
      ],
      "text/plain": [
       "       tier                                       summonerId summonerName  \\\n",
       "0  DIAMONDI  a6XNnr-OC1673HAJaeCorjI1T9Sbe7gYJIBpbsu_CllJIOI       LokiFc   \n",
       "1  DIAMONDI  h_TlijF-s3RAtZaCyUVvBvgO-GGVuG60TqH3h7cTGrOKT18      lepanta   \n",
       "\n",
       "   leaguePoints  wins  losses  veteran  inactive  freshBlood  hotStreak  \n",
       "0            39   192     184    False     False       False      False  \n",
       "1            96   123     102    False     False       False      False  "
      ]
     },
     "execution_count": 17,
     "metadata": {},
     "output_type": "execute_result"
    }
   ],
   "source": [
    "df.head(2)"
   ]
  },
  {
   "cell_type": "markdown",
   "metadata": {},
   "source": [
    "#### Esses dados serão usados como base. Tipo uma semente para a construção do data set final"
   ]
  },
  {
   "cell_type": "markdown",
   "metadata": {},
   "source": [
    "#### Agora vamos enriquecer esses dados com mais informações "
   ]
  },
  {
   "cell_type": "code",
   "execution_count": 11,
   "metadata": {},
   "outputs": [],
   "source": [
    "def checkFields(response, fields):\n",
    "    for i in fields:\n",
    "        if i not in response:\n",
    "            return False\n",
    "    return True"
   ]
  },
  {
   "cell_type": "code",
   "execution_count": 12,
   "metadata": {},
   "outputs": [],
   "source": [
    "def getSummonerInfos(summonerNames):\n",
    "    list_dicts = []\n",
    "    count = 0\n",
    "    for i in summonerNames:\n",
    "        count+=1\n",
    "        if (count % 100) == 0:\n",
    "            df_temp = pd.DataFrame(list_dicts)\n",
    "            df_temp.to_csv(\"DataSummornerTemp.csv\")\n",
    "        string = base_summoner_infos + i + \"?api_key=\" + API_KEY\n",
    "        response = makeRequest(string)\n",
    "        infos_dict = {}\n",
    "        if checkFields(response,[\"accountId\",\"summonerLevel\",\"puuid\"]):\n",
    "            infos_dict[\"summonerName\"] = i\n",
    "            infos_dict[\"accountId\"] = response[\"accountId\"]\n",
    "            infos_dict[\"summonerLevel\"] = response[\"summonerLevel\"]\n",
    "            infos_dict[\"puuid\"] = response[\"puuid\"]\n",
    "            list_dicts.append(infos_dict)\n",
    "    return list_dicts"
   ]
  },
  {
   "cell_type": "code",
   "execution_count": 18,
   "metadata": {},
   "outputs": [],
   "source": [
    "names = df.summonerName.to_list()"
   ]
  },
  {
   "cell_type": "code",
   "execution_count": 19,
   "metadata": {},
   "outputs": [
    {
     "data": {
      "text/plain": [
       "2737"
      ]
     },
     "execution_count": 19,
     "metadata": {},
     "output_type": "execute_result"
    }
   ],
   "source": [
    "len(names)"
   ]
  },
  {
   "cell_type": "code",
   "execution_count": 22,
   "metadata": {},
   "outputs": [
    {
     "name": "stdout",
     "output_type": "stream",
     "text": [
      "CPU times: user 1min 18s, sys: 5.62 s, total: 1min 24s\n",
      "Wall time: 1h 26min 47s\n"
     ]
    }
   ],
   "source": [
    "%%time\n",
    "infos_plus = getSummonerInfos(names)"
   ]
  },
  {
   "cell_type": "code",
   "execution_count": 23,
   "metadata": {},
   "outputs": [
    {
     "data": {
      "text/plain": [
       "2661"
      ]
     },
     "execution_count": 23,
     "metadata": {},
     "output_type": "execute_result"
    }
   ],
   "source": [
    "len(infos_plus)"
   ]
  },
  {
   "cell_type": "code",
   "execution_count": 24,
   "metadata": {},
   "outputs": [],
   "source": [
    "df_summoner = pd.DataFrame(infos_plus)"
   ]
  },
  {
   "cell_type": "code",
   "execution_count": 26,
   "metadata": {},
   "outputs": [],
   "source": [
    "df_summoner.to_csv(\"summonerInfosPlus.csv\",index=False)"
   ]
  },
  {
   "cell_type": "code",
   "execution_count": 27,
   "metadata": {},
   "outputs": [],
   "source": [
    "df_summoner = pd.read_csv(\"summonerInfosPlus.csv\",index_col=\"summonerName\")"
   ]
  },
  {
   "cell_type": "code",
   "execution_count": 28,
   "metadata": {},
   "outputs": [
    {
     "data": {
      "text/html": [
       "<div>\n",
       "<style scoped>\n",
       "    .dataframe tbody tr th:only-of-type {\n",
       "        vertical-align: middle;\n",
       "    }\n",
       "\n",
       "    .dataframe tbody tr th {\n",
       "        vertical-align: top;\n",
       "    }\n",
       "\n",
       "    .dataframe thead th {\n",
       "        text-align: right;\n",
       "    }\n",
       "</style>\n",
       "<table border=\"1\" class=\"dataframe\">\n",
       "  <thead>\n",
       "    <tr style=\"text-align: right;\">\n",
       "      <th></th>\n",
       "      <th>accountId</th>\n",
       "      <th>summonerLevel</th>\n",
       "      <th>puuid</th>\n",
       "    </tr>\n",
       "    <tr>\n",
       "      <th>summonerName</th>\n",
       "      <th></th>\n",
       "      <th></th>\n",
       "      <th></th>\n",
       "    </tr>\n",
       "  </thead>\n",
       "  <tbody>\n",
       "    <tr>\n",
       "      <td>LokiFc</td>\n",
       "      <td>bk1m2_GS-2L9loYOKil6EbsEHnQOCY15LRVByLuQvjf46Cc</td>\n",
       "      <td>291</td>\n",
       "      <td>AvAT9pAFILqL0Eo0kWmFOXug4KyIBh4QprnfHU4Ao2e3Bj...</td>\n",
       "    </tr>\n",
       "    <tr>\n",
       "      <td>lepanta</td>\n",
       "      <td>B6nuFHgma2xw3B4ZYsSQeb38pgQxgajWykeB8OEZHm0sSO8</td>\n",
       "      <td>131</td>\n",
       "      <td>z2NP0f9IPVNevXHBEiZ5wjOHHwmqifJM0St3OpTjgI8xon...</td>\n",
       "    </tr>\n",
       "  </tbody>\n",
       "</table>\n",
       "</div>"
      ],
      "text/plain": [
       "                                                    accountId  summonerLevel  \\\n",
       "summonerName                                                                   \n",
       "LokiFc        bk1m2_GS-2L9loYOKil6EbsEHnQOCY15LRVByLuQvjf46Cc            291   \n",
       "lepanta       B6nuFHgma2xw3B4ZYsSQeb38pgQxgajWykeB8OEZHm0sSO8            131   \n",
       "\n",
       "                                                          puuid  \n",
       "summonerName                                                     \n",
       "LokiFc        AvAT9pAFILqL0Eo0kWmFOXug4KyIBh4QprnfHU4Ao2e3Bj...  \n",
       "lepanta       z2NP0f9IPVNevXHBEiZ5wjOHHwmqifJM0St3OpTjgI8xon...  "
      ]
     },
     "execution_count": 28,
     "metadata": {},
     "output_type": "execute_result"
    }
   ],
   "source": [
    "df_summoner.head(2)"
   ]
  },
  {
   "cell_type": "code",
   "execution_count": 29,
   "metadata": {},
   "outputs": [],
   "source": [
    "df_summonerFinal = df.join(df_summoner,how=\"inner\",on=\"summonerName\")"
   ]
  },
  {
   "cell_type": "code",
   "execution_count": 30,
   "metadata": {},
   "outputs": [
    {
     "data": {
      "text/plain": [
       "Index(['tier', 'summonerId', 'summonerName', 'leaguePoints', 'wins', 'losses',\n",
       "       'veteran', 'inactive', 'freshBlood', 'hotStreak', 'accountId',\n",
       "       'summonerLevel', 'puuid'],\n",
       "      dtype='object')"
      ]
     },
     "execution_count": 30,
     "metadata": {},
     "output_type": "execute_result"
    }
   ],
   "source": [
    "df_summonerFinal.columns"
   ]
  },
  {
   "cell_type": "code",
   "execution_count": 31,
   "metadata": {},
   "outputs": [],
   "source": [
    "df_summonerFinal.to_csv(\"SummonerFinalData.csv\")"
   ]
  },
  {
   "cell_type": "markdown",
   "metadata": {},
   "source": [
    "   ### Matchs Players"
   ]
  },
  {
   "cell_type": "code",
   "execution_count": 32,
   "metadata": {},
   "outputs": [],
   "source": [
    "df_summoners = pd.read_csv(\"SummonerFinalData.csv\")"
   ]
  },
  {
   "cell_type": "code",
   "execution_count": 33,
   "metadata": {},
   "outputs": [],
   "source": [
    "summoners_id = df_summoners.accountId.to_list()"
   ]
  },
  {
   "cell_type": "code",
   "execution_count": 34,
   "metadata": {},
   "outputs": [
    {
     "data": {
      "text/plain": [
       "2661"
      ]
     },
     "execution_count": 34,
     "metadata": {},
     "output_type": "execute_result"
    }
   ],
   "source": [
    "len(summoners_id)"
   ]
  },
  {
   "cell_type": "code",
   "execution_count": 36,
   "metadata": {},
   "outputs": [],
   "source": [
    "def getSummonerMatches(accountId):\n",
    "    result = watcher.match.matchlist_by_account(my_region,accountId)[\"matches\"]\n",
    "    return result\n",
    "    "
   ]
  },
  {
   "cell_type": "code",
   "execution_count": 37,
   "metadata": {},
   "outputs": [
    {
     "name": "stdout",
     "output_type": "stream",
     "text": [
      "CPU times: user 1min 27s, sys: 7.87 s, total: 1min 35s\n",
      "Wall time: 53min 12s\n"
     ]
    }
   ],
   "source": [
    "%%time\n",
    "summoner_list = []\n",
    "for summoner in summoners_id:\n",
    "    matches = {}\n",
    "    matches[\"accountId\"] = summoner\n",
    "    try:\n",
    "        matches[\"listMatches\"] = getSummonerMatches(summoner)\n",
    "    except:\n",
    "        time.sleep(5)\n",
    "        matches[\"listMatches\"] = getSummonerMatches(summoner)     \n",
    "    summoner_list.append(matches)  "
   ]
  },
  {
   "cell_type": "code",
   "execution_count": 40,
   "metadata": {},
   "outputs": [],
   "source": [
    "df_matches = pd.DataFrame(summoner_list)"
   ]
  },
  {
   "cell_type": "code",
   "execution_count": 39,
   "metadata": {},
   "outputs": [],
   "source": [
    "df_matches.to_csv(\"matchesBasicInfos.csv\")"
   ]
  },
  {
   "cell_type": "code",
   "execution_count": 41,
   "metadata": {},
   "outputs": [],
   "source": [
    "df_all = []"
   ]
  },
  {
   "cell_type": "code",
   "execution_count": 42,
   "metadata": {},
   "outputs": [],
   "source": [
    "for i in df_matches.values:\n",
    "    accountId = i[0]\n",
    "    df_temp = pd.DataFrame(i[1])\n",
    "    df_temp[\"accountId\"] = accountId\n",
    "    df_all.append(df_temp)"
   ]
  },
  {
   "cell_type": "code",
   "execution_count": 43,
   "metadata": {},
   "outputs": [],
   "source": [
    "df_final = pd.concat(df_all)\n"
   ]
  },
  {
   "cell_type": "code",
   "execution_count": 47,
   "metadata": {},
   "outputs": [],
   "source": [
    "df_final.to_csv(\"matchByAccounbtId.csv\",index=None)"
   ]
  },
  {
   "cell_type": "code",
   "execution_count": 4,
   "metadata": {},
   "outputs": [],
   "source": [
    "df_final = pd.read_csv(\"matchByAccounbtId.csv\")"
   ]
  },
  {
   "cell_type": "code",
   "execution_count": 5,
   "metadata": {},
   "outputs": [
    {
     "data": {
      "text/plain": [
       "(265905, 9)"
      ]
     },
     "execution_count": 5,
     "metadata": {},
     "output_type": "execute_result"
    }
   ],
   "source": [
    "df_final.shape"
   ]
  },
  {
   "cell_type": "code",
   "execution_count": 6,
   "metadata": {},
   "outputs": [
    {
     "data": {
      "text/html": [
       "<div>\n",
       "<style scoped>\n",
       "    .dataframe tbody tr th:only-of-type {\n",
       "        vertical-align: middle;\n",
       "    }\n",
       "\n",
       "    .dataframe tbody tr th {\n",
       "        vertical-align: top;\n",
       "    }\n",
       "\n",
       "    .dataframe thead th {\n",
       "        text-align: right;\n",
       "    }\n",
       "</style>\n",
       "<table border=\"1\" class=\"dataframe\">\n",
       "  <thead>\n",
       "    <tr style=\"text-align: right;\">\n",
       "      <th></th>\n",
       "      <th>platformId</th>\n",
       "      <th>gameId</th>\n",
       "      <th>champion</th>\n",
       "      <th>queue</th>\n",
       "      <th>season</th>\n",
       "      <th>timestamp</th>\n",
       "      <th>role</th>\n",
       "      <th>lane</th>\n",
       "      <th>accountId</th>\n",
       "    </tr>\n",
       "  </thead>\n",
       "  <tbody>\n",
       "    <tr>\n",
       "      <td>0</td>\n",
       "      <td>BR1</td>\n",
       "      <td>2071507283</td>\n",
       "      <td>114</td>\n",
       "      <td>440</td>\n",
       "      <td>13</td>\n",
       "      <td>1601166961222</td>\n",
       "      <td>SOLO</td>\n",
       "      <td>TOP</td>\n",
       "      <td>bk1m2_GS-2L9loYOKil6EbsEHnQOCY15LRVByLuQvjf46Cc</td>\n",
       "    </tr>\n",
       "    <tr>\n",
       "      <td>1</td>\n",
       "      <td>BR1</td>\n",
       "      <td>2071513192</td>\n",
       "      <td>236</td>\n",
       "      <td>440</td>\n",
       "      <td>13</td>\n",
       "      <td>1601164763566</td>\n",
       "      <td>DUO</td>\n",
       "      <td>TOP</td>\n",
       "      <td>bk1m2_GS-2L9loYOKil6EbsEHnQOCY15LRVByLuQvjf46Cc</td>\n",
       "    </tr>\n",
       "    <tr>\n",
       "      <td>2</td>\n",
       "      <td>BR1</td>\n",
       "      <td>2071489057</td>\n",
       "      <td>518</td>\n",
       "      <td>440</td>\n",
       "      <td>13</td>\n",
       "      <td>1601162891562</td>\n",
       "      <td>SOLO</td>\n",
       "      <td>MID</td>\n",
       "      <td>bk1m2_GS-2L9loYOKil6EbsEHnQOCY15LRVByLuQvjf46Cc</td>\n",
       "    </tr>\n",
       "  </tbody>\n",
       "</table>\n",
       "</div>"
      ],
      "text/plain": [
       "  platformId      gameId  champion  queue  season      timestamp  role lane  \\\n",
       "0        BR1  2071507283       114    440      13  1601166961222  SOLO  TOP   \n",
       "1        BR1  2071513192       236    440      13  1601164763566   DUO  TOP   \n",
       "2        BR1  2071489057       518    440      13  1601162891562  SOLO  MID   \n",
       "\n",
       "                                         accountId  \n",
       "0  bk1m2_GS-2L9loYOKil6EbsEHnQOCY15LRVByLuQvjf46Cc  \n",
       "1  bk1m2_GS-2L9loYOKil6EbsEHnQOCY15LRVByLuQvjf46Cc  \n",
       "2  bk1m2_GS-2L9loYOKil6EbsEHnQOCY15LRVByLuQvjf46Cc  "
      ]
     },
     "execution_count": 6,
     "metadata": {},
     "output_type": "execute_result"
    }
   ],
   "source": [
    "df_final.head(3)"
   ]
  },
  {
   "cell_type": "code",
   "execution_count": 7,
   "metadata": {},
   "outputs": [],
   "source": [
    "a = df_final.groupby(['accountId'])['gameId'].apply(lambda grp: grp.nlargest(10)).values"
   ]
  },
  {
   "cell_type": "code",
   "execution_count": 8,
   "metadata": {},
   "outputs": [],
   "source": [
    "df_final_filtered = df_final.query('gameId in @a')"
   ]
  },
  {
   "cell_type": "code",
   "execution_count": 9,
   "metadata": {},
   "outputs": [],
   "source": [
    "df_final_filtered.to_csv('matchByAccounbtIdFiltered10.csv',index=False)"
   ]
  },
  {
   "cell_type": "code",
   "execution_count": 2,
   "metadata": {},
   "outputs": [],
   "source": [
    "def getMatchStats(gameId):\n",
    "    match_detail = watcher.match.by_id(my_region, gameId)\n",
    "    participants = []\n",
    "    gameStats = []\n",
    "    for row in match_detail['participants']:\n",
    "        participants_row = {}\n",
    "        participants_row['gameId'] = gameId\n",
    "        participants_row['champion'] = row['championId']\n",
    "        participants_row['spell1'] = row['spell1Id']\n",
    "        participants_row['spell2'] = row['spell2Id']\n",
    "        participants_row['win'] = row['stats']['win']\n",
    "        participants_row['kills'] = row['stats']['kills']\n",
    "        participants_row['deaths'] = row['stats']['deaths']\n",
    "        participants_row['assists'] = row['stats']['assists']\n",
    "        participants_row['totalDamageDealt'] = row['stats']['totalDamageDealt']\n",
    "        participants_row['goldEarned'] = row['stats']['goldEarned']\n",
    "        participants_row['champLevel'] = row['stats']['champLevel']\n",
    "        participants_row['totalMinionsKilled'] = row['stats']['totalMinionsKilled']\n",
    "        participants_row['item0'] = row['stats']['item0']\n",
    "        participants_row['item1'] = row['stats']['item1']\n",
    "        participants.append(participants_row)\n",
    "    for row in match_detail['teams']:\n",
    "        row['gameId'] = gameId\n",
    "        gameStats.append(row)\n",
    "    return pd.DataFrame(participants), pd.DataFrame(gameStats)"
   ]
  },
  {
   "cell_type": "code",
   "execution_count": 9,
   "metadata": {},
   "outputs": [
    {
     "data": {
      "text/plain": [
       "53720"
      ]
     },
     "execution_count": 9,
     "metadata": {},
     "output_type": "execute_result"
    }
   ],
   "source": [
    "len(df_final_filtered.gameId.to_list())"
   ]
  },
  {
   "cell_type": "code",
   "execution_count": 18,
   "metadata": {},
   "outputs": [],
   "source": [
    "df_final = pd.read_csv('dataMatchesStatsBackup.csv')"
   ]
  },
  {
   "cell_type": "code",
   "execution_count": 21,
   "metadata": {},
   "outputs": [],
   "source": [
    "gameId_used = df_final.gameId.to_list()"
   ]
  },
  {
   "cell_type": "code",
   "execution_count": 22,
   "metadata": {},
   "outputs": [
    {
     "data": {
      "text/plain": [
       "46002"
      ]
     },
     "execution_count": 22,
     "metadata": {},
     "output_type": "execute_result"
    }
   ],
   "source": [
    "len(gameId_used)"
   ]
  },
  {
   "cell_type": "code",
   "execution_count": 23,
   "metadata": {},
   "outputs": [],
   "source": [
    "df_final_filtered = df_final_filtered.query( 'gameId not in @gameId_used')"
   ]
  },
  {
   "cell_type": "code",
   "execution_count": 24,
   "metadata": {},
   "outputs": [
    {
     "data": {
      "text/plain": [
       "7340"
      ]
     },
     "execution_count": 24,
     "metadata": {},
     "output_type": "execute_result"
    }
   ],
   "source": [
    "len(df_final_filtered.gameId.to_list())"
   ]
  },
  {
   "cell_type": "code",
   "execution_count": null,
   "metadata": {},
   "outputs": [],
   "source": []
  },
  {
   "cell_type": "markdown",
   "metadata": {},
   "source": [
    " ### Matche Stats"
   ]
  },
  {
   "cell_type": "code",
   "execution_count": 28,
   "metadata": {},
   "outputs": [
    {
     "name": "stdout",
     "output_type": "stream",
     "text": [
      "0\n",
      "504\n",
      "504\n",
      "1000\n",
      "504\n",
      "504\n",
      "504\n",
      "2000\n",
      "504\n",
      "504\n",
      "504\n",
      "3000\n",
      "504\n",
      "4000\n",
      "504\n",
      "5000\n",
      "504\n",
      "504\n",
      "6000\n",
      "504\n",
      "7000\n",
      "503\n",
      "CPU times: user 4min 30s, sys: 16.4 s, total: 4min 46s\n",
      "Wall time: 2h 27min 40s\n"
     ]
    }
   ],
   "source": [
    "%%time\n",
    "dataframes_players_stats = []\n",
    "gameStats = []\n",
    "count = 0\n",
    "for i in df_final_filtered.gameId.to_list():\n",
    "    try:\n",
    "        players , games = getMatchStats(i)\n",
    "        dataframes_players_stats.append(players)\n",
    "        gameStats.append(games) \n",
    "        if (count % 1000) == 0:\n",
    "            print(count)\n",
    "            pd.concat(gameStats).to_csv('dataMatchesStatsBackup.csv')\n",
    "            pd.concat(dataframes_players_stats).to_csv('playersMatchesStatsBackup.csv')\n",
    "        count+=1\n",
    "    except ApiError as err:\n",
    "        if err.response.status_code == 429:\n",
    "            print('We should retry in {} seconds.'.format(err.headers['Retry-After']))\n",
    "            print('this retry-after is handled by default by the RiotWatcher library')\n",
    "            print('future requests wait until the retry-after time passes')\n",
    "            time.sleep(err.headers['Retry-After'])\n",
    "        else:\n",
    "            print(err.response.status_code)\n",
    "            pd.concat(gameStats).to_csv('dataMatchesStatsBackup.csv')\n",
    "            pd.concat(dataframes_players_stats).to_csv('playersMatchesStatsBackup.csv')\n",
    "            continue\n",
    "            \n",
    "            "
   ]
  },
  {
   "cell_type": "markdown",
   "metadata": {},
   "source": [
    "#### Os passos abaixo só devem ser executados caso haja erro no processo acima"
   ]
  },
  {
   "cell_type": "code",
   "execution_count": 40,
   "metadata": {},
   "outputs": [],
   "source": [
    "df1 = pd.read_csv('dataMatchesStatsBackup.csv')\n",
    "df2 = pd.read_csv('playersMatchesStatsBackup.csv')"
   ]
  },
  {
   "cell_type": "code",
   "execution_count": 41,
   "metadata": {},
   "outputs": [],
   "source": [
    "df1.drop('Unnamed: 0', inplace=True,axis=1)\n",
    "df2.drop('Unnamed: 0', inplace=True,axis=1)"
   ]
  },
  {
   "cell_type": "code",
   "execution_count": 33,
   "metadata": {},
   "outputs": [],
   "source": [
    "games = pd.concat(gameStats)\n",
    "players = pd.concat(dataframes_players_stats)"
   ]
  },
  {
   "cell_type": "code",
   "execution_count": 44,
   "metadata": {},
   "outputs": [],
   "source": [
    "players_final = pd.concat([players,df2])\n",
    "games_final = pd.concat([games,df1])"
   ]
  },
  {
   "cell_type": "code",
   "execution_count": 45,
   "metadata": {},
   "outputs": [],
   "source": [
    "games_final.to_csv('dataMatchesStats.csv', index=False)\n",
    "players_final.to_csv('playersMatchesStats.csv',index=False)"
   ]
  },
  {
   "cell_type": "code",
   "execution_count": null,
   "metadata": {},
   "outputs": [],
   "source": []
  },
  {
   "cell_type": "code",
   "execution_count": 20,
   "metadata": {},
   "outputs": [],
   "source": [
    "latest = watcher.data_dragon.versions_for_region(my_region)['n']['champion']\n",
    "# Lets get some champions static information\n",
    "static_champ_list = watcher.data_dragon.summoner_spells(latest, False)"
   ]
  },
  {
   "cell_type": "code",
   "execution_count": 21,
   "metadata": {},
   "outputs": [
    {
     "data": {
      "text/plain": [
       "{'type': 'summoner',\n",
       " 'version': '10.21.1',\n",
       " 'data': {'SummonerBarrier': {'id': 'SummonerBarrier',\n",
       "   'name': 'Barrier',\n",
       "   'description': 'Shields your champion from 115-455 damage (depending on champion level) for 2 seconds.',\n",
       "   'tooltip': 'Temporarily shields {{ f1 }} damage from your champion for 2 seconds.',\n",
       "   'maxrank': 1,\n",
       "   'cooldown': [180],\n",
       "   'cooldownBurn': '180',\n",
       "   'cost': [0],\n",
       "   'costBurn': '0',\n",
       "   'datavalues': {},\n",
       "   'effect': [None, [95], [20], [0], [0], [0], [0], [0], [0], [0], [0]],\n",
       "   'effectBurn': [None, '95', '20', '0', '0', '0', '0', '0', '0', '0', '0'],\n",
       "   'vars': [],\n",
       "   'key': '21',\n",
       "   'summonerLevel': 4,\n",
       "   'modes': ['CLASSIC',\n",
       "    'ARAM',\n",
       "    'FIRSTBLOOD',\n",
       "    'TUTORIAL',\n",
       "    'STARGUARDIAN',\n",
       "    'PROJECT',\n",
       "    'ARSR',\n",
       "    'ASSASSINATE',\n",
       "    'DOOMBOTSTEEMO',\n",
       "    'ONEFORALL',\n",
       "    'PRACTICETOOL',\n",
       "    'URF',\n",
       "    'NEXUSBLITZ'],\n",
       "   'costType': 'No Cost',\n",
       "   'maxammo': '-1',\n",
       "   'range': [1200],\n",
       "   'rangeBurn': '1200',\n",
       "   'image': {'full': 'SummonerBarrier.png',\n",
       "    'sprite': 'spell0.png',\n",
       "    'group': 'spell',\n",
       "    'x': 0,\n",
       "    'y': 0,\n",
       "    'w': 48,\n",
       "    'h': 48},\n",
       "   'resource': 'No Cost'},\n",
       "  'SummonerBoost': {'id': 'SummonerBoost',\n",
       "   'name': 'Cleanse',\n",
       "   'description': 'Removes all disables (excluding suppression and airborne) and summoner spell debuffs affecting your champion and lowers the duration of incoming disables by 65% for 3 seconds.',\n",
       "   'tooltip': 'Removes all disables (excluding suppression and airborne) and summoner spell debuffs affecting your champion and reduces the duration of disables by 65% for the next {{ f1 }} seconds.',\n",
       "   'maxrank': 1,\n",
       "   'cooldown': [210],\n",
       "   'cooldownBurn': '210',\n",
       "   'cost': [0],\n",
       "   'costBurn': '0',\n",
       "   'datavalues': {},\n",
       "   'effect': [None, [0.65], [3], [0], [0], [0], [0], [0], [0], [0], [0]],\n",
       "   'effectBurn': [None, '0.65', '3', '0', '0', '0', '0', '0', '0', '0', '0'],\n",
       "   'vars': [{'link': '@text', 'coeff': 3, 'key': 'f1'}],\n",
       "   'key': '1',\n",
       "   'summonerLevel': 9,\n",
       "   'modes': ['CLASSIC',\n",
       "    'ARAM',\n",
       "    'FIRSTBLOOD',\n",
       "    'TUTORIAL',\n",
       "    'PROJECT',\n",
       "    'ARSR',\n",
       "    'DOOMBOTSTEEMO',\n",
       "    'ONEFORALL',\n",
       "    'PRACTICETOOL',\n",
       "    'URF',\n",
       "    'NEXUSBLITZ'],\n",
       "   'costType': 'No Cost',\n",
       "   'maxammo': '-1',\n",
       "   'range': [200],\n",
       "   'rangeBurn': '200',\n",
       "   'image': {'full': 'SummonerBoost.png',\n",
       "    'sprite': 'spell0.png',\n",
       "    'group': 'spell',\n",
       "    'x': 48,\n",
       "    'y': 0,\n",
       "    'w': 48,\n",
       "    'h': 48},\n",
       "   'resource': 'No Cost'},\n",
       "  'SummonerDot': {'id': 'SummonerDot',\n",
       "   'name': 'Ignite',\n",
       "   'description': 'Ignites target enemy champion, dealing 70-410 true damage (depending on champion level) over 5 seconds, grants you vision of the target, and reduces healing effects on them for the duration.',\n",
       "   'tooltip': 'Ignite deals <span class=\"colorFEFCFF\">{{ f1 }}</span> true damage to target enemy champion over 5 seconds, grants you vision of the target and applies Grievous Wounds for the duration.<br /><br /><rules>(Grievous Wounds reduces healing effects by 40%. This vision does not reveal stealthed enemies.)</rules>',\n",
       "   'maxrank': 1,\n",
       "   'cooldown': [180],\n",
       "   'cooldownBurn': '180',\n",
       "   'cost': [0],\n",
       "   'costBurn': '0',\n",
       "   'datavalues': {},\n",
       "   'effect': [None, [5], [10], [4], [100], [0], [0], [0], [0], [0], [0]],\n",
       "   'effectBurn': [None, '5', '10', '4', '100', '0', '0', '0', '0', '0', '0'],\n",
       "   'vars': [{'link': '@player.level',\n",
       "     'coeff': [70,\n",
       "      90,\n",
       "      110,\n",
       "      130,\n",
       "      150,\n",
       "      170,\n",
       "      190,\n",
       "      210,\n",
       "      230,\n",
       "      250,\n",
       "      270,\n",
       "      290,\n",
       "      310,\n",
       "      330,\n",
       "      350,\n",
       "      370,\n",
       "      390,\n",
       "      410],\n",
       "     'key': 'f1'}],\n",
       "   'key': '14',\n",
       "   'summonerLevel': 9,\n",
       "   'modes': ['CLASSIC',\n",
       "    'ARAM',\n",
       "    'FIRSTBLOOD',\n",
       "    'TUTORIAL',\n",
       "    'ARSR',\n",
       "    'ASSASSINATE',\n",
       "    'DOOMBOTSTEEMO',\n",
       "    'ONEFORALL',\n",
       "    'PRACTICETOOL',\n",
       "    'URF',\n",
       "    'NEXUSBLITZ'],\n",
       "   'costType': 'No Cost',\n",
       "   'maxammo': '-1',\n",
       "   'range': [600],\n",
       "   'rangeBurn': '600',\n",
       "   'image': {'full': 'SummonerDot.png',\n",
       "    'sprite': 'spell0.png',\n",
       "    'group': 'spell',\n",
       "    'x': 96,\n",
       "    'y': 0,\n",
       "    'w': 48,\n",
       "    'h': 48},\n",
       "   'resource': 'No Cost'},\n",
       "  'SummonerExhaust': {'id': 'SummonerExhaust',\n",
       "   'name': 'Exhaust',\n",
       "   'description': 'Exhausts target enemy champion, reducing their Movement Speed by 30%, and their damage dealt by 40% for 3 seconds.',\n",
       "   'tooltip': 'Exhausts target enemy champion, reducing their Movement Speed by {{ f3 }}%, and their damage dealt by {{ f2 }}% for 3 seconds.',\n",
       "   'maxrank': 1,\n",
       "   'cooldown': [210],\n",
       "   'cooldownBurn': '210',\n",
       "   'cost': [0],\n",
       "   'costBurn': '0',\n",
       "   'datavalues': {},\n",
       "   'effect': [None, [3], [40], [0], [0], [30], [0], [0], [0], [0], [0]],\n",
       "   'effectBurn': [None, '3', '40', '0', '0', '30', '0', '0', '0', '0', '0'],\n",
       "   'vars': [],\n",
       "   'key': '3',\n",
       "   'summonerLevel': 4,\n",
       "   'modes': ['CLASSIC',\n",
       "    'ARAM',\n",
       "    'TUTORIAL',\n",
       "    'ARSR',\n",
       "    'DOOMBOTSTEEMO',\n",
       "    'ONEFORALL',\n",
       "    'PRACTICETOOL',\n",
       "    'URF',\n",
       "    'NEXUSBLITZ'],\n",
       "   'costType': 'No Cost',\n",
       "   'maxammo': '-1',\n",
       "   'range': [650],\n",
       "   'rangeBurn': '650',\n",
       "   'image': {'full': 'SummonerExhaust.png',\n",
       "    'sprite': 'spell0.png',\n",
       "    'group': 'spell',\n",
       "    'x': 144,\n",
       "    'y': 0,\n",
       "    'w': 48,\n",
       "    'h': 48},\n",
       "   'resource': 'No Cost'},\n",
       "  'SummonerFlash': {'id': 'SummonerFlash',\n",
       "   'name': 'Flash',\n",
       "   'description': \"Teleports your champion a short distance toward your cursor's location.\",\n",
       "   'tooltip': \"Teleports your champion a short distance toward your cursor's location.\",\n",
       "   'maxrank': 1,\n",
       "   'cooldown': [300],\n",
       "   'cooldownBurn': '300',\n",
       "   'cost': [0],\n",
       "   'costBurn': '0',\n",
       "   'datavalues': {},\n",
       "   'effect': [None, [400], [0], [0], [0], [0], [0], [0], [0], [0], [0]],\n",
       "   'effectBurn': [None, '400', '0', '0', '0', '0', '0', '0', '0', '0', '0'],\n",
       "   'vars': [],\n",
       "   'key': '4',\n",
       "   'summonerLevel': 7,\n",
       "   'modes': ['CLASSIC',\n",
       "    'ARAM',\n",
       "    'FIRSTBLOOD',\n",
       "    'TUTORIAL',\n",
       "    'STARGUARDIAN',\n",
       "    'PROJECT',\n",
       "    'ARSR',\n",
       "    'ASSASSINATE',\n",
       "    'DOOMBOTSTEEMO',\n",
       "    'ONEFORALL',\n",
       "    'PRACTICETOOL',\n",
       "    'SNOWURF',\n",
       "    'URF',\n",
       "    'NEXUSBLITZ'],\n",
       "   'costType': 'No Cost',\n",
       "   'maxammo': '-1',\n",
       "   'range': [425],\n",
       "   'rangeBurn': '425',\n",
       "   'image': {'full': 'SummonerFlash.png',\n",
       "    'sprite': 'spell0.png',\n",
       "    'group': 'spell',\n",
       "    'x': 192,\n",
       "    'y': 0,\n",
       "    'w': 48,\n",
       "    'h': 48},\n",
       "   'resource': 'No Cost'},\n",
       "  'SummonerHaste': {'id': 'SummonerHaste',\n",
       "   'name': 'Ghost',\n",
       "   'description': 'For 10 seconds, your champion can move through units and gains 24 - 48% Movement Speed (depending on champion level). Ghost extends its duration on takedown.',\n",
       "   'tooltip': 'For {{ duration }} seconds, your champion can move through units and gains {{ movespeedmod }} Movement Speed.<br /><br />Ghost extends its duration by {{ takedownextension }} seconds on takedown.',\n",
       "   'maxrank': 1,\n",
       "   'cooldown': [210],\n",
       "   'cooldownBurn': '210',\n",
       "   'cost': [0],\n",
       "   'costBurn': '0',\n",
       "   'datavalues': {},\n",
       "   'effect': [None, [0], [0], [0], [0], [0], [0], [0], [0], [0], [0]],\n",
       "   'effectBurn': [None, '0', '0', '0', '0', '0', '0', '0', '0', '0', '0'],\n",
       "   'vars': [],\n",
       "   'key': '6',\n",
       "   'summonerLevel': 1,\n",
       "   'modes': ['CLASSIC',\n",
       "    'ARAM',\n",
       "    'FIRSTBLOOD',\n",
       "    'TUTORIAL',\n",
       "    'STARGUARDIAN',\n",
       "    'PROJECT',\n",
       "    'ARSR',\n",
       "    'ASSASSINATE',\n",
       "    'DOOMBOTSTEEMO',\n",
       "    'ONEFORALL',\n",
       "    'PRACTICETOOL',\n",
       "    'TUTORIAL_MODULE_1',\n",
       "    'TUTORIAL_MODULE_2',\n",
       "    'URF',\n",
       "    'NEXUSBLITZ'],\n",
       "   'costType': 'No Cost',\n",
       "   'maxammo': '-1',\n",
       "   'range': [200],\n",
       "   'rangeBurn': '200',\n",
       "   'image': {'full': 'SummonerHaste.png',\n",
       "    'sprite': 'spell0.png',\n",
       "    'group': 'spell',\n",
       "    'x': 240,\n",
       "    'y': 0,\n",
       "    'w': 48,\n",
       "    'h': 48},\n",
       "   'resource': 'No Cost'},\n",
       "  'SummonerHeal': {'id': 'SummonerHeal',\n",
       "   'name': 'Heal',\n",
       "   'description': 'Restores 90-345 Health (depending on champion level) and grants 30% Movement Speed for 1 second to you and target allied champion. This healing is halved for units recently affected by Summoner Heal.',\n",
       "   'tooltip': 'Restores {{ f1 }} Health and grants 30% Movement Speed for 1 second to your champion and target allied champion. This healing is halved for units recently affected by Summoner Heal.<br /><br /><span class=\"colorFFFF00\">If this spell cannot find a target, it will cast on the most wounded allied champion in range.</span>',\n",
       "   'maxrank': 1,\n",
       "   'cooldown': [240],\n",
       "   'cooldownBurn': '240',\n",
       "   'cost': [0],\n",
       "   'costBurn': '0',\n",
       "   'datavalues': {},\n",
       "   'effect': [None,\n",
       "    [0.3],\n",
       "    [75],\n",
       "    [15],\n",
       "    [0.5],\n",
       "    [826],\n",
       "    [0.5],\n",
       "    [0],\n",
       "    [0],\n",
       "    [0],\n",
       "    [0]],\n",
       "   'effectBurn': [None,\n",
       "    '0.3',\n",
       "    '75',\n",
       "    '15',\n",
       "    '0.5',\n",
       "    '826',\n",
       "    '0.5',\n",
       "    '0',\n",
       "    '0',\n",
       "    '0',\n",
       "    '0'],\n",
       "   'vars': [{'link': '@player.level',\n",
       "     'coeff': [90,\n",
       "      105,\n",
       "      120,\n",
       "      135,\n",
       "      150,\n",
       "      165,\n",
       "      180,\n",
       "      195,\n",
       "      210,\n",
       "      225,\n",
       "      240,\n",
       "      255,\n",
       "      270,\n",
       "      285,\n",
       "      300,\n",
       "      315,\n",
       "      330,\n",
       "      345],\n",
       "     'key': 'f1'}],\n",
       "   'key': '7',\n",
       "   'summonerLevel': 1,\n",
       "   'modes': ['CLASSIC',\n",
       "    'ARAM',\n",
       "    'TUTORIAL',\n",
       "    'STARGUARDIAN',\n",
       "    'PROJECT',\n",
       "    'ARSR',\n",
       "    'ASSASSINATE',\n",
       "    'DOOMBOTSTEEMO',\n",
       "    'ONEFORALL',\n",
       "    'PRACTICETOOL',\n",
       "    'TUTORIAL_MODULE_1',\n",
       "    'TUTORIAL_MODULE_2',\n",
       "    'URF',\n",
       "    'NEXUSBLITZ'],\n",
       "   'costType': 'No Cost',\n",
       "   'maxammo': '-1',\n",
       "   'range': [850],\n",
       "   'rangeBurn': '850',\n",
       "   'image': {'full': 'SummonerHeal.png',\n",
       "    'sprite': 'spell0.png',\n",
       "    'group': 'spell',\n",
       "    'x': 288,\n",
       "    'y': 0,\n",
       "    'w': 48,\n",
       "    'h': 48},\n",
       "   'resource': 'No Cost'},\n",
       "  'SummonerMana': {'id': 'SummonerMana',\n",
       "   'name': 'Clarity',\n",
       "   'description': \"Restores 50% of your champion's maximum Mana. Also restores allies for 25% of their maximum Mana.\",\n",
       "   'tooltip': 'Restores {{ f1 }}% maximum Mana to your Champion and {{ f2 }}% to nearby allies.',\n",
       "   'maxrank': 1,\n",
       "   'cooldown': [240],\n",
       "   'cooldownBurn': '240',\n",
       "   'cost': [0],\n",
       "   'costBurn': '0',\n",
       "   'datavalues': {},\n",
       "   'effect': [None, [50], [25], [0], [0], [0], [0], [0], [0], [0], [0]],\n",
       "   'effectBurn': [None, '50', '25', '0', '0', '0', '0', '0', '0', '0', '0'],\n",
       "   'vars': [{'link': '@player.level',\n",
       "     'coeff': [190,\n",
       "      220,\n",
       "      250,\n",
       "      280,\n",
       "      310,\n",
       "      340,\n",
       "      370,\n",
       "      400,\n",
       "      430,\n",
       "      460,\n",
       "      490,\n",
       "      520,\n",
       "      550,\n",
       "      580,\n",
       "      610,\n",
       "      640,\n",
       "      670,\n",
       "      700],\n",
       "     'key': 'f1'},\n",
       "    {'link': '@player.level',\n",
       "     'coeff': [95,\n",
       "      110,\n",
       "      125,\n",
       "      140,\n",
       "      155,\n",
       "      170,\n",
       "      185,\n",
       "      200,\n",
       "      215,\n",
       "      230,\n",
       "      245,\n",
       "      260,\n",
       "      275,\n",
       "      290,\n",
       "      305,\n",
       "      320,\n",
       "      335,\n",
       "      350],\n",
       "     'key': 'f2'}],\n",
       "   'key': '13',\n",
       "   'summonerLevel': 6,\n",
       "   'modes': ['ODIN', 'ARAM', 'ASCENSION', 'FIRSTBLOOD'],\n",
       "   'costType': 'No Cost',\n",
       "   'maxammo': '-1',\n",
       "   'range': [600],\n",
       "   'rangeBurn': '600',\n",
       "   'image': {'full': 'SummonerMana.png',\n",
       "    'sprite': 'spell0.png',\n",
       "    'group': 'spell',\n",
       "    'x': 336,\n",
       "    'y': 0,\n",
       "    'w': 48,\n",
       "    'h': 48},\n",
       "   'resource': 'No Cost'},\n",
       "  'SummonerPoroRecall': {'id': 'SummonerPoroRecall',\n",
       "   'name': 'To the King!',\n",
       "   'description': \"Quickly travel to the Poro King's side.\",\n",
       "   'tooltip': '<span class=\"colorFFE076\">Passive:</span> Hitting an enemy champion with a Poro gives your team a Poro Mark. Upon reaching 10 Poro Marks, your team summons the Poro King to fight alongside them. While the Poro King is active, no Poro Marks can be scored by either team.<br /><br /><span class=\"colorFFE076\">Active:</span> Quickly dash to King Poro\\'s side. Can only be cast while the Poro King is summoned for your team. <br /><br /><i><span class=\"colorFDD017\">\\'\\'Poros tug the heartstrings. The rest of you just comes along for the ride.\\'\\'</span></i></mainText>',\n",
       "   'maxrank': 1,\n",
       "   'cooldown': [10],\n",
       "   'cooldownBurn': '10',\n",
       "   'cost': [0],\n",
       "   'costBurn': '0',\n",
       "   'datavalues': {},\n",
       "   'effect': [None, [3000], [0], [0], [0], [0], [0], [0], [0], [0], [0]],\n",
       "   'effectBurn': [None, '3000', '0', '0', '0', '0', '0', '0', '0', '0', '0'],\n",
       "   'vars': [],\n",
       "   'key': '30',\n",
       "   'summonerLevel': 1,\n",
       "   'modes': ['KINGPORO'],\n",
       "   'costType': 'No Cost',\n",
       "   'maxammo': '-1',\n",
       "   'range': [200],\n",
       "   'rangeBurn': '200',\n",
       "   'image': {'full': 'SummonerPoroRecall.png',\n",
       "    'sprite': 'spell0.png',\n",
       "    'group': 'spell',\n",
       "    'x': 384,\n",
       "    'y': 0,\n",
       "    'w': 48,\n",
       "    'h': 48},\n",
       "   'resource': 'No Cost'},\n",
       "  'SummonerPoroThrow': {'id': 'SummonerPoroThrow',\n",
       "   'name': 'Poro Toss',\n",
       "   'description': 'Toss a Poro at your enemies. If it hits, you can quickly travel to your target as a follow up.',\n",
       "   'tooltip': 'Toss a Poro a long distance, dealing {{ f2 }} true damage to the first enemy unit hit, granting <span class=\"coloree91d7\">True Sight</span> of the target.<br /><br />This ability can be recast for 3 seconds if it hits an enemy to dash to the target hit, dealing {{ f2 }} more true damage and reducing the cooldown of the next Poro Toss by {{ e4 }} seconds.<br /><br />Poros are not blocked by spell shields or wind walls because they are animals, not spells!<br /><br /><i><span class=\"colorFDD017\">\\'\\'Poros are a model for Runeterran aerodynamics.\\'\\'</span></i></mainText>',\n",
       "   'maxrank': 1,\n",
       "   'cooldown': [20],\n",
       "   'cooldownBurn': '20',\n",
       "   'cost': [0],\n",
       "   'costBurn': '0',\n",
       "   'datavalues': {},\n",
       "   'effect': [None, [20], [10], [3], [5], [0], [0], [0], [0], [0], [0]],\n",
       "   'effectBurn': [None, '20', '10', '3', '5', '0', '0', '0', '0', '0', '0'],\n",
       "   'vars': [],\n",
       "   'key': '31',\n",
       "   'summonerLevel': 1,\n",
       "   'modes': ['KINGPORO'],\n",
       "   'costType': 'No Cost',\n",
       "   'maxammo': '-1',\n",
       "   'range': [2500],\n",
       "   'rangeBurn': '2500',\n",
       "   'image': {'full': 'SummonerPoroThrow.png',\n",
       "    'sprite': 'spell0.png',\n",
       "    'group': 'spell',\n",
       "    'x': 432,\n",
       "    'y': 0,\n",
       "    'w': 48,\n",
       "    'h': 48},\n",
       "   'resource': 'No Cost'},\n",
       "  'SummonerSmite': {'id': 'SummonerSmite',\n",
       "   'name': 'Smite',\n",
       "   'description': 'Deals 390-1000 true damage (depending on champion level) to target epic, large, or medium monster or enemy minion. Restores Health based on your maximum life when used against monsters.',\n",
       "   'tooltip': 'Deals <span class=\"colorFEFCFF\">{{ f1 }}</span> true damage to target epic, large, or medium monster or enemy minion.  Against monsters, additionally restores <span class=\"colorFFFFFF\">{{ f6 }}</span> <span class=\"colorFF6666\">(+{{ f7 }})</span> Health.<br /><br />Smite regains a charge every {{ ammorechargetime }} seconds, up to a maximum of 2 charges.',\n",
       "   'maxrank': 1,\n",
       "   'cooldown': [15],\n",
       "   'cooldownBurn': '15',\n",
       "   'cost': [0],\n",
       "   'costBurn': '0',\n",
       "   'datavalues': {},\n",
       "   'effect': [None, [15], [0], [0], [0], [0], [0], [0], [0], [0], [0]],\n",
       "   'effectBurn': [None, '15', '0', '0', '0', '0', '0', '0', '0', '0', '0'],\n",
       "   'vars': [{'link': '@player.level',\n",
       "     'coeff': [390,\n",
       "      410,\n",
       "      430,\n",
       "      450,\n",
       "      480,\n",
       "      510,\n",
       "      540,\n",
       "      570,\n",
       "      600,\n",
       "      640,\n",
       "      680,\n",
       "      720,\n",
       "      760,\n",
       "      800,\n",
       "      850,\n",
       "      900,\n",
       "      950,\n",
       "      1000],\n",
       "     'key': 'f1'}],\n",
       "   'key': '11',\n",
       "   'summonerLevel': 9,\n",
       "   'modes': ['CLASSIC',\n",
       "    'TUTORIAL',\n",
       "    'ARSR',\n",
       "    'DOOMBOTSTEEMO',\n",
       "    'ONEFORALL',\n",
       "    'PRACTICETOOL',\n",
       "    'URF',\n",
       "    'NEXUSBLITZ'],\n",
       "   'costType': 'No Cost',\n",
       "   'maxammo': '2',\n",
       "   'range': [500],\n",
       "   'rangeBurn': '500',\n",
       "   'image': {'full': 'SummonerSmite.png',\n",
       "    'sprite': 'spell0.png',\n",
       "    'group': 'spell',\n",
       "    'x': 0,\n",
       "    'y': 48,\n",
       "    'w': 48,\n",
       "    'h': 48},\n",
       "   'resource': 'No Cost'},\n",
       "  'SummonerSnowURFSnowball_Mark': {'id': 'SummonerSnowURFSnowball_Mark',\n",
       "   'name': 'Mark',\n",
       "   'description': 'Throw a snowball in a straight line at your enemies. If it hits an enemy, they become marked, granting True Sight, and your champion can quickly travel to the marked target as a follow up.',\n",
       "   'tooltip': 'Throw a snowball a long distance, dealing {{ f1 }} true damage to the first enemy unit hit and granting <span class=\"coloree91d7\">True Sight</span> of the target. If it hits an enemy, this ability can be recast for {{ e3 }} seconds to Dash to the tagged unit, dealing an additional {{ f1 }} true damage. Dashing to the target will reduce the cooldown of Mark by {{ e4 }}%.<br /><br /><span class=\"colorFFFF00\">Mark projectiles are not stopped by spell shields or projectile mitigation.</span>',\n",
       "   'maxrank': 1,\n",
       "   'cooldown': [80],\n",
       "   'cooldownBurn': '80',\n",
       "   'cost': [0],\n",
       "   'costBurn': '0',\n",
       "   'datavalues': {},\n",
       "   'effect': [None, [10], [5], [3], [25], [0], [0], [0], [0], [0], [0]],\n",
       "   'effectBurn': [None, '10', '5', '3', '25', '0', '0', '0', '0', '0', '0'],\n",
       "   'vars': [],\n",
       "   'key': '39',\n",
       "   'summonerLevel': 6,\n",
       "   'modes': ['SNOWURF'],\n",
       "   'costType': 'No Cost',\n",
       "   'maxammo': '-1',\n",
       "   'range': [8000],\n",
       "   'rangeBurn': '8000',\n",
       "   'image': {'full': 'SummonerSnowURFSnowball_Mark.png',\n",
       "    'sprite': 'spell0.png',\n",
       "    'group': 'spell',\n",
       "    'x': 48,\n",
       "    'y': 48,\n",
       "    'w': 48,\n",
       "    'h': 48},\n",
       "   'resource': 'No Cost'},\n",
       "  'SummonerSnowball': {'id': 'SummonerSnowball',\n",
       "   'name': 'Mark',\n",
       "   'description': 'Throw a snowball in a straight line at your enemies. If it hits an enemy, they become marked, granting True Sight, and your champion can quickly travel to the marked target as a follow up.',\n",
       "   'tooltip': 'Throw a snowball a long distance, dealing {{ f1 }} true damage to the first enemy unit hit and granting <span class=\"coloree91d7\">True Sight</span> of the target. If it hits an enemy, this ability can be recast for {{ e3 }} seconds to Dash to the tagged unit, dealing an additional {{ f1 }} true damage. Dashing to the target will reduce the cooldown of Mark by {{ e4 }}%.<br /><br /><span class=\"colorFFFF00\">Mark projectiles are not stopped by spell shields or projectile mitigation.</span>',\n",
       "   'maxrank': 1,\n",
       "   'cooldown': [80],\n",
       "   'cooldownBurn': '80',\n",
       "   'cost': [0],\n",
       "   'costBurn': '0',\n",
       "   'datavalues': {},\n",
       "   'effect': [None, [10], [5], [3], [25], [0], [0], [0], [0], [0], [0]],\n",
       "   'effectBurn': [None, '10', '5', '3', '25', '0', '0', '0', '0', '0', '0'],\n",
       "   'vars': [],\n",
       "   'key': '32',\n",
       "   'summonerLevel': 6,\n",
       "   'modes': ['ARAM', 'FIRSTBLOOD'],\n",
       "   'costType': 'No Cost',\n",
       "   'maxammo': '-1',\n",
       "   'range': [1600],\n",
       "   'rangeBurn': '1600',\n",
       "   'image': {'full': 'SummonerSnowball.png',\n",
       "    'sprite': 'spell0.png',\n",
       "    'group': 'spell',\n",
       "    'x': 96,\n",
       "    'y': 48,\n",
       "    'w': 48,\n",
       "    'h': 48},\n",
       "   'resource': 'No Cost'},\n",
       "  'SummonerTeleport': {'id': 'SummonerTeleport',\n",
       "   'name': 'Teleport',\n",
       "   'description': 'After channeling for 4 seconds, teleports your champion to target allied structure, minion, or ward and grants a Movement Speed boost. The cooldown of Teleport scales from 420-240 seconds depending on champion level.',\n",
       "   'tooltip': 'After channeling for {{ channelduration }} seconds, your champion teleports to target allied structure, minion, or ward and grants a {{ movespeedbuff }} Movement Speed boost for {{ msduration }} seconds.',\n",
       "   'maxrank': 1,\n",
       "   'cooldown': [0],\n",
       "   'cooldownBurn': '0',\n",
       "   'cost': [0],\n",
       "   'costBurn': '0',\n",
       "   'datavalues': {},\n",
       "   'effect': [None, [0], [0], [0], [0], [0], [0], [0], [0], [0], [0]],\n",
       "   'effectBurn': [None, '0', '0', '0', '0', '0', '0', '0', '0', '0', '0'],\n",
       "   'vars': [],\n",
       "   'key': '12',\n",
       "   'summonerLevel': 7,\n",
       "   'modes': ['CLASSIC',\n",
       "    'TUTORIAL',\n",
       "    'ASSASSINATE',\n",
       "    'ARSR',\n",
       "    'DOOMBOTSTEEMO',\n",
       "    'ONEFORALL',\n",
       "    'PRACTICETOOL',\n",
       "    'GAMEMODEX'],\n",
       "   'costType': 'No Cost',\n",
       "   'maxammo': '-1',\n",
       "   'range': [25000],\n",
       "   'rangeBurn': '25000',\n",
       "   'image': {'full': 'SummonerTeleport.png',\n",
       "    'sprite': 'spell0.png',\n",
       "    'group': 'spell',\n",
       "    'x': 144,\n",
       "    'y': 48,\n",
       "    'w': 48,\n",
       "    'h': 48},\n",
       "   'resource': 'No Cost'}}}"
      ]
     },
     "execution_count": 21,
     "metadata": {},
     "output_type": "execute_result"
    }
   ],
   "source": [
    "static_champ_list"
   ]
  },
  {
   "cell_type": "code",
   "execution_count": null,
   "metadata": {},
   "outputs": [],
   "source": []
  }
 ],
 "metadata": {
  "kernelspec": {
   "display_name": "Python 3",
   "language": "python",
   "name": "python3"
  },
  "language_info": {
   "codemirror_mode": {
    "name": "ipython",
    "version": 3
   },
   "file_extension": ".py",
   "mimetype": "text/x-python",
   "name": "python",
   "nbconvert_exporter": "python",
   "pygments_lexer": "ipython3",
   "version": "3.7.4"
  }
 },
 "nbformat": 4,
 "nbformat_minor": 4
}
