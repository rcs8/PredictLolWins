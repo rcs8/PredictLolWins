{
 "cells": [
  {
   "cell_type": "code",
   "execution_count": 1,
   "metadata": {},
   "outputs": [],
   "source": [
    "import pandas as pd\n",
    "import numpy as np\n",
    "import requests as rq"
   ]
  },
  {
   "cell_type": "code",
   "execution_count": 9,
   "metadata": {},
   "outputs": [],
   "source": [
    "API_KEY = \"RGAPI-2c16311f-5cfc-4724-8180-b3f72c943c3e\"\n",
    "base_diamond = \"https://br1.api.riotgames.com/lol/league/v4/entries/RANKED_SOLO_5x5/\"\n",
    "base_challenger = \"https://br1.api.riotgames.com/lol/league/v4/challengerleagues/by-queue/RANKED_SOLO_5x5/\"\n",
    "base_master = \"https://br1.api.riotgames.com/lol/league/v4/masterleagues/by-queue/RANKED_SOLO_5x5\"\n",
    "base_grand_master = \"https://br1.api.riotgames.com/lol/league/v4/grandmasterleagues/by-queue/RANKED_SOLO_5x5\""
   ]
  },
  {
   "cell_type": "code",
   "execution_count": 62,
   "metadata": {},
   "outputs": [],
   "source": [
    "def getPlayerInfos(string):\n",
    "    response = rq.get(string)\n",
    "    return response.json()"
   ]
  },
  {
   "cell_type": "code",
   "execution_count": 61,
   "metadata": {},
   "outputs": [],
   "source": [
    "def getLowEloInfos(json):\n",
    "    df = pd.DataFrame(json)\n",
    "    df[\"tier\"] = df['tier'] + df[\"rank\"]\n",
    "    df.drop([\"leagueId\",\"queueType\",\"rank\",\"miniSeries\"], axis=1,inplace=True)\n",
    "    return df   "
   ]
  },
  {
   "cell_type": "code",
   "execution_count": 89,
   "metadata": {},
   "outputs": [],
   "source": [
    "def getHighEloInfos(json):\n",
    "    df_aux = pd.DataFrame(json[\"entries\"])\n",
    "    df_aux.drop(\"rank\", axis=1, inplace=True)\n",
    "    df_aux[\"tier\"] = \"MASTER\"\n",
    "    df_aux = df_aux.reindex(\n",
    "        columns=['tier', 'summonerId', 'summonerName', \n",
    "                 'leaguePoints', 'wins', 'losses','veteran',\n",
    "                 'inactive', 'freshBlood', 'hotStreak'])\n",
    "    return df_aux"
   ]
  },
  {
   "cell_type": "code",
   "execution_count": 94,
   "metadata": {},
   "outputs": [],
   "source": [
    "divisions = [\"I\",\"II\",\"III\",\"IV\"]\n",
    "tiers = [\"DIAMOND\",\"MASTER\",\"GRANDMASTER\",\"CHALLENGER\"]\n",
    "df = pd.DataFrame()\n",
    "for i in tiers:\n",
    "    if i == \"DIAMOND\":\n",
    "        for j in divisions:\n",
    "            string = base_diamond + i + \"/\" + j + \"?api_key=\" + API_KEY\n",
    "            df_aux = getLowEloInfos(getPlayerInfos(string))\n",
    "            df = df.append(df_aux,ignore_index = True)\n",
    "    \n",
    "    elif i == \"MASTER\":\n",
    "        string = base_master + \"?api_key=\" + API_KEY\n",
    "        df_aux = getHighEloInfos(getPlayerInfos(string))\n",
    "        df = df.append(df_aux,ignore_index = True)\n",
    "    \n",
    "    \n",
    "    elif i == \"GRANDMASTER\":\n",
    "        string = base_grand_master + \"?api_key=\" + API_KEY\n",
    "        df_aux = getHighEloInfos(getPlayerInfos(string))\n",
    "        df = df.append(df_aux,ignore_index = True)\n",
    "    \n",
    "    else:\n",
    "        string = base_challenger + \"?api_key=\" + API_KEY\n",
    "        df_aux = getHighEloInfos(getPlayerInfos(string))\n",
    "        df = df.append(df_aux,ignore_index = True)\n",
    "        "
   ]
  },
  {
   "cell_type": "code",
   "execution_count": 98,
   "metadata": {},
   "outputs": [],
   "source": [
    "df.to_csv(\"usersBasicInfos.csv\")"
   ]
  },
  {
   "cell_type": "markdown",
   "metadata": {},
   "source": [
    "#### Agora vamos enriquecer esses dados com mais informações "
   ]
  },
  {
   "cell_type": "code",
   "execution_count": 10,
   "metadata": {},
   "outputs": [
    {
     "data": {
      "text/plain": [
       "Index(['leagueId', 'queueType', 'tier', 'rank', 'summonerId', 'summonerName',\n",
       "       'leaguePoints', 'wins', 'losses', 'veteran', 'inactive', 'freshBlood',\n",
       "       'hotStreak', 'miniSeries'],\n",
       "      dtype='object')"
      ]
     },
     "execution_count": 10,
     "metadata": {},
     "output_type": "execute_result"
    }
   ],
   "source": [
    "df.columns"
   ]
  },
  {
   "cell_type": "code",
   "execution_count": 6,
   "metadata": {},
   "outputs": [
    {
     "name": "stdout",
     "output_type": "stream",
     "text": [
      "{'id': 'qflJMcN2-FIcY-GZrVMB7iWWhsxxIYatZQbAfz0ye57128I', 'accountId': 'XtKl6pm7xfo2gxXM589ypwrT4Amm8iN3YHl369-_JHms9S0', 'puuid': 'DR0QmgC8OjqNl9j1Y8Bme8OGO6dT8OcsrxDT_e_xWUzQgmG4CS4kKCst3UZGbiEbtH99oATTOLaJkA', 'name': 'rllima', 'profileIconId': 4629, 'revisionDate': 1599069432000, 'summonerLevel': 181}\n"
     ]
    }
   ],
   "source": [
    "api_key = 'RGAPI-1270892c-af42-42ed-ad37-00ee4675c997'\n",
    "watcher = LolWatcher(api_key)\n",
    "my_region = 'br1'\n",
    "\n",
    "me = watcher.summoner.by_name(my_region, 'rllima')\n",
    "print(me)"
   ]
  },
  {
   "cell_type": "code",
   "execution_count": null,
   "metadata": {},
   "outputs": [],
   "source": []
  }
 ],
 "metadata": {
  "kernelspec": {
   "display_name": "Python 3",
   "language": "python",
   "name": "python3"
  },
  "language_info": {
   "codemirror_mode": {
    "name": "ipython",
    "version": 3
   },
   "file_extension": ".py",
   "mimetype": "text/x-python",
   "name": "python",
   "nbconvert_exporter": "python",
   "pygments_lexer": "ipython3",
   "version": "3.7.4"
  }
 },
 "nbformat": 4,
 "nbformat_minor": 2
}
