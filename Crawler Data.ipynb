{
 "cells": [
  {
   "cell_type": "code",
   "execution_count": 10,
   "metadata": {},
   "outputs": [],
   "source": [
    "import pandas as pd\n",
    "import numpy as np\n",
    "import requests as rq\n",
    "import time\n",
    "from requests.exceptions import HTTPError\n",
    "import json\n",
    "from jsonschema import validate"
   ]
  },
  {
   "cell_type": "code",
   "execution_count": 11,
   "metadata": {},
   "outputs": [],
   "source": [
    "schema_summoner = {\n",
    "    \n",
    "    \"id\": {\"type\": \"string\"},\n",
    "    \"accountId\": {\"type\": \"int\"},\n",
    "    \"puuid\": {\"type\": \"long\"},\n",
    "    \"name\": {\"type\": \"string\"},\n",
    "    \"profileIconId\": {\"type\": \"string\"},\n",
    "    \"revisionDate\": {\"type\": \"string\"},\n",
    "    \"summonerLevel\": {\"type\": \"long\"}  \n",
    "}"
   ]
  },
  {
   "cell_type": "code",
   "execution_count": 12,
   "metadata": {},
   "outputs": [],
   "source": [
    "API_KEY = \"RGAPI-1efd7d52-9210-470d-9595-ac6a2d38ae44\"\n",
    "base_diamond = \"https://br1.api.riotgames.com/lol/league/v4/entries/RANKED_SOLO_5x5/\"\n",
    "base_challenger = \"https://br1.api.riotgames.com/lol/league/v4/challengerleagues/by-queue/RANKED_SOLO_5x5/\"\n",
    "base_master = \"https://br1.api.riotgames.com/lol/league/v4/masterleagues/by-queue/RANKED_SOLO_5x5\"\n",
    "base_grand_master = \"https://br1.api.riotgames.com/lol/league/v4/grandmasterleagues/by-queue/RANKED_SOLO_5x5\"\n",
    "\n",
    "base_summoner_infos = \"https://br1.api.riotgames.com/lol/summoner/v4/summoners/by-name/\""
   ]
  },
  {
   "cell_type": "code",
   "execution_count": 13,
   "metadata": {},
   "outputs": [],
   "source": [
    "def makeRequest(string):\n",
    "    try:\n",
    "        response = rq.get(string)\n",
    "        response.raise_for_status()\n",
    "    except HTTPError:\n",
    "        if response.status_code == 429:\n",
    "            time.sleep(120)\n",
    "            makeRequest(string)\n",
    "    return response.json()"
   ]
  },
  {
   "cell_type": "code",
   "execution_count": 14,
   "metadata": {},
   "outputs": [],
   "source": [
    "def getLowEloInfos(json):\n",
    "    df = pd.DataFrame(json)\n",
    "    df[\"tier\"] = df['tier'] + df[\"rank\"]\n",
    "    df.drop([\"leagueId\",\"queueType\",\"rank\",\"miniSeries\"], axis=1,inplace=True)\n",
    "    return df   "
   ]
  },
  {
   "cell_type": "code",
   "execution_count": 15,
   "metadata": {},
   "outputs": [],
   "source": [
    "def getHighEloInfos(json):\n",
    "    df_aux = pd.DataFrame(json[\"entries\"])\n",
    "    df_aux.drop(\"rank\", axis=1, inplace=True)\n",
    "    df_aux[\"tier\"] = \"MASTER\"\n",
    "    df_aux = df_aux.reindex(\n",
    "        columns=['tier', 'summonerId', 'summonerName', \n",
    "                 'leaguePoints', 'wins', 'losses','veteran',\n",
    "                 'inactive', 'freshBlood', 'hotStreak'])\n",
    "    return df_aux"
   ]
  },
  {
   "cell_type": "code",
   "execution_count": 16,
   "metadata": {},
   "outputs": [
    {
     "name": "stdout",
     "output_type": "stream",
     "text": [
      "CPU times: user 278 ms, sys: 33.5 ms, total: 312 ms\n",
      "Wall time: 6.24 s\n"
     ]
    }
   ],
   "source": [
    "%%time\n",
    "divisions = [\"I\",\"II\",\"III\",\"IV\"]\n",
    "tiers = [\"DIAMOND\",\"MASTER\",\"GRANDMASTER\",\"CHALLENGER\"]\n",
    "df = pd.DataFrame()\n",
    "for i in tiers:\n",
    "    if i == \"DIAMOND\":\n",
    "        for j in divisions:\n",
    "            string = base_diamond + i + \"/\" + j + \"?api_key=\" + API_KEY\n",
    "            df_aux = getLowEloInfos(makeRequest(string))\n",
    "            df = df.append(df_aux,ignore_index = True)\n",
    "    \n",
    "    elif i == \"MASTER\":\n",
    "        string = base_master + \"?api_key=\" + API_KEY\n",
    "        df_aux = getHighEloInfos(makeRequest(string))\n",
    "        df = df.append(df_aux,ignore_index = True)\n",
    "    \n",
    "    \n",
    "    elif i == \"GRANDMASTER\":\n",
    "        string = base_grand_master + \"?api_key=\" + API_KEY\n",
    "        df_aux = getHighEloInfos(makeRequest(string))\n",
    "        df = df.append(df_aux,ignore_index = True)\n",
    "    \n",
    "    else:\n",
    "        string = base_challenger + \"?api_key=\" + API_KEY\n",
    "        df_aux = getHighEloInfos(makeRequest(string))\n",
    "        df = df.append(df_aux,ignore_index = True)\n",
    "        "
   ]
  },
  {
   "cell_type": "code",
   "execution_count": 17,
   "metadata": {},
   "outputs": [
    {
     "data": {
      "text/html": [
       "<div>\n",
       "<style scoped>\n",
       "    .dataframe tbody tr th:only-of-type {\n",
       "        vertical-align: middle;\n",
       "    }\n",
       "\n",
       "    .dataframe tbody tr th {\n",
       "        vertical-align: top;\n",
       "    }\n",
       "\n",
       "    .dataframe thead th {\n",
       "        text-align: right;\n",
       "    }\n",
       "</style>\n",
       "<table border=\"1\" class=\"dataframe\">\n",
       "  <thead>\n",
       "    <tr style=\"text-align: right;\">\n",
       "      <th></th>\n",
       "      <th>tier</th>\n",
       "      <th>summonerId</th>\n",
       "      <th>summonerName</th>\n",
       "      <th>leaguePoints</th>\n",
       "      <th>wins</th>\n",
       "      <th>losses</th>\n",
       "      <th>veteran</th>\n",
       "      <th>inactive</th>\n",
       "      <th>freshBlood</th>\n",
       "      <th>hotStreak</th>\n",
       "    </tr>\n",
       "  </thead>\n",
       "  <tbody>\n",
       "    <tr>\n",
       "      <td>0</td>\n",
       "      <td>DIAMONDI</td>\n",
       "      <td>a6XNnr-OC1673HAJaeCorjI1T9Sbe7gYJIBpbsu_CllJIOI</td>\n",
       "      <td>LokiFc</td>\n",
       "      <td>100</td>\n",
       "      <td>188</td>\n",
       "      <td>177</td>\n",
       "      <td>False</td>\n",
       "      <td>False</td>\n",
       "      <td>False</td>\n",
       "      <td>False</td>\n",
       "    </tr>\n",
       "    <tr>\n",
       "      <td>1</td>\n",
       "      <td>DIAMONDI</td>\n",
       "      <td>6YbR4YdY-AewAr2ihQtT_qHhJyNGtHUZNDLexZBQGU7ZZGQ</td>\n",
       "      <td>Janna Jana Janna</td>\n",
       "      <td>6</td>\n",
       "      <td>291</td>\n",
       "      <td>291</td>\n",
       "      <td>False</td>\n",
       "      <td>False</td>\n",
       "      <td>False</td>\n",
       "      <td>False</td>\n",
       "    </tr>\n",
       "    <tr>\n",
       "      <td>2</td>\n",
       "      <td>DIAMONDI</td>\n",
       "      <td>h_TlijF-s3RAtZaCyUVvBvgO-GGVuG60TqH3h7cTGrOKT18</td>\n",
       "      <td>lepanta</td>\n",
       "      <td>75</td>\n",
       "      <td>120</td>\n",
       "      <td>100</td>\n",
       "      <td>False</td>\n",
       "      <td>False</td>\n",
       "      <td>False</td>\n",
       "      <td>False</td>\n",
       "    </tr>\n",
       "    <tr>\n",
       "      <td>3</td>\n",
       "      <td>DIAMONDI</td>\n",
       "      <td>8fb8V6VEtBGfFZgq3Fyv3eEJ43UQyIeFOCm0SKEQvgu673M</td>\n",
       "      <td>i still hate you</td>\n",
       "      <td>0</td>\n",
       "      <td>350</td>\n",
       "      <td>298</td>\n",
       "      <td>False</td>\n",
       "      <td>False</td>\n",
       "      <td>False</td>\n",
       "      <td>False</td>\n",
       "    </tr>\n",
       "    <tr>\n",
       "      <td>4</td>\n",
       "      <td>DIAMONDI</td>\n",
       "      <td>yMjxJWZ9bgYm-QRQTLetKFsSDxM04GaLxNSdQSOpP_NsBW0</td>\n",
       "      <td>catch a fireee</td>\n",
       "      <td>0</td>\n",
       "      <td>423</td>\n",
       "      <td>389</td>\n",
       "      <td>True</td>\n",
       "      <td>False</td>\n",
       "      <td>False</td>\n",
       "      <td>False</td>\n",
       "    </tr>\n",
       "  </tbody>\n",
       "</table>\n",
       "</div>"
      ],
      "text/plain": [
       "       tier                                       summonerId  \\\n",
       "0  DIAMONDI  a6XNnr-OC1673HAJaeCorjI1T9Sbe7gYJIBpbsu_CllJIOI   \n",
       "1  DIAMONDI  6YbR4YdY-AewAr2ihQtT_qHhJyNGtHUZNDLexZBQGU7ZZGQ   \n",
       "2  DIAMONDI  h_TlijF-s3RAtZaCyUVvBvgO-GGVuG60TqH3h7cTGrOKT18   \n",
       "3  DIAMONDI  8fb8V6VEtBGfFZgq3Fyv3eEJ43UQyIeFOCm0SKEQvgu673M   \n",
       "4  DIAMONDI  yMjxJWZ9bgYm-QRQTLetKFsSDxM04GaLxNSdQSOpP_NsBW0   \n",
       "\n",
       "       summonerName  leaguePoints  wins  losses  veteran  inactive  \\\n",
       "0            LokiFc           100   188     177    False     False   \n",
       "1  Janna Jana Janna             6   291     291    False     False   \n",
       "2           lepanta            75   120     100    False     False   \n",
       "3  i still hate you             0   350     298    False     False   \n",
       "4    catch a fireee             0   423     389     True     False   \n",
       "\n",
       "   freshBlood  hotStreak  \n",
       "0       False      False  \n",
       "1       False      False  \n",
       "2       False      False  \n",
       "3       False      False  \n",
       "4       False      False  "
      ]
     },
     "execution_count": 17,
     "metadata": {},
     "output_type": "execute_result"
    }
   ],
   "source": [
    "df.head()"
   ]
  },
  {
   "cell_type": "code",
   "execution_count": 18,
   "metadata": {},
   "outputs": [],
   "source": [
    "df.to_csv(\"usersBasicInfos.csv\",index=False)"
   ]
  },
  {
   "cell_type": "code",
   "execution_count": 19,
   "metadata": {},
   "outputs": [],
   "source": [
    "df = pd.read_csv(\"usersBasicInfos.csv\")"
   ]
  },
  {
   "cell_type": "code",
   "execution_count": 20,
   "metadata": {},
   "outputs": [
    {
     "data": {
      "text/plain": [
       "(2681, 10)"
      ]
     },
     "execution_count": 20,
     "metadata": {},
     "output_type": "execute_result"
    }
   ],
   "source": [
    "df.shape"
   ]
  },
  {
   "cell_type": "code",
   "execution_count": 21,
   "metadata": {
    "scrolled": true
   },
   "outputs": [
    {
     "data": {
      "text/html": [
       "<div>\n",
       "<style scoped>\n",
       "    .dataframe tbody tr th:only-of-type {\n",
       "        vertical-align: middle;\n",
       "    }\n",
       "\n",
       "    .dataframe tbody tr th {\n",
       "        vertical-align: top;\n",
       "    }\n",
       "\n",
       "    .dataframe thead th {\n",
       "        text-align: right;\n",
       "    }\n",
       "</style>\n",
       "<table border=\"1\" class=\"dataframe\">\n",
       "  <thead>\n",
       "    <tr style=\"text-align: right;\">\n",
       "      <th></th>\n",
       "      <th>tier</th>\n",
       "      <th>summonerId</th>\n",
       "      <th>summonerName</th>\n",
       "      <th>leaguePoints</th>\n",
       "      <th>wins</th>\n",
       "      <th>losses</th>\n",
       "      <th>veteran</th>\n",
       "      <th>inactive</th>\n",
       "      <th>freshBlood</th>\n",
       "      <th>hotStreak</th>\n",
       "    </tr>\n",
       "  </thead>\n",
       "  <tbody>\n",
       "    <tr>\n",
       "      <td>0</td>\n",
       "      <td>DIAMONDI</td>\n",
       "      <td>a6XNnr-OC1673HAJaeCorjI1T9Sbe7gYJIBpbsu_CllJIOI</td>\n",
       "      <td>LokiFc</td>\n",
       "      <td>100</td>\n",
       "      <td>188</td>\n",
       "      <td>177</td>\n",
       "      <td>False</td>\n",
       "      <td>False</td>\n",
       "      <td>False</td>\n",
       "      <td>False</td>\n",
       "    </tr>\n",
       "    <tr>\n",
       "      <td>1</td>\n",
       "      <td>DIAMONDI</td>\n",
       "      <td>6YbR4YdY-AewAr2ihQtT_qHhJyNGtHUZNDLexZBQGU7ZZGQ</td>\n",
       "      <td>Janna Jana Janna</td>\n",
       "      <td>6</td>\n",
       "      <td>291</td>\n",
       "      <td>291</td>\n",
       "      <td>False</td>\n",
       "      <td>False</td>\n",
       "      <td>False</td>\n",
       "      <td>False</td>\n",
       "    </tr>\n",
       "    <tr>\n",
       "      <td>2</td>\n",
       "      <td>DIAMONDI</td>\n",
       "      <td>h_TlijF-s3RAtZaCyUVvBvgO-GGVuG60TqH3h7cTGrOKT18</td>\n",
       "      <td>lepanta</td>\n",
       "      <td>75</td>\n",
       "      <td>120</td>\n",
       "      <td>100</td>\n",
       "      <td>False</td>\n",
       "      <td>False</td>\n",
       "      <td>False</td>\n",
       "      <td>False</td>\n",
       "    </tr>\n",
       "    <tr>\n",
       "      <td>3</td>\n",
       "      <td>DIAMONDI</td>\n",
       "      <td>8fb8V6VEtBGfFZgq3Fyv3eEJ43UQyIeFOCm0SKEQvgu673M</td>\n",
       "      <td>i still hate you</td>\n",
       "      <td>0</td>\n",
       "      <td>350</td>\n",
       "      <td>298</td>\n",
       "      <td>False</td>\n",
       "      <td>False</td>\n",
       "      <td>False</td>\n",
       "      <td>False</td>\n",
       "    </tr>\n",
       "    <tr>\n",
       "      <td>4</td>\n",
       "      <td>DIAMONDI</td>\n",
       "      <td>yMjxJWZ9bgYm-QRQTLetKFsSDxM04GaLxNSdQSOpP_NsBW0</td>\n",
       "      <td>catch a fireee</td>\n",
       "      <td>0</td>\n",
       "      <td>423</td>\n",
       "      <td>389</td>\n",
       "      <td>True</td>\n",
       "      <td>False</td>\n",
       "      <td>False</td>\n",
       "      <td>False</td>\n",
       "    </tr>\n",
       "  </tbody>\n",
       "</table>\n",
       "</div>"
      ],
      "text/plain": [
       "       tier                                       summonerId  \\\n",
       "0  DIAMONDI  a6XNnr-OC1673HAJaeCorjI1T9Sbe7gYJIBpbsu_CllJIOI   \n",
       "1  DIAMONDI  6YbR4YdY-AewAr2ihQtT_qHhJyNGtHUZNDLexZBQGU7ZZGQ   \n",
       "2  DIAMONDI  h_TlijF-s3RAtZaCyUVvBvgO-GGVuG60TqH3h7cTGrOKT18   \n",
       "3  DIAMONDI  8fb8V6VEtBGfFZgq3Fyv3eEJ43UQyIeFOCm0SKEQvgu673M   \n",
       "4  DIAMONDI  yMjxJWZ9bgYm-QRQTLetKFsSDxM04GaLxNSdQSOpP_NsBW0   \n",
       "\n",
       "       summonerName  leaguePoints  wins  losses  veteran  inactive  \\\n",
       "0            LokiFc           100   188     177    False     False   \n",
       "1  Janna Jana Janna             6   291     291    False     False   \n",
       "2           lepanta            75   120     100    False     False   \n",
       "3  i still hate you             0   350     298    False     False   \n",
       "4    catch a fireee             0   423     389     True     False   \n",
       "\n",
       "   freshBlood  hotStreak  \n",
       "0       False      False  \n",
       "1       False      False  \n",
       "2       False      False  \n",
       "3       False      False  \n",
       "4       False      False  "
      ]
     },
     "execution_count": 21,
     "metadata": {},
     "output_type": "execute_result"
    }
   ],
   "source": [
    "df.head()"
   ]
  },
  {
   "cell_type": "markdown",
   "metadata": {},
   "source": [
    "#### Agora vamos enriquecer esses dados com mais informações "
   ]
  },
  {
   "cell_type": "code",
   "execution_count": 22,
   "metadata": {},
   "outputs": [],
   "source": [
    "def checkFields(response, fields):\n",
    "    for i in fields:\n",
    "        if i not in response:\n",
    "            return False\n",
    "    return True"
   ]
  },
  {
   "cell_type": "code",
   "execution_count": 52,
   "metadata": {},
   "outputs": [],
   "source": [
    "def getSummonerInfos(summonerNames):\n",
    "    list_dicts = []\n",
    "    count = 0\n",
    "    for i in summonerNames:\n",
    "        count+=1\n",
    "        if (count % 100) == 0:\n",
    "            df_temp = pd.DataFrame(list_dicts)\n",
    "            df_temp.to_csv(\"DataSummornerTemp.csv\")\n",
    "        string = base_summoner_infos + i + \"?api_key=\" + API_KEY\n",
    "        response = makeRequest(string)\n",
    "        infos_dict = {}\n",
    "        if checkFields(response,[\"accountId\",\"summonerLevel\",\"puuid\"]):\n",
    "            infos_dict[\"summonerName\"] = i\n",
    "            infos_dict[\"accountId\"] = response[\"accountId\"]\n",
    "            infos_dict[\"summonerLevel\"] = response[\"summonerLevel\"]\n",
    "            infos_dict[\"puuid\"] = response[\"puuid\"]\n",
    "            list_dicts.append(infos_dict)\n",
    "    return list_dicts"
   ]
  },
  {
   "cell_type": "code",
   "execution_count": 40,
   "metadata": {},
   "outputs": [],
   "source": [
    "names = df.summonerName.to_list()"
   ]
  },
  {
   "cell_type": "code",
   "execution_count": 31,
   "metadata": {},
   "outputs": [
    {
     "data": {
      "text/plain": [
       "2681"
      ]
     },
     "execution_count": 31,
     "metadata": {},
     "output_type": "execute_result"
    }
   ],
   "source": [
    "len(names)"
   ]
  },
  {
   "cell_type": "code",
   "execution_count": 49,
   "metadata": {},
   "outputs": [],
   "source": [
    "df_backup = pd.read_csv(\"DataSummornerTemp.csv\")"
   ]
  },
  {
   "cell_type": "code",
   "execution_count": 53,
   "metadata": {},
   "outputs": [
    {
     "name": "stdout",
     "output_type": "stream",
     "text": [
      "CPU times: user 1min 27s, sys: 7.83 s, total: 1min 35s\n",
      "Wall time: 1h 24min 35s\n"
     ]
    }
   ],
   "source": [
    "%%time\n",
    "infos_plus = getSummonerInfos(names)"
   ]
  },
  {
   "cell_type": "code",
   "execution_count": 55,
   "metadata": {},
   "outputs": [
    {
     "data": {
      "text/plain": [
       "2644"
      ]
     },
     "execution_count": 55,
     "metadata": {},
     "output_type": "execute_result"
    }
   ],
   "source": [
    "len(infos_plus)"
   ]
  },
  {
   "cell_type": "code",
   "execution_count": 56,
   "metadata": {},
   "outputs": [],
   "source": [
    "df_summoner = pd.DataFrame(infos_plus)"
   ]
  },
  {
   "cell_type": "code",
   "execution_count": 58,
   "metadata": {},
   "outputs": [
    {
     "data": {
      "text/html": [
       "<div>\n",
       "<style scoped>\n",
       "    .dataframe tbody tr th:only-of-type {\n",
       "        vertical-align: middle;\n",
       "    }\n",
       "\n",
       "    .dataframe tbody tr th {\n",
       "        vertical-align: top;\n",
       "    }\n",
       "\n",
       "    .dataframe thead th {\n",
       "        text-align: right;\n",
       "    }\n",
       "</style>\n",
       "<table border=\"1\" class=\"dataframe\">\n",
       "  <thead>\n",
       "    <tr style=\"text-align: right;\">\n",
       "      <th></th>\n",
       "      <th>summonerName</th>\n",
       "      <th>accountId</th>\n",
       "      <th>summonerLevel</th>\n",
       "      <th>puuid</th>\n",
       "    </tr>\n",
       "  </thead>\n",
       "  <tbody>\n",
       "    <tr>\n",
       "      <td>0</td>\n",
       "      <td>LokiFc</td>\n",
       "      <td>bk1m2_GS-2L9loYOKil6EbsEHnQOCY15LRVByLuQvjf46Cc</td>\n",
       "      <td>289</td>\n",
       "      <td>AvAT9pAFILqL0Eo0kWmFOXug4KyIBh4QprnfHU4Ao2e3Bj...</td>\n",
       "    </tr>\n",
       "    <tr>\n",
       "      <td>1</td>\n",
       "      <td>Janna Jana Janna</td>\n",
       "      <td>0-0irM82Yyb9ls9AQ2PGuGHjqn2pWBFVAuKEjM4qXeu5zHk</td>\n",
       "      <td>329</td>\n",
       "      <td>xo9H9-nK8p0qks6P39ceIIluPBqAGujYR1YZSC_JqWZxYD...</td>\n",
       "    </tr>\n",
       "    <tr>\n",
       "      <td>2</td>\n",
       "      <td>lepanta</td>\n",
       "      <td>B6nuFHgma2xw3B4ZYsSQeb38pgQxgajWykeB8OEZHm0sSO8</td>\n",
       "      <td>130</td>\n",
       "      <td>z2NP0f9IPVNevXHBEiZ5wjOHHwmqifJM0St3OpTjgI8xon...</td>\n",
       "    </tr>\n",
       "    <tr>\n",
       "      <td>3</td>\n",
       "      <td>i still hate you</td>\n",
       "      <td>4FnPhlgfii3JW283EbPr2Zl4ZPYoVdk6Qfjc7LIPP8MrZEI</td>\n",
       "      <td>224</td>\n",
       "      <td>CZq0S_gurM-JdaLAI8mZxCHhvxWGSen9ipXUt6QCOkyNDz...</td>\n",
       "    </tr>\n",
       "    <tr>\n",
       "      <td>4</td>\n",
       "      <td>catch a fireee</td>\n",
       "      <td>p5gtfCphMzSZUHv_hGKI4gAdej_ezQcgvHelm-rvB_878ec</td>\n",
       "      <td>131</td>\n",
       "      <td>EVZfgcJKxbwTCbnvj72it5d9gBeI52DNAoOL7dDKbWgwDp...</td>\n",
       "    </tr>\n",
       "  </tbody>\n",
       "</table>\n",
       "</div>"
      ],
      "text/plain": [
       "       summonerName                                        accountId  \\\n",
       "0            LokiFc  bk1m2_GS-2L9loYOKil6EbsEHnQOCY15LRVByLuQvjf46Cc   \n",
       "1  Janna Jana Janna  0-0irM82Yyb9ls9AQ2PGuGHjqn2pWBFVAuKEjM4qXeu5zHk   \n",
       "2           lepanta  B6nuFHgma2xw3B4ZYsSQeb38pgQxgajWykeB8OEZHm0sSO8   \n",
       "3  i still hate you  4FnPhlgfii3JW283EbPr2Zl4ZPYoVdk6Qfjc7LIPP8MrZEI   \n",
       "4    catch a fireee  p5gtfCphMzSZUHv_hGKI4gAdej_ezQcgvHelm-rvB_878ec   \n",
       "\n",
       "   summonerLevel                                              puuid  \n",
       "0            289  AvAT9pAFILqL0Eo0kWmFOXug4KyIBh4QprnfHU4Ao2e3Bj...  \n",
       "1            329  xo9H9-nK8p0qks6P39ceIIluPBqAGujYR1YZSC_JqWZxYD...  \n",
       "2            130  z2NP0f9IPVNevXHBEiZ5wjOHHwmqifJM0St3OpTjgI8xon...  \n",
       "3            224  CZq0S_gurM-JdaLAI8mZxCHhvxWGSen9ipXUt6QCOkyNDz...  \n",
       "4            131  EVZfgcJKxbwTCbnvj72it5d9gBeI52DNAoOL7dDKbWgwDp...  "
      ]
     },
     "execution_count": 58,
     "metadata": {},
     "output_type": "execute_result"
    }
   ],
   "source": [
    "df_summoner.head()"
   ]
  },
  {
   "cell_type": "code",
   "execution_count": 59,
   "metadata": {},
   "outputs": [],
   "source": [
    "df_summoner.to_csv(\"summonerInfosPlus.csv\",index=False)"
   ]
  },
  {
   "cell_type": "code",
   "execution_count": 60,
   "metadata": {},
   "outputs": [],
   "source": [
    "df_summoner = pd.read_csv(\"summonerInfosPlus.csv\")"
   ]
  },
  {
   "cell_type": "code",
   "execution_count": 25,
   "metadata": {},
   "outputs": [],
   "source": [
    "\n"
   ]
  }
 ],
 "metadata": {
  "kernelspec": {
   "display_name": "Python 3",
   "language": "python",
   "name": "python3"
  },
  "language_info": {
   "codemirror_mode": {
    "name": "ipython",
    "version": 3
   },
   "file_extension": ".py",
   "mimetype": "text/x-python",
   "name": "python",
   "nbconvert_exporter": "python",
   "pygments_lexer": "ipython3",
   "version": "3.7.4"
  }
 },
 "nbformat": 4,
 "nbformat_minor": 2
}
