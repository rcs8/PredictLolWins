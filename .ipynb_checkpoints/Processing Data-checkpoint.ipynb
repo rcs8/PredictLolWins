{
 "cells": [
  {
   "cell_type": "code",
   "execution_count": 1,
   "metadata": {},
   "outputs": [],
   "source": [
    "import pandas as pd\n",
    "import numpy as np"
   ]
  },
  {
   "cell_type": "markdown",
   "metadata": {},
   "source": [
    "#### Nesa etapa iremos fazer a definição de tipos, bem como o tratamentos dos dados faltantes,normalização, discretização e limpeza do dados. Todo o processo de pré processamento."
   ]
  },
  {
   "cell_type": "code",
   "execution_count": 26,
   "metadata": {},
   "outputs": [],
   "source": [
    "###Essa base é a base seed, através dos ids dos jogadores, iremos fazer os joins até chegar\n",
    "###na base final utilizada nessa etapa\n",
    "df_users_seed = pd.read_csv(\"SummonerFinalData.csv\", index_col = 'accountId')\n",
    "\n",
    "### Lista das 10 ultimas partidas de cada jogador na base seed. \n",
    "df_matches_acc_id = pd.read_csv(\"matchByAccounbtIdFiltered10.csv\", index_col = 'accountId')"
   ]
  },
  {
   "cell_type": "code",
   "execution_count": 27,
   "metadata": {},
   "outputs": [
    {
     "name": "stdout",
     "output_type": "stream",
     "text": [
      "(2661, 13)\n",
      "Unnamed: 0        int64\n",
      "tier             object\n",
      "summonerId       object\n",
      "summonerName     object\n",
      "leaguePoints      int64\n",
      "wins              int64\n",
      "losses            int64\n",
      "veteran            bool\n",
      "inactive           bool\n",
      "freshBlood         bool\n",
      "hotStreak          bool\n",
      "summonerLevel     int64\n",
      "puuid            object\n",
      "dtype: object\n"
     ]
    }
   ],
   "source": [
    "####Print de algumas informações basicas######\n",
    "print(df_users_seed.shape)\n",
    "print(df_users_seed.dtypes)"
   ]
  },
  {
   "cell_type": "code",
   "execution_count": 17,
   "metadata": {},
   "outputs": [],
   "source": [
    "###Checar com professor a questão de tipagem."
   ]
  },
  {
   "cell_type": "code",
   "execution_count": 29,
   "metadata": {},
   "outputs": [],
   "source": [
    "####Dropando essa coluna intrusa\n",
    "df_users_seed.drop('Unnamed: 0', axis = 1, inplace=True)"
   ]
  },
  {
   "cell_type": "code",
   "execution_count": 39,
   "metadata": {},
   "outputs": [
    {
     "data": {
      "text/html": [
       "<div>\n",
       "<style scoped>\n",
       "    .dataframe tbody tr th:only-of-type {\n",
       "        vertical-align: middle;\n",
       "    }\n",
       "\n",
       "    .dataframe tbody tr th {\n",
       "        vertical-align: top;\n",
       "    }\n",
       "\n",
       "    .dataframe thead th {\n",
       "        text-align: right;\n",
       "    }\n",
       "</style>\n",
       "<table border=\"1\" class=\"dataframe\">\n",
       "  <thead>\n",
       "    <tr style=\"text-align: right;\">\n",
       "      <th></th>\n",
       "      <th>names</th>\n",
       "      <th>types</th>\n",
       "      <th>NA #</th>\n",
       "      <th>NA %</th>\n",
       "    </tr>\n",
       "  </thead>\n",
       "  <tbody>\n",
       "    <tr>\n",
       "      <td>tier</td>\n",
       "      <td>tier</td>\n",
       "      <td>object</td>\n",
       "      <td>0</td>\n",
       "      <td>0.0</td>\n",
       "    </tr>\n",
       "    <tr>\n",
       "      <td>summonerId</td>\n",
       "      <td>summonerId</td>\n",
       "      <td>object</td>\n",
       "      <td>0</td>\n",
       "      <td>0.0</td>\n",
       "    </tr>\n",
       "    <tr>\n",
       "      <td>summonerName</td>\n",
       "      <td>summonerName</td>\n",
       "      <td>object</td>\n",
       "      <td>0</td>\n",
       "      <td>0.0</td>\n",
       "    </tr>\n",
       "    <tr>\n",
       "      <td>leaguePoints</td>\n",
       "      <td>leaguePoints</td>\n",
       "      <td>int64</td>\n",
       "      <td>0</td>\n",
       "      <td>0.0</td>\n",
       "    </tr>\n",
       "    <tr>\n",
       "      <td>wins</td>\n",
       "      <td>wins</td>\n",
       "      <td>int64</td>\n",
       "      <td>0</td>\n",
       "      <td>0.0</td>\n",
       "    </tr>\n",
       "    <tr>\n",
       "      <td>losses</td>\n",
       "      <td>losses</td>\n",
       "      <td>int64</td>\n",
       "      <td>0</td>\n",
       "      <td>0.0</td>\n",
       "    </tr>\n",
       "    <tr>\n",
       "      <td>veteran</td>\n",
       "      <td>veteran</td>\n",
       "      <td>bool</td>\n",
       "      <td>0</td>\n",
       "      <td>0.0</td>\n",
       "    </tr>\n",
       "    <tr>\n",
       "      <td>inactive</td>\n",
       "      <td>inactive</td>\n",
       "      <td>bool</td>\n",
       "      <td>0</td>\n",
       "      <td>0.0</td>\n",
       "    </tr>\n",
       "    <tr>\n",
       "      <td>freshBlood</td>\n",
       "      <td>freshBlood</td>\n",
       "      <td>bool</td>\n",
       "      <td>0</td>\n",
       "      <td>0.0</td>\n",
       "    </tr>\n",
       "    <tr>\n",
       "      <td>hotStreak</td>\n",
       "      <td>hotStreak</td>\n",
       "      <td>bool</td>\n",
       "      <td>0</td>\n",
       "      <td>0.0</td>\n",
       "    </tr>\n",
       "    <tr>\n",
       "      <td>summonerLevel</td>\n",
       "      <td>summonerLevel</td>\n",
       "      <td>int64</td>\n",
       "      <td>0</td>\n",
       "      <td>0.0</td>\n",
       "    </tr>\n",
       "    <tr>\n",
       "      <td>puuid</td>\n",
       "      <td>puuid</td>\n",
       "      <td>object</td>\n",
       "      <td>0</td>\n",
       "      <td>0.0</td>\n",
       "    </tr>\n",
       "  </tbody>\n",
       "</table>\n",
       "</div>"
      ],
      "text/plain": [
       "                       names   types  NA #  NA %\n",
       "tier                    tier  object     0   0.0\n",
       "summonerId        summonerId  object     0   0.0\n",
       "summonerName    summonerName  object     0   0.0\n",
       "leaguePoints    leaguePoints   int64     0   0.0\n",
       "wins                    wins   int64     0   0.0\n",
       "losses                losses   int64     0   0.0\n",
       "veteran              veteran    bool     0   0.0\n",
       "inactive            inactive    bool     0   0.0\n",
       "freshBlood        freshBlood    bool     0   0.0\n",
       "hotStreak          hotStreak    bool     0   0.0\n",
       "summonerLevel  summonerLevel   int64     0   0.0\n",
       "puuid                  puuid  object     0   0.0"
      ]
     },
     "execution_count": 39,
     "metadata": {},
     "output_type": "execute_result"
    }
   ],
   "source": [
    "### Dados faltantes\n",
    "getMissData(df_users_seed)"
   ]
  },
  {
   "cell_type": "code",
   "execution_count": 40,
   "metadata": {},
   "outputs": [],
   "source": [
    "### Como os dados foram obtidos através de api, não temos dados faltantes"
   ]
  },
  {
   "cell_type": "code",
   "execution_count": 30,
   "metadata": {},
   "outputs": [
    {
     "data": {
      "text/plain": [
       "Index(['platformId', 'gameId', 'champion', 'queue', 'season', 'timestamp',\n",
       "       'role', 'lane'],\n",
       "      dtype='object')"
      ]
     },
     "execution_count": 30,
     "metadata": {},
     "output_type": "execute_result"
    }
   ],
   "source": [
    "df_matches_acc_id.columns"
   ]
  },
  {
   "cell_type": "code",
   "execution_count": 32,
   "metadata": {},
   "outputs": [
    {
     "data": {
      "text/html": [
       "<div>\n",
       "<style scoped>\n",
       "    .dataframe tbody tr th:only-of-type {\n",
       "        vertical-align: middle;\n",
       "    }\n",
       "\n",
       "    .dataframe tbody tr th {\n",
       "        vertical-align: top;\n",
       "    }\n",
       "\n",
       "    .dataframe thead th {\n",
       "        text-align: right;\n",
       "    }\n",
       "</style>\n",
       "<table border=\"1\" class=\"dataframe\">\n",
       "  <thead>\n",
       "    <tr style=\"text-align: right;\">\n",
       "      <th></th>\n",
       "      <th>platformId</th>\n",
       "      <th>gameId</th>\n",
       "      <th>champion</th>\n",
       "      <th>queue</th>\n",
       "      <th>season</th>\n",
       "      <th>timestamp</th>\n",
       "      <th>role</th>\n",
       "      <th>lane</th>\n",
       "    </tr>\n",
       "    <tr>\n",
       "      <th>accountId</th>\n",
       "      <th></th>\n",
       "      <th></th>\n",
       "      <th></th>\n",
       "      <th></th>\n",
       "      <th></th>\n",
       "      <th></th>\n",
       "      <th></th>\n",
       "      <th></th>\n",
       "    </tr>\n",
       "  </thead>\n",
       "  <tbody>\n",
       "    <tr>\n",
       "      <td>bk1m2_GS-2L9loYOKil6EbsEHnQOCY15LRVByLuQvjf46Cc</td>\n",
       "      <td>BR1</td>\n",
       "      <td>2071507283</td>\n",
       "      <td>114</td>\n",
       "      <td>440</td>\n",
       "      <td>13</td>\n",
       "      <td>1601166961222</td>\n",
       "      <td>SOLO</td>\n",
       "      <td>TOP</td>\n",
       "    </tr>\n",
       "    <tr>\n",
       "      <td>bk1m2_GS-2L9loYOKil6EbsEHnQOCY15LRVByLuQvjf46Cc</td>\n",
       "      <td>BR1</td>\n",
       "      <td>2071513192</td>\n",
       "      <td>236</td>\n",
       "      <td>440</td>\n",
       "      <td>13</td>\n",
       "      <td>1601164763566</td>\n",
       "      <td>DUO</td>\n",
       "      <td>TOP</td>\n",
       "    </tr>\n",
       "  </tbody>\n",
       "</table>\n",
       "</div>"
      ],
      "text/plain": [
       "                                                platformId      gameId  \\\n",
       "accountId                                                                \n",
       "bk1m2_GS-2L9loYOKil6EbsEHnQOCY15LRVByLuQvjf46Cc        BR1  2071507283   \n",
       "bk1m2_GS-2L9loYOKil6EbsEHnQOCY15LRVByLuQvjf46Cc        BR1  2071513192   \n",
       "\n",
       "                                                 champion  queue  season  \\\n",
       "accountId                                                                  \n",
       "bk1m2_GS-2L9loYOKil6EbsEHnQOCY15LRVByLuQvjf46Cc       114    440      13   \n",
       "bk1m2_GS-2L9loYOKil6EbsEHnQOCY15LRVByLuQvjf46Cc       236    440      13   \n",
       "\n",
       "                                                     timestamp  role lane  \n",
       "accountId                                                                  \n",
       "bk1m2_GS-2L9loYOKil6EbsEHnQOCY15LRVByLuQvjf46Cc  1601166961222  SOLO  TOP  \n",
       "bk1m2_GS-2L9loYOKil6EbsEHnQOCY15LRVByLuQvjf46Cc  1601164763566   DUO  TOP  "
      ]
     },
     "execution_count": 32,
     "metadata": {},
     "output_type": "execute_result"
    }
   ],
   "source": [
    "df_matches_acc_id.head(2)"
   ]
  },
  {
   "cell_type": "code",
   "execution_count": 41,
   "metadata": {},
   "outputs": [
    {
     "data": {
      "text/html": [
       "<div>\n",
       "<style scoped>\n",
       "    .dataframe tbody tr th:only-of-type {\n",
       "        vertical-align: middle;\n",
       "    }\n",
       "\n",
       "    .dataframe tbody tr th {\n",
       "        vertical-align: top;\n",
       "    }\n",
       "\n",
       "    .dataframe thead th {\n",
       "        text-align: right;\n",
       "    }\n",
       "</style>\n",
       "<table border=\"1\" class=\"dataframe\">\n",
       "  <thead>\n",
       "    <tr style=\"text-align: right;\">\n",
       "      <th></th>\n",
       "      <th>names</th>\n",
       "      <th>types</th>\n",
       "      <th>NA #</th>\n",
       "      <th>NA %</th>\n",
       "    </tr>\n",
       "  </thead>\n",
       "  <tbody>\n",
       "    <tr>\n",
       "      <td>platformId</td>\n",
       "      <td>platformId</td>\n",
       "      <td>object</td>\n",
       "      <td>0</td>\n",
       "      <td>0.0</td>\n",
       "    </tr>\n",
       "    <tr>\n",
       "      <td>gameId</td>\n",
       "      <td>gameId</td>\n",
       "      <td>int64</td>\n",
       "      <td>0</td>\n",
       "      <td>0.0</td>\n",
       "    </tr>\n",
       "    <tr>\n",
       "      <td>champion</td>\n",
       "      <td>champion</td>\n",
       "      <td>int64</td>\n",
       "      <td>0</td>\n",
       "      <td>0.0</td>\n",
       "    </tr>\n",
       "    <tr>\n",
       "      <td>queue</td>\n",
       "      <td>queue</td>\n",
       "      <td>int64</td>\n",
       "      <td>0</td>\n",
       "      <td>0.0</td>\n",
       "    </tr>\n",
       "    <tr>\n",
       "      <td>season</td>\n",
       "      <td>season</td>\n",
       "      <td>int64</td>\n",
       "      <td>0</td>\n",
       "      <td>0.0</td>\n",
       "    </tr>\n",
       "    <tr>\n",
       "      <td>timestamp</td>\n",
       "      <td>timestamp</td>\n",
       "      <td>int64</td>\n",
       "      <td>0</td>\n",
       "      <td>0.0</td>\n",
       "    </tr>\n",
       "    <tr>\n",
       "      <td>role</td>\n",
       "      <td>role</td>\n",
       "      <td>object</td>\n",
       "      <td>0</td>\n",
       "      <td>0.0</td>\n",
       "    </tr>\n",
       "    <tr>\n",
       "      <td>lane</td>\n",
       "      <td>lane</td>\n",
       "      <td>object</td>\n",
       "      <td>0</td>\n",
       "      <td>0.0</td>\n",
       "    </tr>\n",
       "  </tbody>\n",
       "</table>\n",
       "</div>"
      ],
      "text/plain": [
       "                 names   types  NA #  NA %\n",
       "platformId  platformId  object     0   0.0\n",
       "gameId          gameId   int64     0   0.0\n",
       "champion      champion   int64     0   0.0\n",
       "queue            queue   int64     0   0.0\n",
       "season          season   int64     0   0.0\n",
       "timestamp    timestamp   int64     0   0.0\n",
       "role              role  object     0   0.0\n",
       "lane              lane  object     0   0.0"
      ]
     },
     "execution_count": 41,
     "metadata": {},
     "output_type": "execute_result"
    }
   ],
   "source": [
    "### Dados faltantes\n",
    "getMissData(df_matches_acc_id)"
   ]
  },
  {
   "cell_type": "code",
   "execution_count": 38,
   "metadata": {},
   "outputs": [],
   "source": [
    "def getMissData(df):\n",
    "     return pd.DataFrame({'names' : df.columns, 'types' : df.dtypes, 'NA #': df.isna().sum(), 'NA %' : (df.isna().sum() / df.shape[0]) * 100})\n",
    "    "
   ]
  },
  {
   "cell_type": "code",
   "execution_count": null,
   "metadata": {},
   "outputs": [],
   "source": []
  }
 ],
 "metadata": {
  "kernelspec": {
   "display_name": "Python 3",
   "language": "python",
   "name": "python3"
  },
  "language_info": {
   "codemirror_mode": {
    "name": "ipython",
    "version": 3
   },
   "file_extension": ".py",
   "mimetype": "text/x-python",
   "name": "python",
   "nbconvert_exporter": "python",
   "pygments_lexer": "ipython3",
   "version": "3.7.4"
  }
 },
 "nbformat": 4,
 "nbformat_minor": 4
}
