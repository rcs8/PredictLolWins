{
 "cells": [
  {
   "cell_type": "code",
   "execution_count": 2,
   "metadata": {},
   "outputs": [],
   "source": [
    "import pandas as pd\n",
    "import numpy as np\n",
    "import seaborn as sns\n",
    "%matplotlib inline"
   ]
  },
  {
   "cell_type": "markdown",
   "metadata": {},
   "source": [
    "#### Nesa etapa iremos fazer a definição de tipos, bem como o tratamentos dos dados faltantes,normalização, discretização e limpeza do dados. Todo o processo de pré processamento."
   ]
  },
  {
   "cell_type": "code",
   "execution_count": 3,
   "metadata": {},
   "outputs": [],
   "source": [
    "###Essa base é a base seed, através dos ids dos jogadores, iremos fazer os joins até chegar\n",
    "###na base final utilizada nessa etapa\n",
    "df_users_seed = pd.read_csv(\"SummonerFinalData.csv\", index_col = 'accountId')\n",
    "\n",
    "### Lista das 10 ultimas partidas de cada jogador na base seed. \n",
    "df_matches_acc_id = pd.read_csv(\"matchByAccounbtIdFiltered10.csv\", index_col = 'accountId')\n",
    "\n",
    "### Estatisticas de cada time dentro das partidas\n",
    "df_match_stats = pd.read_csv(\"dataMatchesStats.csv\", index_col = 'gameId')\n",
    "\n",
    "### Estatisticas \n",
    "df_players_matches_stats = pd.read_csv(\"playersMatchesStats.csv\", index_col = 'gameId')"
   ]
  },
  {
   "cell_type": "code",
   "execution_count": 4,
   "metadata": {},
   "outputs": [
    {
     "name": "stdout",
     "output_type": "stream",
     "text": [
      "(2661, 13)\n",
      "Unnamed: 0        int64\n",
      "tier             object\n",
      "summonerId       object\n",
      "summonerName     object\n",
      "leaguePoints      int64\n",
      "wins              int64\n",
      "losses            int64\n",
      "veteran            bool\n",
      "inactive           bool\n",
      "freshBlood         bool\n",
      "hotStreak          bool\n",
      "summonerLevel     int64\n",
      "puuid            object\n",
      "dtype: object\n"
     ]
    }
   ],
   "source": [
    "####Print de algumas informações basicas######\n",
    "print(df_users_seed.shape)\n",
    "print(df_users_seed.dtypes)"
   ]
  },
  {
   "cell_type": "code",
   "execution_count": 5,
   "metadata": {},
   "outputs": [
    {
     "name": "stdout",
     "output_type": "stream",
     "text": [
      "(53720, 8)\n",
      "platformId    object\n",
      "gameId         int64\n",
      "champion       int64\n",
      "queue          int64\n",
      "season         int64\n",
      "timestamp      int64\n",
      "role          object\n",
      "lane          object\n",
      "dtype: object\n"
     ]
    }
   ],
   "source": [
    "print(df_matches_acc_id.shape)\n",
    "print(df_matches_acc_id.dtypes)"
   ]
  },
  {
   "cell_type": "code",
   "execution_count": 6,
   "metadata": {},
   "outputs": [
    {
     "name": "stdout",
     "output_type": "stream",
     "text": [
      "(60654, 16)\n",
      "teamId                   int64\n",
      "win                     object\n",
      "firstBlood                bool\n",
      "firstTower                bool\n",
      "firstInhibitor            bool\n",
      "firstBaron                bool\n",
      "firstDragon               bool\n",
      "firstRiftHerald           bool\n",
      "towerKills               int64\n",
      "inhibitorKills           int64\n",
      "baronKills               int64\n",
      "dragonKills              int64\n",
      "vilemawKills             int64\n",
      "riftHeraldKills          int64\n",
      "dominionVictoryScore     int64\n",
      "bans                    object\n",
      "dtype: object\n"
     ]
    }
   ],
   "source": [
    "print(df_match_stats.shape)\n",
    "print(df_match_stats.dtypes)"
   ]
  },
  {
   "cell_type": "code",
   "execution_count": 7,
   "metadata": {},
   "outputs": [
    {
     "name": "stdout",
     "output_type": "stream",
     "text": [
      "(303252, 13)\n",
      "champion              int64\n",
      "spell1                int64\n",
      "spell2                int64\n",
      "win                    bool\n",
      "kills                 int64\n",
      "deaths                int64\n",
      "assists               int64\n",
      "totalDamageDealt      int64\n",
      "goldEarned            int64\n",
      "champLevel            int64\n",
      "totalMinionsKilled    int64\n",
      "item0                 int64\n",
      "item1                 int64\n",
      "dtype: object\n"
     ]
    }
   ],
   "source": [
    "print(df_players_matches_stats.shape)\n",
    "print(df_players_matches_stats.dtypes)"
   ]
  },
  {
   "cell_type": "code",
   "execution_count": 8,
   "metadata": {},
   "outputs": [],
   "source": [
    "####Dropando essa coluna intrusa\n",
    "df_users_seed.drop('Unnamed: 0', axis = 1, inplace=True)"
   ]
  },
  {
   "cell_type": "markdown",
   "metadata": {},
   "source": [
    "## Ajuste de Tipos"
   ]
  },
  {
   "cell_type": "code",
   "execution_count": 9,
   "metadata": {},
   "outputs": [
    {
     "data": {
      "text/html": [
       "<div>\n",
       "<style scoped>\n",
       "    .dataframe tbody tr th:only-of-type {\n",
       "        vertical-align: middle;\n",
       "    }\n",
       "\n",
       "    .dataframe tbody tr th {\n",
       "        vertical-align: top;\n",
       "    }\n",
       "\n",
       "    .dataframe thead th {\n",
       "        text-align: right;\n",
       "    }\n",
       "</style>\n",
       "<table border=\"1\" class=\"dataframe\">\n",
       "  <thead>\n",
       "    <tr style=\"text-align: right;\">\n",
       "      <th></th>\n",
       "      <th>tier</th>\n",
       "      <th>summonerId</th>\n",
       "      <th>summonerName</th>\n",
       "      <th>leaguePoints</th>\n",
       "      <th>wins</th>\n",
       "      <th>losses</th>\n",
       "      <th>veteran</th>\n",
       "      <th>inactive</th>\n",
       "      <th>freshBlood</th>\n",
       "      <th>hotStreak</th>\n",
       "      <th>summonerLevel</th>\n",
       "      <th>puuid</th>\n",
       "    </tr>\n",
       "    <tr>\n",
       "      <th>accountId</th>\n",
       "      <th></th>\n",
       "      <th></th>\n",
       "      <th></th>\n",
       "      <th></th>\n",
       "      <th></th>\n",
       "      <th></th>\n",
       "      <th></th>\n",
       "      <th></th>\n",
       "      <th></th>\n",
       "      <th></th>\n",
       "      <th></th>\n",
       "      <th></th>\n",
       "    </tr>\n",
       "  </thead>\n",
       "  <tbody>\n",
       "    <tr>\n",
       "      <th>bk1m2_GS-2L9loYOKil6EbsEHnQOCY15LRVByLuQvjf46Cc</th>\n",
       "      <td>DIAMONDI</td>\n",
       "      <td>a6XNnr-OC1673HAJaeCorjI1T9Sbe7gYJIBpbsu_CllJIOI</td>\n",
       "      <td>LokiFc</td>\n",
       "      <td>39</td>\n",
       "      <td>192</td>\n",
       "      <td>184</td>\n",
       "      <td>False</td>\n",
       "      <td>False</td>\n",
       "      <td>False</td>\n",
       "      <td>False</td>\n",
       "      <td>291</td>\n",
       "      <td>AvAT9pAFILqL0Eo0kWmFOXug4KyIBh4QprnfHU4Ao2e3Bj...</td>\n",
       "    </tr>\n",
       "    <tr>\n",
       "      <th>B6nuFHgma2xw3B4ZYsSQeb38pgQxgajWykeB8OEZHm0sSO8</th>\n",
       "      <td>DIAMONDI</td>\n",
       "      <td>h_TlijF-s3RAtZaCyUVvBvgO-GGVuG60TqH3h7cTGrOKT18</td>\n",
       "      <td>lepanta</td>\n",
       "      <td>96</td>\n",
       "      <td>123</td>\n",
       "      <td>102</td>\n",
       "      <td>False</td>\n",
       "      <td>False</td>\n",
       "      <td>False</td>\n",
       "      <td>False</td>\n",
       "      <td>131</td>\n",
       "      <td>z2NP0f9IPVNevXHBEiZ5wjOHHwmqifJM0St3OpTjgI8xon...</td>\n",
       "    </tr>\n",
       "    <tr>\n",
       "      <th>4FnPhlgfii3JW283EbPr2Zl4ZPYoVdk6Qfjc7LIPP8MrZEI</th>\n",
       "      <td>DIAMONDI</td>\n",
       "      <td>8fb8V6VEtBGfFZgq3Fyv3eEJ43UQyIeFOCm0SKEQvgu673M</td>\n",
       "      <td>i still hate you</td>\n",
       "      <td>0</td>\n",
       "      <td>350</td>\n",
       "      <td>298</td>\n",
       "      <td>False</td>\n",
       "      <td>False</td>\n",
       "      <td>False</td>\n",
       "      <td>False</td>\n",
       "      <td>224</td>\n",
       "      <td>CZq0S_gurM-JdaLAI8mZxCHhvxWGSen9ipXUt6QCOkyNDz...</td>\n",
       "    </tr>\n",
       "    <tr>\n",
       "      <th>a3jbDn6LEGapOQp3ecrp3-PS2kUryxZ5NHXzQn40TsOT4tQ</th>\n",
       "      <td>DIAMONDI</td>\n",
       "      <td>alh23IJbh4qXrbhZns-7UZFVrF1z7fUkKaKGUaNcGbM65uA</td>\n",
       "      <td>shadyzïn</td>\n",
       "      <td>16</td>\n",
       "      <td>135</td>\n",
       "      <td>109</td>\n",
       "      <td>False</td>\n",
       "      <td>False</td>\n",
       "      <td>False</td>\n",
       "      <td>False</td>\n",
       "      <td>233</td>\n",
       "      <td>wADRcuNbUSKIB1uAIodgtv23LnbyrZZhTY5-TXAuDZoyzf...</td>\n",
       "    </tr>\n",
       "    <tr>\n",
       "      <th>hsiTGDBRyGqJ57_rcYgKYy-lnj4HVJJrBnviuc41KuaqsTo</th>\n",
       "      <td>DIAMONDI</td>\n",
       "      <td>DLlFV0Vyigj3Bm--a-DH-ADL54C8and8CGL_08TiFKU_-ig</td>\n",
       "      <td>lagartin safo</td>\n",
       "      <td>0</td>\n",
       "      <td>137</td>\n",
       "      <td>115</td>\n",
       "      <td>False</td>\n",
       "      <td>False</td>\n",
       "      <td>False</td>\n",
       "      <td>False</td>\n",
       "      <td>137</td>\n",
       "      <td>XnADRrwXtgMPlKMovnXyUvc31v_1H-0chebhzdZ7piXF31...</td>\n",
       "    </tr>\n",
       "    <tr>\n",
       "      <th>...</th>\n",
       "      <td>...</td>\n",
       "      <td>...</td>\n",
       "      <td>...</td>\n",
       "      <td>...</td>\n",
       "      <td>...</td>\n",
       "      <td>...</td>\n",
       "      <td>...</td>\n",
       "      <td>...</td>\n",
       "      <td>...</td>\n",
       "      <td>...</td>\n",
       "      <td>...</td>\n",
       "      <td>...</td>\n",
       "    </tr>\n",
       "    <tr>\n",
       "      <th>NGxLiwT0TCKwZQl9DBFrAF0e_hIFyaMtTG3hY6TiqUBPaoo</th>\n",
       "      <td>MASTER</td>\n",
       "      <td>ayGIhrLNEFBLaAYJQcAumpkHzPRtvCDlXKrYmH76uDvoYgM</td>\n",
       "      <td>jawa1</td>\n",
       "      <td>969</td>\n",
       "      <td>191</td>\n",
       "      <td>132</td>\n",
       "      <td>False</td>\n",
       "      <td>False</td>\n",
       "      <td>False</td>\n",
       "      <td>False</td>\n",
       "      <td>118</td>\n",
       "      <td>ZBaFWWm26QJFFOOx-nz5BJvKH63Smdxmj4j6oIGIP8lmc5...</td>\n",
       "    </tr>\n",
       "    <tr>\n",
       "      <th>BoS6VU-Sh29m881m5pUxxOlr-Sj_5B1fTY58o5mm97bQdEshHaW1QpOK</th>\n",
       "      <td>MASTER</td>\n",
       "      <td>CGDkgRr0vgCh2UzPSOrNJLQINRqlKlQ_IHPbHvnopiMy80U</td>\n",
       "      <td>clozercapsmind</td>\n",
       "      <td>734</td>\n",
       "      <td>698</td>\n",
       "      <td>599</td>\n",
       "      <td>True</td>\n",
       "      <td>False</td>\n",
       "      <td>False</td>\n",
       "      <td>False</td>\n",
       "      <td>114</td>\n",
       "      <td>FaGeT9-08VEF9Ow1mVa5MAPOykZWWHq2pfCfPntTxOIIYa...</td>\n",
       "    </tr>\n",
       "    <tr>\n",
       "      <th>Ihj806ymygK_8IAR0Prd6wXFUbRDcsny8tZRcM8ON76Y</th>\n",
       "      <td>MASTER</td>\n",
       "      <td>S0zzBsTp4afRgAeUmGEaO1QetmVbwXj_6G1rIQpIxEuhbw</td>\n",
       "      <td>UFV Enfery</td>\n",
       "      <td>718</td>\n",
       "      <td>592</td>\n",
       "      <td>547</td>\n",
       "      <td>False</td>\n",
       "      <td>False</td>\n",
       "      <td>True</td>\n",
       "      <td>True</td>\n",
       "      <td>346</td>\n",
       "      <td>eO-3N5P54ZI0jC3kbVuTxLJw0O0IGmuacUcL3ezhgLvTpP...</td>\n",
       "    </tr>\n",
       "    <tr>\n",
       "      <th>yzBo9sT4h7yTM3Sr7KXbL0nHjCPLVwNxx7h2DLjfIfo</th>\n",
       "      <td>MASTER</td>\n",
       "      <td>oshmI90RyLe4y0MQR_5QtZECTa7uNeAA5t8PoKkVenSc</td>\n",
       "      <td>forgïve them</td>\n",
       "      <td>911</td>\n",
       "      <td>596</td>\n",
       "      <td>516</td>\n",
       "      <td>False</td>\n",
       "      <td>False</td>\n",
       "      <td>False</td>\n",
       "      <td>False</td>\n",
       "      <td>346</td>\n",
       "      <td>5dTRw516HqpXXdMCXfcWGaG1W7ZVzT77DlQin7dixpGK93...</td>\n",
       "    </tr>\n",
       "    <tr>\n",
       "      <th>WE0_mGLrx0GnG2FwOEx64d5k3AQ2kkEvcEfZPDqBc_w</th>\n",
       "      <td>MASTER</td>\n",
       "      <td>UHakgM4FW7sYd_Yhp6JFs1X4kg-3P46lJRbIVfEotiYt</td>\n",
       "      <td>banana c aveia</td>\n",
       "      <td>738</td>\n",
       "      <td>274</td>\n",
       "      <td>219</td>\n",
       "      <td>False</td>\n",
       "      <td>False</td>\n",
       "      <td>False</td>\n",
       "      <td>False</td>\n",
       "      <td>109</td>\n",
       "      <td>_G3ucZIFeQUQX6hUPCW52WOIK5ljGS5Qu8VhdybCPhjOZc...</td>\n",
       "    </tr>\n",
       "  </tbody>\n",
       "</table>\n",
       "<p>2661 rows × 12 columns</p>\n",
       "</div>"
      ],
      "text/plain": [
       "                                                        tier  \\\n",
       "accountId                                                      \n",
       "bk1m2_GS-2L9loYOKil6EbsEHnQOCY15LRVByLuQvjf46Cc     DIAMONDI   \n",
       "B6nuFHgma2xw3B4ZYsSQeb38pgQxgajWykeB8OEZHm0sSO8     DIAMONDI   \n",
       "4FnPhlgfii3JW283EbPr2Zl4ZPYoVdk6Qfjc7LIPP8MrZEI     DIAMONDI   \n",
       "a3jbDn6LEGapOQp3ecrp3-PS2kUryxZ5NHXzQn40TsOT4tQ     DIAMONDI   \n",
       "hsiTGDBRyGqJ57_rcYgKYy-lnj4HVJJrBnviuc41KuaqsTo     DIAMONDI   \n",
       "...                                                      ...   \n",
       "NGxLiwT0TCKwZQl9DBFrAF0e_hIFyaMtTG3hY6TiqUBPaoo       MASTER   \n",
       "BoS6VU-Sh29m881m5pUxxOlr-Sj_5B1fTY58o5mm97bQdEs...    MASTER   \n",
       "Ihj806ymygK_8IAR0Prd6wXFUbRDcsny8tZRcM8ON76Y          MASTER   \n",
       "yzBo9sT4h7yTM3Sr7KXbL0nHjCPLVwNxx7h2DLjfIfo           MASTER   \n",
       "WE0_mGLrx0GnG2FwOEx64d5k3AQ2kkEvcEfZPDqBc_w           MASTER   \n",
       "\n",
       "                                                                                         summonerId  \\\n",
       "accountId                                                                                             \n",
       "bk1m2_GS-2L9loYOKil6EbsEHnQOCY15LRVByLuQvjf46Cc     a6XNnr-OC1673HAJaeCorjI1T9Sbe7gYJIBpbsu_CllJIOI   \n",
       "B6nuFHgma2xw3B4ZYsSQeb38pgQxgajWykeB8OEZHm0sSO8     h_TlijF-s3RAtZaCyUVvBvgO-GGVuG60TqH3h7cTGrOKT18   \n",
       "4FnPhlgfii3JW283EbPr2Zl4ZPYoVdk6Qfjc7LIPP8MrZEI     8fb8V6VEtBGfFZgq3Fyv3eEJ43UQyIeFOCm0SKEQvgu673M   \n",
       "a3jbDn6LEGapOQp3ecrp3-PS2kUryxZ5NHXzQn40TsOT4tQ     alh23IJbh4qXrbhZns-7UZFVrF1z7fUkKaKGUaNcGbM65uA   \n",
       "hsiTGDBRyGqJ57_rcYgKYy-lnj4HVJJrBnviuc41KuaqsTo     DLlFV0Vyigj3Bm--a-DH-ADL54C8and8CGL_08TiFKU_-ig   \n",
       "...                                                                                             ...   \n",
       "NGxLiwT0TCKwZQl9DBFrAF0e_hIFyaMtTG3hY6TiqUBPaoo     ayGIhrLNEFBLaAYJQcAumpkHzPRtvCDlXKrYmH76uDvoYgM   \n",
       "BoS6VU-Sh29m881m5pUxxOlr-Sj_5B1fTY58o5mm97bQdEs...  CGDkgRr0vgCh2UzPSOrNJLQINRqlKlQ_IHPbHvnopiMy80U   \n",
       "Ihj806ymygK_8IAR0Prd6wXFUbRDcsny8tZRcM8ON76Y         S0zzBsTp4afRgAeUmGEaO1QetmVbwXj_6G1rIQpIxEuhbw   \n",
       "yzBo9sT4h7yTM3Sr7KXbL0nHjCPLVwNxx7h2DLjfIfo            oshmI90RyLe4y0MQR_5QtZECTa7uNeAA5t8PoKkVenSc   \n",
       "WE0_mGLrx0GnG2FwOEx64d5k3AQ2kkEvcEfZPDqBc_w            UHakgM4FW7sYd_Yhp6JFs1X4kg-3P46lJRbIVfEotiYt   \n",
       "\n",
       "                                                        summonerName  \\\n",
       "accountId                                                              \n",
       "bk1m2_GS-2L9loYOKil6EbsEHnQOCY15LRVByLuQvjf46Cc               LokiFc   \n",
       "B6nuFHgma2xw3B4ZYsSQeb38pgQxgajWykeB8OEZHm0sSO8              lepanta   \n",
       "4FnPhlgfii3JW283EbPr2Zl4ZPYoVdk6Qfjc7LIPP8MrZEI     i still hate you   \n",
       "a3jbDn6LEGapOQp3ecrp3-PS2kUryxZ5NHXzQn40TsOT4tQ             shadyzïn   \n",
       "hsiTGDBRyGqJ57_rcYgKYy-lnj4HVJJrBnviuc41KuaqsTo        lagartin safo   \n",
       "...                                                              ...   \n",
       "NGxLiwT0TCKwZQl9DBFrAF0e_hIFyaMtTG3hY6TiqUBPaoo                jawa1   \n",
       "BoS6VU-Sh29m881m5pUxxOlr-Sj_5B1fTY58o5mm97bQdEs...    clozercapsmind   \n",
       "Ihj806ymygK_8IAR0Prd6wXFUbRDcsny8tZRcM8ON76Y              UFV Enfery   \n",
       "yzBo9sT4h7yTM3Sr7KXbL0nHjCPLVwNxx7h2DLjfIfo             forgïve them   \n",
       "WE0_mGLrx0GnG2FwOEx64d5k3AQ2kkEvcEfZPDqBc_w           banana c aveia   \n",
       "\n",
       "                                                    leaguePoints  wins  \\\n",
       "accountId                                                                \n",
       "bk1m2_GS-2L9loYOKil6EbsEHnQOCY15LRVByLuQvjf46Cc               39   192   \n",
       "B6nuFHgma2xw3B4ZYsSQeb38pgQxgajWykeB8OEZHm0sSO8               96   123   \n",
       "4FnPhlgfii3JW283EbPr2Zl4ZPYoVdk6Qfjc7LIPP8MrZEI                0   350   \n",
       "a3jbDn6LEGapOQp3ecrp3-PS2kUryxZ5NHXzQn40TsOT4tQ               16   135   \n",
       "hsiTGDBRyGqJ57_rcYgKYy-lnj4HVJJrBnviuc41KuaqsTo                0   137   \n",
       "...                                                          ...   ...   \n",
       "NGxLiwT0TCKwZQl9DBFrAF0e_hIFyaMtTG3hY6TiqUBPaoo              969   191   \n",
       "BoS6VU-Sh29m881m5pUxxOlr-Sj_5B1fTY58o5mm97bQdEs...           734   698   \n",
       "Ihj806ymygK_8IAR0Prd6wXFUbRDcsny8tZRcM8ON76Y                 718   592   \n",
       "yzBo9sT4h7yTM3Sr7KXbL0nHjCPLVwNxx7h2DLjfIfo                  911   596   \n",
       "WE0_mGLrx0GnG2FwOEx64d5k3AQ2kkEvcEfZPDqBc_w                  738   274   \n",
       "\n",
       "                                                    losses  veteran  inactive  \\\n",
       "accountId                                                                       \n",
       "bk1m2_GS-2L9loYOKil6EbsEHnQOCY15LRVByLuQvjf46Cc        184    False     False   \n",
       "B6nuFHgma2xw3B4ZYsSQeb38pgQxgajWykeB8OEZHm0sSO8        102    False     False   \n",
       "4FnPhlgfii3JW283EbPr2Zl4ZPYoVdk6Qfjc7LIPP8MrZEI        298    False     False   \n",
       "a3jbDn6LEGapOQp3ecrp3-PS2kUryxZ5NHXzQn40TsOT4tQ        109    False     False   \n",
       "hsiTGDBRyGqJ57_rcYgKYy-lnj4HVJJrBnviuc41KuaqsTo        115    False     False   \n",
       "...                                                    ...      ...       ...   \n",
       "NGxLiwT0TCKwZQl9DBFrAF0e_hIFyaMtTG3hY6TiqUBPaoo        132    False     False   \n",
       "BoS6VU-Sh29m881m5pUxxOlr-Sj_5B1fTY58o5mm97bQdEs...     599     True     False   \n",
       "Ihj806ymygK_8IAR0Prd6wXFUbRDcsny8tZRcM8ON76Y           547    False     False   \n",
       "yzBo9sT4h7yTM3Sr7KXbL0nHjCPLVwNxx7h2DLjfIfo            516    False     False   \n",
       "WE0_mGLrx0GnG2FwOEx64d5k3AQ2kkEvcEfZPDqBc_w            219    False     False   \n",
       "\n",
       "                                                    freshBlood  hotStreak  \\\n",
       "accountId                                                                   \n",
       "bk1m2_GS-2L9loYOKil6EbsEHnQOCY15LRVByLuQvjf46Cc          False      False   \n",
       "B6nuFHgma2xw3B4ZYsSQeb38pgQxgajWykeB8OEZHm0sSO8          False      False   \n",
       "4FnPhlgfii3JW283EbPr2Zl4ZPYoVdk6Qfjc7LIPP8MrZEI          False      False   \n",
       "a3jbDn6LEGapOQp3ecrp3-PS2kUryxZ5NHXzQn40TsOT4tQ          False      False   \n",
       "hsiTGDBRyGqJ57_rcYgKYy-lnj4HVJJrBnviuc41KuaqsTo          False      False   \n",
       "...                                                        ...        ...   \n",
       "NGxLiwT0TCKwZQl9DBFrAF0e_hIFyaMtTG3hY6TiqUBPaoo          False      False   \n",
       "BoS6VU-Sh29m881m5pUxxOlr-Sj_5B1fTY58o5mm97bQdEs...       False      False   \n",
       "Ihj806ymygK_8IAR0Prd6wXFUbRDcsny8tZRcM8ON76Y              True       True   \n",
       "yzBo9sT4h7yTM3Sr7KXbL0nHjCPLVwNxx7h2DLjfIfo              False      False   \n",
       "WE0_mGLrx0GnG2FwOEx64d5k3AQ2kkEvcEfZPDqBc_w              False      False   \n",
       "\n",
       "                                                    summonerLevel  \\\n",
       "accountId                                                           \n",
       "bk1m2_GS-2L9loYOKil6EbsEHnQOCY15LRVByLuQvjf46Cc               291   \n",
       "B6nuFHgma2xw3B4ZYsSQeb38pgQxgajWykeB8OEZHm0sSO8               131   \n",
       "4FnPhlgfii3JW283EbPr2Zl4ZPYoVdk6Qfjc7LIPP8MrZEI               224   \n",
       "a3jbDn6LEGapOQp3ecrp3-PS2kUryxZ5NHXzQn40TsOT4tQ               233   \n",
       "hsiTGDBRyGqJ57_rcYgKYy-lnj4HVJJrBnviuc41KuaqsTo               137   \n",
       "...                                                           ...   \n",
       "NGxLiwT0TCKwZQl9DBFrAF0e_hIFyaMtTG3hY6TiqUBPaoo               118   \n",
       "BoS6VU-Sh29m881m5pUxxOlr-Sj_5B1fTY58o5mm97bQdEs...            114   \n",
       "Ihj806ymygK_8IAR0Prd6wXFUbRDcsny8tZRcM8ON76Y                  346   \n",
       "yzBo9sT4h7yTM3Sr7KXbL0nHjCPLVwNxx7h2DLjfIfo                   346   \n",
       "WE0_mGLrx0GnG2FwOEx64d5k3AQ2kkEvcEfZPDqBc_w                   109   \n",
       "\n",
       "                                                                                                puuid  \n",
       "accountId                                                                                              \n",
       "bk1m2_GS-2L9loYOKil6EbsEHnQOCY15LRVByLuQvjf46Cc     AvAT9pAFILqL0Eo0kWmFOXug4KyIBh4QprnfHU4Ao2e3Bj...  \n",
       "B6nuFHgma2xw3B4ZYsSQeb38pgQxgajWykeB8OEZHm0sSO8     z2NP0f9IPVNevXHBEiZ5wjOHHwmqifJM0St3OpTjgI8xon...  \n",
       "4FnPhlgfii3JW283EbPr2Zl4ZPYoVdk6Qfjc7LIPP8MrZEI     CZq0S_gurM-JdaLAI8mZxCHhvxWGSen9ipXUt6QCOkyNDz...  \n",
       "a3jbDn6LEGapOQp3ecrp3-PS2kUryxZ5NHXzQn40TsOT4tQ     wADRcuNbUSKIB1uAIodgtv23LnbyrZZhTY5-TXAuDZoyzf...  \n",
       "hsiTGDBRyGqJ57_rcYgKYy-lnj4HVJJrBnviuc41KuaqsTo     XnADRrwXtgMPlKMovnXyUvc31v_1H-0chebhzdZ7piXF31...  \n",
       "...                                                                                               ...  \n",
       "NGxLiwT0TCKwZQl9DBFrAF0e_hIFyaMtTG3hY6TiqUBPaoo     ZBaFWWm26QJFFOOx-nz5BJvKH63Smdxmj4j6oIGIP8lmc5...  \n",
       "BoS6VU-Sh29m881m5pUxxOlr-Sj_5B1fTY58o5mm97bQdEs...  FaGeT9-08VEF9Ow1mVa5MAPOykZWWHq2pfCfPntTxOIIYa...  \n",
       "Ihj806ymygK_8IAR0Prd6wXFUbRDcsny8tZRcM8ON76Y        eO-3N5P54ZI0jC3kbVuTxLJw0O0IGmuacUcL3ezhgLvTpP...  \n",
       "yzBo9sT4h7yTM3Sr7KXbL0nHjCPLVwNxx7h2DLjfIfo         5dTRw516HqpXXdMCXfcWGaG1W7ZVzT77DlQin7dixpGK93...  \n",
       "WE0_mGLrx0GnG2FwOEx64d5k3AQ2kkEvcEfZPDqBc_w         _G3ucZIFeQUQX6hUPCW52WOIK5ljGS5Qu8VhdybCPhjOZc...  \n",
       "\n",
       "[2661 rows x 12 columns]"
      ]
     },
     "execution_count": 9,
     "metadata": {},
     "output_type": "execute_result"
    }
   ],
   "source": [
    "df_users_seed"
   ]
  },
  {
   "cell_type": "code",
   "execution_count": 12,
   "metadata": {},
   "outputs": [
    {
     "name": "stdout",
     "output_type": "stream",
     "text": [
      "tier             category\n",
      "summonerId         string\n",
      "summonerName       string\n",
      "leaguePoints        int64\n",
      "wins                int64\n",
      "losses              int64\n",
      "veteran              bool\n",
      "inactive             bool\n",
      "freshBlood           bool\n",
      "hotStreak            bool\n",
      "summonerLevel       int64\n",
      "puuid              string\n",
      "dtype: object\n",
      "Index(['DIAMONDI', 'DIAMONDII', 'DIAMONDIII', 'DIAMONDIV', 'MASTER'], dtype='object')\n"
     ]
    }
   ],
   "source": [
    "### Ajuste de tipos da base de usuários\n",
    "\n",
    "df_users_seed['tier'] = df_users_seed['tier'].astype('category')\n",
    "df_users_seed['summonerId'] = df_users_seed['summonerId'].astype('string')\n",
    "df_users_seed['summonerName'] = df_users_seed['summonerName'].astype('string')\n",
    "df_users_seed['puuid'] = df_users_seed['puuid'].astype('string')\n",
    "\n",
    "print(df_users_seed.dtypes)\n",
    "print(df_users_seed['tier'].cat.categories)"
   ]
  },
  {
   "cell_type": "code",
   "execution_count": 14,
   "metadata": {
    "scrolled": true
   },
   "outputs": [
    {
     "name": "stdout",
     "output_type": "stream",
     "text": [
      "platformId      string\n",
      "gameId           int64\n",
      "champion         int64\n",
      "queue            int64\n",
      "season           int64\n",
      "timestamp        int64\n",
      "role          category\n",
      "lane          category\n",
      "dtype: object\n",
      "Index(['DUO', 'DUO_CARRY', 'DUO_SUPPORT', 'NONE', 'SOLO'], dtype='object')\n",
      "Index(['BOTTOM', 'JUNGLE', 'MID', 'NONE', 'TOP'], dtype='object')\n"
     ]
    }
   ],
   "source": [
    "### Ajuste de tipos da lista de partidas\n",
    "\n",
    "df_matches_acc_id['platformId'] = df_matches_acc_id['platformId'].astype('string')\n",
    "df_matches_acc_id['role'] = df_matches_acc_id['role'].astype('category')\n",
    "df_matches_acc_id['lane'] = df_matches_acc_id['lane'].astype('category')\n",
    "\n",
    "print(df_matches_acc_id.dtypes)\n",
    "print(df_matches_acc_id['role'].cat.categories)\n",
    "print(df_matches_acc_id['lane'].cat.categories)"
   ]
  },
  {
   "cell_type": "code",
   "execution_count": 15,
   "metadata": {},
   "outputs": [
    {
     "name": "stdout",
     "output_type": "stream",
     "text": [
      "teamId                     int64\n",
      "win                     category\n",
      "firstBlood                  bool\n",
      "firstTower                  bool\n",
      "firstInhibitor              bool\n",
      "firstBaron                  bool\n",
      "firstDragon                 bool\n",
      "firstRiftHerald             bool\n",
      "towerKills                 int64\n",
      "inhibitorKills             int64\n",
      "baronKills                 int64\n",
      "dragonKills                int64\n",
      "vilemawKills               int64\n",
      "riftHeraldKills            int64\n",
      "dominionVictoryScore       int64\n",
      "bans                      object\n",
      "dtype: object\n",
      "Index(['Fail', 'Win'], dtype='object')\n"
     ]
    }
   ],
   "source": [
    "### Ajuste d etipos das estatisticas da partida\n",
    "df_match_stats['win'] = df_match_stats['win'].astype('category')\n",
    "\n",
    "print(df_match_stats.dtypes)\n",
    "print(df_match_stats['win'].cat.categories)"
   ]
  },
  {
   "cell_type": "markdown",
   "metadata": {},
   "source": [
    "## Checagem de dados faltantes"
   ]
  },
  {
   "cell_type": "code",
   "execution_count": 16,
   "metadata": {},
   "outputs": [],
   "source": [
    "def getMissData(df):\n",
    "     return pd.DataFrame({'names' : df.columns, 'types' : df.dtypes, 'NA #': df.isna().sum(), 'NA %' : (df.isna().sum() / df.shape[0]) * 100})\n",
    "    "
   ]
  },
  {
   "cell_type": "code",
   "execution_count": 17,
   "metadata": {
    "scrolled": true
   },
   "outputs": [
    {
     "data": {
      "text/html": [
       "<div>\n",
       "<style scoped>\n",
       "    .dataframe tbody tr th:only-of-type {\n",
       "        vertical-align: middle;\n",
       "    }\n",
       "\n",
       "    .dataframe tbody tr th {\n",
       "        vertical-align: top;\n",
       "    }\n",
       "\n",
       "    .dataframe thead th {\n",
       "        text-align: right;\n",
       "    }\n",
       "</style>\n",
       "<table border=\"1\" class=\"dataframe\">\n",
       "  <thead>\n",
       "    <tr style=\"text-align: right;\">\n",
       "      <th></th>\n",
       "      <th>names</th>\n",
       "      <th>types</th>\n",
       "      <th>NA #</th>\n",
       "      <th>NA %</th>\n",
       "    </tr>\n",
       "  </thead>\n",
       "  <tbody>\n",
       "    <tr>\n",
       "      <th>tier</th>\n",
       "      <td>tier</td>\n",
       "      <td>category</td>\n",
       "      <td>0</td>\n",
       "      <td>0.0</td>\n",
       "    </tr>\n",
       "    <tr>\n",
       "      <th>summonerId</th>\n",
       "      <td>summonerId</td>\n",
       "      <td>string</td>\n",
       "      <td>0</td>\n",
       "      <td>0.0</td>\n",
       "    </tr>\n",
       "    <tr>\n",
       "      <th>summonerName</th>\n",
       "      <td>summonerName</td>\n",
       "      <td>string</td>\n",
       "      <td>0</td>\n",
       "      <td>0.0</td>\n",
       "    </tr>\n",
       "    <tr>\n",
       "      <th>leaguePoints</th>\n",
       "      <td>leaguePoints</td>\n",
       "      <td>int64</td>\n",
       "      <td>0</td>\n",
       "      <td>0.0</td>\n",
       "    </tr>\n",
       "    <tr>\n",
       "      <th>wins</th>\n",
       "      <td>wins</td>\n",
       "      <td>int64</td>\n",
       "      <td>0</td>\n",
       "      <td>0.0</td>\n",
       "    </tr>\n",
       "    <tr>\n",
       "      <th>losses</th>\n",
       "      <td>losses</td>\n",
       "      <td>int64</td>\n",
       "      <td>0</td>\n",
       "      <td>0.0</td>\n",
       "    </tr>\n",
       "    <tr>\n",
       "      <th>veteran</th>\n",
       "      <td>veteran</td>\n",
       "      <td>bool</td>\n",
       "      <td>0</td>\n",
       "      <td>0.0</td>\n",
       "    </tr>\n",
       "    <tr>\n",
       "      <th>inactive</th>\n",
       "      <td>inactive</td>\n",
       "      <td>bool</td>\n",
       "      <td>0</td>\n",
       "      <td>0.0</td>\n",
       "    </tr>\n",
       "    <tr>\n",
       "      <th>freshBlood</th>\n",
       "      <td>freshBlood</td>\n",
       "      <td>bool</td>\n",
       "      <td>0</td>\n",
       "      <td>0.0</td>\n",
       "    </tr>\n",
       "    <tr>\n",
       "      <th>hotStreak</th>\n",
       "      <td>hotStreak</td>\n",
       "      <td>bool</td>\n",
       "      <td>0</td>\n",
       "      <td>0.0</td>\n",
       "    </tr>\n",
       "    <tr>\n",
       "      <th>summonerLevel</th>\n",
       "      <td>summonerLevel</td>\n",
       "      <td>int64</td>\n",
       "      <td>0</td>\n",
       "      <td>0.0</td>\n",
       "    </tr>\n",
       "    <tr>\n",
       "      <th>puuid</th>\n",
       "      <td>puuid</td>\n",
       "      <td>string</td>\n",
       "      <td>0</td>\n",
       "      <td>0.0</td>\n",
       "    </tr>\n",
       "  </tbody>\n",
       "</table>\n",
       "</div>"
      ],
      "text/plain": [
       "                       names     types  NA #  NA %\n",
       "tier                    tier  category     0   0.0\n",
       "summonerId        summonerId    string     0   0.0\n",
       "summonerName    summonerName    string     0   0.0\n",
       "leaguePoints    leaguePoints     int64     0   0.0\n",
       "wins                    wins     int64     0   0.0\n",
       "losses                losses     int64     0   0.0\n",
       "veteran              veteran      bool     0   0.0\n",
       "inactive            inactive      bool     0   0.0\n",
       "freshBlood        freshBlood      bool     0   0.0\n",
       "hotStreak          hotStreak      bool     0   0.0\n",
       "summonerLevel  summonerLevel     int64     0   0.0\n",
       "puuid                  puuid    string     0   0.0"
      ]
     },
     "execution_count": 17,
     "metadata": {},
     "output_type": "execute_result"
    }
   ],
   "source": [
    "### Dados faltantes\n",
    "getMissData(df_users_seed)"
   ]
  },
  {
   "cell_type": "code",
   "execution_count": 18,
   "metadata": {},
   "outputs": [
    {
     "data": {
      "text/html": [
       "<div>\n",
       "<style scoped>\n",
       "    .dataframe tbody tr th:only-of-type {\n",
       "        vertical-align: middle;\n",
       "    }\n",
       "\n",
       "    .dataframe tbody tr th {\n",
       "        vertical-align: top;\n",
       "    }\n",
       "\n",
       "    .dataframe thead th {\n",
       "        text-align: right;\n",
       "    }\n",
       "</style>\n",
       "<table border=\"1\" class=\"dataframe\">\n",
       "  <thead>\n",
       "    <tr style=\"text-align: right;\">\n",
       "      <th></th>\n",
       "      <th>names</th>\n",
       "      <th>types</th>\n",
       "      <th>NA #</th>\n",
       "      <th>NA %</th>\n",
       "    </tr>\n",
       "  </thead>\n",
       "  <tbody>\n",
       "    <tr>\n",
       "      <th>platformId</th>\n",
       "      <td>platformId</td>\n",
       "      <td>string</td>\n",
       "      <td>0</td>\n",
       "      <td>0.0</td>\n",
       "    </tr>\n",
       "    <tr>\n",
       "      <th>gameId</th>\n",
       "      <td>gameId</td>\n",
       "      <td>int64</td>\n",
       "      <td>0</td>\n",
       "      <td>0.0</td>\n",
       "    </tr>\n",
       "    <tr>\n",
       "      <th>champion</th>\n",
       "      <td>champion</td>\n",
       "      <td>int64</td>\n",
       "      <td>0</td>\n",
       "      <td>0.0</td>\n",
       "    </tr>\n",
       "    <tr>\n",
       "      <th>queue</th>\n",
       "      <td>queue</td>\n",
       "      <td>int64</td>\n",
       "      <td>0</td>\n",
       "      <td>0.0</td>\n",
       "    </tr>\n",
       "    <tr>\n",
       "      <th>season</th>\n",
       "      <td>season</td>\n",
       "      <td>int64</td>\n",
       "      <td>0</td>\n",
       "      <td>0.0</td>\n",
       "    </tr>\n",
       "    <tr>\n",
       "      <th>timestamp</th>\n",
       "      <td>timestamp</td>\n",
       "      <td>int64</td>\n",
       "      <td>0</td>\n",
       "      <td>0.0</td>\n",
       "    </tr>\n",
       "    <tr>\n",
       "      <th>role</th>\n",
       "      <td>role</td>\n",
       "      <td>category</td>\n",
       "      <td>0</td>\n",
       "      <td>0.0</td>\n",
       "    </tr>\n",
       "    <tr>\n",
       "      <th>lane</th>\n",
       "      <td>lane</td>\n",
       "      <td>category</td>\n",
       "      <td>0</td>\n",
       "      <td>0.0</td>\n",
       "    </tr>\n",
       "  </tbody>\n",
       "</table>\n",
       "</div>"
      ],
      "text/plain": [
       "                 names     types  NA #  NA %\n",
       "platformId  platformId    string     0   0.0\n",
       "gameId          gameId     int64     0   0.0\n",
       "champion      champion     int64     0   0.0\n",
       "queue            queue     int64     0   0.0\n",
       "season          season     int64     0   0.0\n",
       "timestamp    timestamp     int64     0   0.0\n",
       "role              role  category     0   0.0\n",
       "lane              lane  category     0   0.0"
      ]
     },
     "execution_count": 18,
     "metadata": {},
     "output_type": "execute_result"
    }
   ],
   "source": [
    "getMissData(df_matches_acc_id)"
   ]
  },
  {
   "cell_type": "code",
   "execution_count": 19,
   "metadata": {},
   "outputs": [
    {
     "data": {
      "text/html": [
       "<div>\n",
       "<style scoped>\n",
       "    .dataframe tbody tr th:only-of-type {\n",
       "        vertical-align: middle;\n",
       "    }\n",
       "\n",
       "    .dataframe tbody tr th {\n",
       "        vertical-align: top;\n",
       "    }\n",
       "\n",
       "    .dataframe thead th {\n",
       "        text-align: right;\n",
       "    }\n",
       "</style>\n",
       "<table border=\"1\" class=\"dataframe\">\n",
       "  <thead>\n",
       "    <tr style=\"text-align: right;\">\n",
       "      <th></th>\n",
       "      <th>names</th>\n",
       "      <th>types</th>\n",
       "      <th>NA #</th>\n",
       "      <th>NA %</th>\n",
       "    </tr>\n",
       "  </thead>\n",
       "  <tbody>\n",
       "    <tr>\n",
       "      <th>teamId</th>\n",
       "      <td>teamId</td>\n",
       "      <td>int64</td>\n",
       "      <td>0</td>\n",
       "      <td>0.000000</td>\n",
       "    </tr>\n",
       "    <tr>\n",
       "      <th>win</th>\n",
       "      <td>win</td>\n",
       "      <td>category</td>\n",
       "      <td>2</td>\n",
       "      <td>0.003297</td>\n",
       "    </tr>\n",
       "    <tr>\n",
       "      <th>firstBlood</th>\n",
       "      <td>firstBlood</td>\n",
       "      <td>bool</td>\n",
       "      <td>0</td>\n",
       "      <td>0.000000</td>\n",
       "    </tr>\n",
       "    <tr>\n",
       "      <th>firstTower</th>\n",
       "      <td>firstTower</td>\n",
       "      <td>bool</td>\n",
       "      <td>0</td>\n",
       "      <td>0.000000</td>\n",
       "    </tr>\n",
       "    <tr>\n",
       "      <th>firstInhibitor</th>\n",
       "      <td>firstInhibitor</td>\n",
       "      <td>bool</td>\n",
       "      <td>0</td>\n",
       "      <td>0.000000</td>\n",
       "    </tr>\n",
       "    <tr>\n",
       "      <th>firstBaron</th>\n",
       "      <td>firstBaron</td>\n",
       "      <td>bool</td>\n",
       "      <td>0</td>\n",
       "      <td>0.000000</td>\n",
       "    </tr>\n",
       "    <tr>\n",
       "      <th>firstDragon</th>\n",
       "      <td>firstDragon</td>\n",
       "      <td>bool</td>\n",
       "      <td>0</td>\n",
       "      <td>0.000000</td>\n",
       "    </tr>\n",
       "    <tr>\n",
       "      <th>firstRiftHerald</th>\n",
       "      <td>firstRiftHerald</td>\n",
       "      <td>bool</td>\n",
       "      <td>0</td>\n",
       "      <td>0.000000</td>\n",
       "    </tr>\n",
       "    <tr>\n",
       "      <th>towerKills</th>\n",
       "      <td>towerKills</td>\n",
       "      <td>int64</td>\n",
       "      <td>0</td>\n",
       "      <td>0.000000</td>\n",
       "    </tr>\n",
       "    <tr>\n",
       "      <th>inhibitorKills</th>\n",
       "      <td>inhibitorKills</td>\n",
       "      <td>int64</td>\n",
       "      <td>0</td>\n",
       "      <td>0.000000</td>\n",
       "    </tr>\n",
       "    <tr>\n",
       "      <th>baronKills</th>\n",
       "      <td>baronKills</td>\n",
       "      <td>int64</td>\n",
       "      <td>0</td>\n",
       "      <td>0.000000</td>\n",
       "    </tr>\n",
       "    <tr>\n",
       "      <th>dragonKills</th>\n",
       "      <td>dragonKills</td>\n",
       "      <td>int64</td>\n",
       "      <td>0</td>\n",
       "      <td>0.000000</td>\n",
       "    </tr>\n",
       "    <tr>\n",
       "      <th>vilemawKills</th>\n",
       "      <td>vilemawKills</td>\n",
       "      <td>int64</td>\n",
       "      <td>0</td>\n",
       "      <td>0.000000</td>\n",
       "    </tr>\n",
       "    <tr>\n",
       "      <th>riftHeraldKills</th>\n",
       "      <td>riftHeraldKills</td>\n",
       "      <td>int64</td>\n",
       "      <td>0</td>\n",
       "      <td>0.000000</td>\n",
       "    </tr>\n",
       "    <tr>\n",
       "      <th>dominionVictoryScore</th>\n",
       "      <td>dominionVictoryScore</td>\n",
       "      <td>int64</td>\n",
       "      <td>0</td>\n",
       "      <td>0.000000</td>\n",
       "    </tr>\n",
       "    <tr>\n",
       "      <th>bans</th>\n",
       "      <td>bans</td>\n",
       "      <td>object</td>\n",
       "      <td>0</td>\n",
       "      <td>0.000000</td>\n",
       "    </tr>\n",
       "  </tbody>\n",
       "</table>\n",
       "</div>"
      ],
      "text/plain": [
       "                                     names     types  NA #      NA %\n",
       "teamId                              teamId     int64     0  0.000000\n",
       "win                                    win  category     2  0.003297\n",
       "firstBlood                      firstBlood      bool     0  0.000000\n",
       "firstTower                      firstTower      bool     0  0.000000\n",
       "firstInhibitor              firstInhibitor      bool     0  0.000000\n",
       "firstBaron                      firstBaron      bool     0  0.000000\n",
       "firstDragon                    firstDragon      bool     0  0.000000\n",
       "firstRiftHerald            firstRiftHerald      bool     0  0.000000\n",
       "towerKills                      towerKills     int64     0  0.000000\n",
       "inhibitorKills              inhibitorKills     int64     0  0.000000\n",
       "baronKills                      baronKills     int64     0  0.000000\n",
       "dragonKills                    dragonKills     int64     0  0.000000\n",
       "vilemawKills                  vilemawKills     int64     0  0.000000\n",
       "riftHeraldKills            riftHeraldKills     int64     0  0.000000\n",
       "dominionVictoryScore  dominionVictoryScore     int64     0  0.000000\n",
       "bans                                  bans    object     0  0.000000"
      ]
     },
     "execution_count": 19,
     "metadata": {},
     "output_type": "execute_result"
    }
   ],
   "source": [
    "getMissData(df_match_stats)"
   ]
  },
  {
   "cell_type": "code",
   "execution_count": 20,
   "metadata": {},
   "outputs": [
    {
     "data": {
      "text/html": [
       "<div>\n",
       "<style scoped>\n",
       "    .dataframe tbody tr th:only-of-type {\n",
       "        vertical-align: middle;\n",
       "    }\n",
       "\n",
       "    .dataframe tbody tr th {\n",
       "        vertical-align: top;\n",
       "    }\n",
       "\n",
       "    .dataframe thead th {\n",
       "        text-align: right;\n",
       "    }\n",
       "</style>\n",
       "<table border=\"1\" class=\"dataframe\">\n",
       "  <thead>\n",
       "    <tr style=\"text-align: right;\">\n",
       "      <th></th>\n",
       "      <th>names</th>\n",
       "      <th>types</th>\n",
       "      <th>NA #</th>\n",
       "      <th>NA %</th>\n",
       "    </tr>\n",
       "  </thead>\n",
       "  <tbody>\n",
       "    <tr>\n",
       "      <th>champion</th>\n",
       "      <td>champion</td>\n",
       "      <td>int64</td>\n",
       "      <td>0</td>\n",
       "      <td>0.0</td>\n",
       "    </tr>\n",
       "    <tr>\n",
       "      <th>spell1</th>\n",
       "      <td>spell1</td>\n",
       "      <td>int64</td>\n",
       "      <td>0</td>\n",
       "      <td>0.0</td>\n",
       "    </tr>\n",
       "    <tr>\n",
       "      <th>spell2</th>\n",
       "      <td>spell2</td>\n",
       "      <td>int64</td>\n",
       "      <td>0</td>\n",
       "      <td>0.0</td>\n",
       "    </tr>\n",
       "    <tr>\n",
       "      <th>win</th>\n",
       "      <td>win</td>\n",
       "      <td>bool</td>\n",
       "      <td>0</td>\n",
       "      <td>0.0</td>\n",
       "    </tr>\n",
       "    <tr>\n",
       "      <th>kills</th>\n",
       "      <td>kills</td>\n",
       "      <td>int64</td>\n",
       "      <td>0</td>\n",
       "      <td>0.0</td>\n",
       "    </tr>\n",
       "    <tr>\n",
       "      <th>deaths</th>\n",
       "      <td>deaths</td>\n",
       "      <td>int64</td>\n",
       "      <td>0</td>\n",
       "      <td>0.0</td>\n",
       "    </tr>\n",
       "    <tr>\n",
       "      <th>assists</th>\n",
       "      <td>assists</td>\n",
       "      <td>int64</td>\n",
       "      <td>0</td>\n",
       "      <td>0.0</td>\n",
       "    </tr>\n",
       "    <tr>\n",
       "      <th>totalDamageDealt</th>\n",
       "      <td>totalDamageDealt</td>\n",
       "      <td>int64</td>\n",
       "      <td>0</td>\n",
       "      <td>0.0</td>\n",
       "    </tr>\n",
       "    <tr>\n",
       "      <th>goldEarned</th>\n",
       "      <td>goldEarned</td>\n",
       "      <td>int64</td>\n",
       "      <td>0</td>\n",
       "      <td>0.0</td>\n",
       "    </tr>\n",
       "    <tr>\n",
       "      <th>champLevel</th>\n",
       "      <td>champLevel</td>\n",
       "      <td>int64</td>\n",
       "      <td>0</td>\n",
       "      <td>0.0</td>\n",
       "    </tr>\n",
       "    <tr>\n",
       "      <th>totalMinionsKilled</th>\n",
       "      <td>totalMinionsKilled</td>\n",
       "      <td>int64</td>\n",
       "      <td>0</td>\n",
       "      <td>0.0</td>\n",
       "    </tr>\n",
       "    <tr>\n",
       "      <th>item0</th>\n",
       "      <td>item0</td>\n",
       "      <td>int64</td>\n",
       "      <td>0</td>\n",
       "      <td>0.0</td>\n",
       "    </tr>\n",
       "    <tr>\n",
       "      <th>item1</th>\n",
       "      <td>item1</td>\n",
       "      <td>int64</td>\n",
       "      <td>0</td>\n",
       "      <td>0.0</td>\n",
       "    </tr>\n",
       "  </tbody>\n",
       "</table>\n",
       "</div>"
      ],
      "text/plain": [
       "                                 names  types  NA #  NA %\n",
       "champion                      champion  int64     0   0.0\n",
       "spell1                          spell1  int64     0   0.0\n",
       "spell2                          spell2  int64     0   0.0\n",
       "win                                win   bool     0   0.0\n",
       "kills                            kills  int64     0   0.0\n",
       "deaths                          deaths  int64     0   0.0\n",
       "assists                        assists  int64     0   0.0\n",
       "totalDamageDealt      totalDamageDealt  int64     0   0.0\n",
       "goldEarned                  goldEarned  int64     0   0.0\n",
       "champLevel                  champLevel  int64     0   0.0\n",
       "totalMinionsKilled  totalMinionsKilled  int64     0   0.0\n",
       "item0                            item0  int64     0   0.0\n",
       "item1                            item1  int64     0   0.0"
      ]
     },
     "execution_count": 20,
     "metadata": {},
     "output_type": "execute_result"
    }
   ],
   "source": [
    "getMissData(df_players_matches_stats)"
   ]
  },
  {
   "cell_type": "markdown",
   "metadata": {},
   "source": [
    "**Como os dados foram obtidos através de api, não temos dados faltantes**"
   ]
  },
  {
   "cell_type": "markdown",
   "metadata": {},
   "source": [
    "## Detecção de Outliers"
   ]
  },
  {
   "cell_type": "markdown",
   "metadata": {},
   "source": [
    "**Base de Usuários**"
   ]
  },
  {
   "cell_type": "code",
   "execution_count": 32,
   "metadata": {},
   "outputs": [
    {
     "data": {
      "text/html": [
       "<div>\n",
       "<style scoped>\n",
       "    .dataframe tbody tr th:only-of-type {\n",
       "        vertical-align: middle;\n",
       "    }\n",
       "\n",
       "    .dataframe tbody tr th {\n",
       "        vertical-align: top;\n",
       "    }\n",
       "\n",
       "    .dataframe thead th {\n",
       "        text-align: right;\n",
       "    }\n",
       "</style>\n",
       "<table border=\"1\" class=\"dataframe\">\n",
       "  <thead>\n",
       "    <tr style=\"text-align: right;\">\n",
       "      <th></th>\n",
       "      <th>tier</th>\n",
       "      <th>summonerId</th>\n",
       "      <th>summonerName</th>\n",
       "      <th>leaguePoints</th>\n",
       "      <th>wins</th>\n",
       "      <th>losses</th>\n",
       "      <th>veteran</th>\n",
       "      <th>inactive</th>\n",
       "      <th>freshBlood</th>\n",
       "      <th>hotStreak</th>\n",
       "      <th>summonerLevel</th>\n",
       "      <th>puuid</th>\n",
       "    </tr>\n",
       "    <tr>\n",
       "      <th>accountId</th>\n",
       "      <th></th>\n",
       "      <th></th>\n",
       "      <th></th>\n",
       "      <th></th>\n",
       "      <th></th>\n",
       "      <th></th>\n",
       "      <th></th>\n",
       "      <th></th>\n",
       "      <th></th>\n",
       "      <th></th>\n",
       "      <th></th>\n",
       "      <th></th>\n",
       "    </tr>\n",
       "  </thead>\n",
       "  <tbody>\n",
       "    <tr>\n",
       "      <th>bk1m2_GS-2L9loYOKil6EbsEHnQOCY15LRVByLuQvjf46Cc</th>\n",
       "      <td>DIAMONDI</td>\n",
       "      <td>a6XNnr-OC1673HAJaeCorjI1T9Sbe7gYJIBpbsu_CllJIOI</td>\n",
       "      <td>LokiFc</td>\n",
       "      <td>39</td>\n",
       "      <td>192</td>\n",
       "      <td>184</td>\n",
       "      <td>False</td>\n",
       "      <td>False</td>\n",
       "      <td>False</td>\n",
       "      <td>False</td>\n",
       "      <td>291</td>\n",
       "      <td>AvAT9pAFILqL0Eo0kWmFOXug4KyIBh4QprnfHU4Ao2e3Bj...</td>\n",
       "    </tr>\n",
       "    <tr>\n",
       "      <th>B6nuFHgma2xw3B4ZYsSQeb38pgQxgajWykeB8OEZHm0sSO8</th>\n",
       "      <td>DIAMONDI</td>\n",
       "      <td>h_TlijF-s3RAtZaCyUVvBvgO-GGVuG60TqH3h7cTGrOKT18</td>\n",
       "      <td>lepanta</td>\n",
       "      <td>96</td>\n",
       "      <td>123</td>\n",
       "      <td>102</td>\n",
       "      <td>False</td>\n",
       "      <td>False</td>\n",
       "      <td>False</td>\n",
       "      <td>False</td>\n",
       "      <td>131</td>\n",
       "      <td>z2NP0f9IPVNevXHBEiZ5wjOHHwmqifJM0St3OpTjgI8xon...</td>\n",
       "    </tr>\n",
       "    <tr>\n",
       "      <th>4FnPhlgfii3JW283EbPr2Zl4ZPYoVdk6Qfjc7LIPP8MrZEI</th>\n",
       "      <td>DIAMONDI</td>\n",
       "      <td>8fb8V6VEtBGfFZgq3Fyv3eEJ43UQyIeFOCm0SKEQvgu673M</td>\n",
       "      <td>i still hate you</td>\n",
       "      <td>0</td>\n",
       "      <td>350</td>\n",
       "      <td>298</td>\n",
       "      <td>False</td>\n",
       "      <td>False</td>\n",
       "      <td>False</td>\n",
       "      <td>False</td>\n",
       "      <td>224</td>\n",
       "      <td>CZq0S_gurM-JdaLAI8mZxCHhvxWGSen9ipXUt6QCOkyNDz...</td>\n",
       "    </tr>\n",
       "    <tr>\n",
       "      <th>a3jbDn6LEGapOQp3ecrp3-PS2kUryxZ5NHXzQn40TsOT4tQ</th>\n",
       "      <td>DIAMONDI</td>\n",
       "      <td>alh23IJbh4qXrbhZns-7UZFVrF1z7fUkKaKGUaNcGbM65uA</td>\n",
       "      <td>shadyzïn</td>\n",
       "      <td>16</td>\n",
       "      <td>135</td>\n",
       "      <td>109</td>\n",
       "      <td>False</td>\n",
       "      <td>False</td>\n",
       "      <td>False</td>\n",
       "      <td>False</td>\n",
       "      <td>233</td>\n",
       "      <td>wADRcuNbUSKIB1uAIodgtv23LnbyrZZhTY5-TXAuDZoyzf...</td>\n",
       "    </tr>\n",
       "    <tr>\n",
       "      <th>hsiTGDBRyGqJ57_rcYgKYy-lnj4HVJJrBnviuc41KuaqsTo</th>\n",
       "      <td>DIAMONDI</td>\n",
       "      <td>DLlFV0Vyigj3Bm--a-DH-ADL54C8and8CGL_08TiFKU_-ig</td>\n",
       "      <td>lagartin safo</td>\n",
       "      <td>0</td>\n",
       "      <td>137</td>\n",
       "      <td>115</td>\n",
       "      <td>False</td>\n",
       "      <td>False</td>\n",
       "      <td>False</td>\n",
       "      <td>False</td>\n",
       "      <td>137</td>\n",
       "      <td>XnADRrwXtgMPlKMovnXyUvc31v_1H-0chebhzdZ7piXF31...</td>\n",
       "    </tr>\n",
       "  </tbody>\n",
       "</table>\n",
       "</div>"
      ],
      "text/plain": [
       "                                                     tier  \\\n",
       "accountId                                                   \n",
       "bk1m2_GS-2L9loYOKil6EbsEHnQOCY15LRVByLuQvjf46Cc  DIAMONDI   \n",
       "B6nuFHgma2xw3B4ZYsSQeb38pgQxgajWykeB8OEZHm0sSO8  DIAMONDI   \n",
       "4FnPhlgfii3JW283EbPr2Zl4ZPYoVdk6Qfjc7LIPP8MrZEI  DIAMONDI   \n",
       "a3jbDn6LEGapOQp3ecrp3-PS2kUryxZ5NHXzQn40TsOT4tQ  DIAMONDI   \n",
       "hsiTGDBRyGqJ57_rcYgKYy-lnj4HVJJrBnviuc41KuaqsTo  DIAMONDI   \n",
       "\n",
       "                                                                                      summonerId  \\\n",
       "accountId                                                                                          \n",
       "bk1m2_GS-2L9loYOKil6EbsEHnQOCY15LRVByLuQvjf46Cc  a6XNnr-OC1673HAJaeCorjI1T9Sbe7gYJIBpbsu_CllJIOI   \n",
       "B6nuFHgma2xw3B4ZYsSQeb38pgQxgajWykeB8OEZHm0sSO8  h_TlijF-s3RAtZaCyUVvBvgO-GGVuG60TqH3h7cTGrOKT18   \n",
       "4FnPhlgfii3JW283EbPr2Zl4ZPYoVdk6Qfjc7LIPP8MrZEI  8fb8V6VEtBGfFZgq3Fyv3eEJ43UQyIeFOCm0SKEQvgu673M   \n",
       "a3jbDn6LEGapOQp3ecrp3-PS2kUryxZ5NHXzQn40TsOT4tQ  alh23IJbh4qXrbhZns-7UZFVrF1z7fUkKaKGUaNcGbM65uA   \n",
       "hsiTGDBRyGqJ57_rcYgKYy-lnj4HVJJrBnviuc41KuaqsTo  DLlFV0Vyigj3Bm--a-DH-ADL54C8and8CGL_08TiFKU_-ig   \n",
       "\n",
       "                                                     summonerName  \\\n",
       "accountId                                                           \n",
       "bk1m2_GS-2L9loYOKil6EbsEHnQOCY15LRVByLuQvjf46Cc            LokiFc   \n",
       "B6nuFHgma2xw3B4ZYsSQeb38pgQxgajWykeB8OEZHm0sSO8           lepanta   \n",
       "4FnPhlgfii3JW283EbPr2Zl4ZPYoVdk6Qfjc7LIPP8MrZEI  i still hate you   \n",
       "a3jbDn6LEGapOQp3ecrp3-PS2kUryxZ5NHXzQn40TsOT4tQ          shadyzïn   \n",
       "hsiTGDBRyGqJ57_rcYgKYy-lnj4HVJJrBnviuc41KuaqsTo     lagartin safo   \n",
       "\n",
       "                                                 leaguePoints  wins  losses  \\\n",
       "accountId                                                                     \n",
       "bk1m2_GS-2L9loYOKil6EbsEHnQOCY15LRVByLuQvjf46Cc            39   192     184   \n",
       "B6nuFHgma2xw3B4ZYsSQeb38pgQxgajWykeB8OEZHm0sSO8            96   123     102   \n",
       "4FnPhlgfii3JW283EbPr2Zl4ZPYoVdk6Qfjc7LIPP8MrZEI             0   350     298   \n",
       "a3jbDn6LEGapOQp3ecrp3-PS2kUryxZ5NHXzQn40TsOT4tQ            16   135     109   \n",
       "hsiTGDBRyGqJ57_rcYgKYy-lnj4HVJJrBnviuc41KuaqsTo             0   137     115   \n",
       "\n",
       "                                                 veteran  inactive  \\\n",
       "accountId                                                            \n",
       "bk1m2_GS-2L9loYOKil6EbsEHnQOCY15LRVByLuQvjf46Cc    False     False   \n",
       "B6nuFHgma2xw3B4ZYsSQeb38pgQxgajWykeB8OEZHm0sSO8    False     False   \n",
       "4FnPhlgfii3JW283EbPr2Zl4ZPYoVdk6Qfjc7LIPP8MrZEI    False     False   \n",
       "a3jbDn6LEGapOQp3ecrp3-PS2kUryxZ5NHXzQn40TsOT4tQ    False     False   \n",
       "hsiTGDBRyGqJ57_rcYgKYy-lnj4HVJJrBnviuc41KuaqsTo    False     False   \n",
       "\n",
       "                                                 freshBlood  hotStreak  \\\n",
       "accountId                                                                \n",
       "bk1m2_GS-2L9loYOKil6EbsEHnQOCY15LRVByLuQvjf46Cc       False      False   \n",
       "B6nuFHgma2xw3B4ZYsSQeb38pgQxgajWykeB8OEZHm0sSO8       False      False   \n",
       "4FnPhlgfii3JW283EbPr2Zl4ZPYoVdk6Qfjc7LIPP8MrZEI       False      False   \n",
       "a3jbDn6LEGapOQp3ecrp3-PS2kUryxZ5NHXzQn40TsOT4tQ       False      False   \n",
       "hsiTGDBRyGqJ57_rcYgKYy-lnj4HVJJrBnviuc41KuaqsTo       False      False   \n",
       "\n",
       "                                                 summonerLevel  \\\n",
       "accountId                                                        \n",
       "bk1m2_GS-2L9loYOKil6EbsEHnQOCY15LRVByLuQvjf46Cc            291   \n",
       "B6nuFHgma2xw3B4ZYsSQeb38pgQxgajWykeB8OEZHm0sSO8            131   \n",
       "4FnPhlgfii3JW283EbPr2Zl4ZPYoVdk6Qfjc7LIPP8MrZEI            224   \n",
       "a3jbDn6LEGapOQp3ecrp3-PS2kUryxZ5NHXzQn40TsOT4tQ            233   \n",
       "hsiTGDBRyGqJ57_rcYgKYy-lnj4HVJJrBnviuc41KuaqsTo            137   \n",
       "\n",
       "                                                                                             puuid  \n",
       "accountId                                                                                           \n",
       "bk1m2_GS-2L9loYOKil6EbsEHnQOCY15LRVByLuQvjf46Cc  AvAT9pAFILqL0Eo0kWmFOXug4KyIBh4QprnfHU4Ao2e3Bj...  \n",
       "B6nuFHgma2xw3B4ZYsSQeb38pgQxgajWykeB8OEZHm0sSO8  z2NP0f9IPVNevXHBEiZ5wjOHHwmqifJM0St3OpTjgI8xon...  \n",
       "4FnPhlgfii3JW283EbPr2Zl4ZPYoVdk6Qfjc7LIPP8MrZEI  CZq0S_gurM-JdaLAI8mZxCHhvxWGSen9ipXUt6QCOkyNDz...  \n",
       "a3jbDn6LEGapOQp3ecrp3-PS2kUryxZ5NHXzQn40TsOT4tQ  wADRcuNbUSKIB1uAIodgtv23LnbyrZZhTY5-TXAuDZoyzf...  \n",
       "hsiTGDBRyGqJ57_rcYgKYy-lnj4HVJJrBnviuc41KuaqsTo  XnADRrwXtgMPlKMovnXyUvc31v_1H-0chebhzdZ7piXF31...  "
      ]
     },
     "execution_count": 32,
     "metadata": {},
     "output_type": "execute_result"
    }
   ],
   "source": [
    "df_users_seed.head()"
   ]
  },
  {
   "cell_type": "markdown",
   "metadata": {},
   "source": [
    "**Existem 2 variáveis que podem ser consideradas outliers, Wins e Losses. Summoner Level não entra nessa detecção, pois até certo ponto ele tinha um limite de 30 e os valores, quaisquer que sejam, são importantes para os testes de hipotese.**"
   ]
  },
  {
   "cell_type": "markdown",
   "metadata": {},
   "source": [
    "**Então vamos analisar as vitórias e derrotas do jogador**"
   ]
  },
  {
   "cell_type": "code",
   "execution_count": 21,
   "metadata": {},
   "outputs": [
    {
     "data": {
      "text/html": [
       "<div>\n",
       "<style scoped>\n",
       "    .dataframe tbody tr th:only-of-type {\n",
       "        vertical-align: middle;\n",
       "    }\n",
       "\n",
       "    .dataframe tbody tr th {\n",
       "        vertical-align: top;\n",
       "    }\n",
       "\n",
       "    .dataframe thead th {\n",
       "        text-align: right;\n",
       "    }\n",
       "</style>\n",
       "<table border=\"1\" class=\"dataframe\">\n",
       "  <thead>\n",
       "    <tr style=\"text-align: right;\">\n",
       "      <th></th>\n",
       "      <th>wins</th>\n",
       "      <th>losses</th>\n",
       "    </tr>\n",
       "  </thead>\n",
       "  <tbody>\n",
       "    <tr>\n",
       "      <th>count</th>\n",
       "      <td>2661.000000</td>\n",
       "      <td>2661.000000</td>\n",
       "    </tr>\n",
       "    <tr>\n",
       "      <th>mean</th>\n",
       "      <td>320.681323</td>\n",
       "      <td>290.610673</td>\n",
       "    </tr>\n",
       "    <tr>\n",
       "      <th>std</th>\n",
       "      <td>207.561816</td>\n",
       "      <td>206.441510</td>\n",
       "    </tr>\n",
       "    <tr>\n",
       "      <th>min</th>\n",
       "      <td>20.000000</td>\n",
       "      <td>8.000000</td>\n",
       "    </tr>\n",
       "    <tr>\n",
       "      <th>25%</th>\n",
       "      <td>172.000000</td>\n",
       "      <td>141.000000</td>\n",
       "    </tr>\n",
       "    <tr>\n",
       "      <th>50%</th>\n",
       "      <td>269.000000</td>\n",
       "      <td>239.000000</td>\n",
       "    </tr>\n",
       "    <tr>\n",
       "      <th>75%</th>\n",
       "      <td>421.000000</td>\n",
       "      <td>390.000000</td>\n",
       "    </tr>\n",
       "    <tr>\n",
       "      <th>max</th>\n",
       "      <td>1363.000000</td>\n",
       "      <td>1338.000000</td>\n",
       "    </tr>\n",
       "  </tbody>\n",
       "</table>\n",
       "</div>"
      ],
      "text/plain": [
       "              wins       losses\n",
       "count  2661.000000  2661.000000\n",
       "mean    320.681323   290.610673\n",
       "std     207.561816   206.441510\n",
       "min      20.000000     8.000000\n",
       "25%     172.000000   141.000000\n",
       "50%     269.000000   239.000000\n",
       "75%     421.000000   390.000000\n",
       "max    1363.000000  1338.000000"
      ]
     },
     "execution_count": 21,
     "metadata": {},
     "output_type": "execute_result"
    }
   ],
   "source": [
    "df_users_seed[['wins','losses']].describe()"
   ]
  },
  {
   "cell_type": "code",
   "execution_count": 22,
   "metadata": {},
   "outputs": [
    {
     "data": {
      "text/plain": [
       "<matplotlib.axes._subplots.AxesSubplot at 0x1a0464b6490>"
      ]
     },
     "execution_count": 22,
     "metadata": {},
     "output_type": "execute_result"
    },
    {
     "data": {
      "image/png": "[encoded data removed]",
      "text/plain": [
       "<Figure size 720x576 with 1 Axes>"
      ]
     },
     "metadata": {
      "needs_background": "light"
     },
     "output_type": "display_data"
    }
   ],
   "source": [
    "df_users_seed.boxplot(column=['wins', 'losses'],figsize=(10,8))"
   ]
  },
  {
   "cell_type": "markdown",
   "metadata": {},
   "source": [
    "**Como alguns player jogam a mais tempo, não podemos analisar esses números isoladamente, por isso vamos ver em relação ao tempo de jogo, que podemos considerar como o Summoner Level**"
   ]
  },
  {
   "cell_type": "code",
   "execution_count": 26,
   "metadata": {},
   "outputs": [
    {
     "data": {
      "text/plain": [
       "<matplotlib.axes._subplots.AxesSubplot at 0x1a0468aac70>"
      ]
     },
     "execution_count": 26,
     "metadata": {},
     "output_type": "execute_result"
    },
    {
     "data": {
      "image/png": "[encoded data removed]",
      "text/plain": [
       "<Figure size 720x576 with 1 Axes>"
      ]
     },
     "metadata": {
      "needs_background": "light"
     },
     "output_type": "display_data"
    }
   ],
   "source": [
    "df_users_seed.plot.scatter(x='summonerLevel', y='losses',figsize=(10,8))"
   ]
  },
  {
   "cell_type": "code",
   "execution_count": 27,
   "metadata": {
    "scrolled": true
   },
   "outputs": [
    {
     "data": {
      "text/plain": [
       "<matplotlib.axes._subplots.AxesSubplot at 0x1a046902280>"
      ]
     },
     "execution_count": 27,
     "metadata": {},
     "output_type": "execute_result"
    },
    {
     "data": {
      "image/png": "[encoded data removed]",
      "text/plain": [
       "<Figure size 720x576 with 1 Axes>"
      ]
     },
     "metadata": {
      "needs_background": "light"
     },
     "output_type": "display_data"
    }
   ],
   "source": [
    "df_users_seed.plot.scatter(x='summonerLevel', y='wins',figsize=(10,8))"
   ]
  },
  {
   "cell_type": "markdown",
   "metadata": {},
   "source": [
    "**O problema de usar o summoner level é porque até um certo tempo, existia um limite de level no League of Legends, onde jogadores podiam chegar somente até o level 30, mas o número de vitorias e derrotas continuava subindo. Por conta desse limite, faz sentido tentarmos agrupar por tiers**\n"
   ]
  },
  {
   "cell_type": "code",
   "execution_count": 28,
   "metadata": {},
   "outputs": [
    {
     "data": {
      "text/html": [
       "<div>\n",
       "<style scoped>\n",
       "    .dataframe tbody tr th:only-of-type {\n",
       "        vertical-align: middle;\n",
       "    }\n",
       "\n",
       "    .dataframe tbody tr th {\n",
       "        vertical-align: top;\n",
       "    }\n",
       "\n",
       "    .dataframe thead th {\n",
       "        text-align: right;\n",
       "    }\n",
       "</style>\n",
       "<table border=\"1\" class=\"dataframe\">\n",
       "  <thead>\n",
       "    <tr style=\"text-align: right;\">\n",
       "      <th></th>\n",
       "      <th>wins</th>\n",
       "      <th>losses</th>\n",
       "    </tr>\n",
       "    <tr>\n",
       "      <th>tier</th>\n",
       "      <th></th>\n",
       "      <th></th>\n",
       "    </tr>\n",
       "  </thead>\n",
       "  <tbody>\n",
       "    <tr>\n",
       "      <th>DIAMONDI</th>\n",
       "      <td>276.444444</td>\n",
       "      <td>252.752525</td>\n",
       "    </tr>\n",
       "    <tr>\n",
       "      <th>DIAMONDII</th>\n",
       "      <td>238.631313</td>\n",
       "      <td>220.585859</td>\n",
       "    </tr>\n",
       "    <tr>\n",
       "      <th>DIAMONDIII</th>\n",
       "      <td>224.860697</td>\n",
       "      <td>210.104478</td>\n",
       "    </tr>\n",
       "    <tr>\n",
       "      <th>DIAMONDIV</th>\n",
       "      <td>212.213198</td>\n",
       "      <td>200.507614</td>\n",
       "    </tr>\n",
       "    <tr>\n",
       "      <th>MASTER</th>\n",
       "      <td>355.835565</td>\n",
       "      <td>320.226567</td>\n",
       "    </tr>\n",
       "  </tbody>\n",
       "</table>\n",
       "</div>"
      ],
      "text/plain": [
       "                  wins      losses\n",
       "tier                              \n",
       "DIAMONDI    276.444444  252.752525\n",
       "DIAMONDII   238.631313  220.585859\n",
       "DIAMONDIII  224.860697  210.104478\n",
       "DIAMONDIV   212.213198  200.507614\n",
       "MASTER      355.835565  320.226567"
      ]
     },
     "execution_count": 28,
     "metadata": {},
     "output_type": "execute_result"
    }
   ],
   "source": [
    "df_users_by_tier = df_users_seed.groupby(['tier'])\n",
    "df_users_by_tier[['wins','losses']].mean()"
   ]
  },
  {
   "cell_type": "code",
   "execution_count": 29,
   "metadata": {},
   "outputs": [
    {
     "data": {
      "text/plain": [
       "DIAMONDI           AxesSubplot(0.1,0.679412;0.363636x0.220588)\n",
       "DIAMONDII     AxesSubplot(0.536364,0.679412;0.363636x0.220588)\n",
       "DIAMONDIII         AxesSubplot(0.1,0.414706;0.363636x0.220588)\n",
       "DIAMONDIV     AxesSubplot(0.536364,0.414706;0.363636x0.220588)\n",
       "MASTER                 AxesSubplot(0.1,0.15;0.363636x0.220588)\n",
       "dtype: object"
      ]
     },
     "execution_count": 29,
     "metadata": {},
     "output_type": "execute_result"
    },
    {
     "data": {
      "image/png": "[encoded data removed]",
      "text/plain": [
       "<Figure size 864x720 with 6 Axes>"
      ]
     },
     "metadata": {
      "needs_background": "light"
     },
     "output_type": "display_data"
    }
   ],
   "source": [
    "df_users_by_tier.boxplot(column=['wins','losses'],figsize=(12,10))"
   ]
  },
  {
   "cell_type": "markdown",
   "metadata": {},
   "source": [
    "**Por tier nós entramos na questão se o jogador é bom ou não, então vale a pena vermos a relação entre as duas variáveis**"
   ]
  },
  {
   "cell_type": "code",
   "execution_count": 30,
   "metadata": {},
   "outputs": [
    {
     "data": {
      "text/plain": [
       "tier\n",
       "DIAMONDI      AxesSubplot(0.125,0.125;0.775x0.755)\n",
       "DIAMONDII     AxesSubplot(0.125,0.125;0.775x0.755)\n",
       "DIAMONDIII    AxesSubplot(0.125,0.125;0.775x0.755)\n",
       "DIAMONDIV     AxesSubplot(0.125,0.125;0.775x0.755)\n",
       "MASTER        AxesSubplot(0.125,0.125;0.775x0.755)\n",
       "dtype: object"
      ]
     },
     "execution_count": 30,
     "metadata": {},
     "output_type": "execute_result"
    },
    {
     "data": {
      "image/png": "[encoded data removed]",
      "text/plain": [
       "<Figure size 432x288 with 1 Axes>"
      ]
     },
     "metadata": {
      "needs_background": "light"
     },
     "output_type": "display_data"
    },
    {
     "data": {
      "image/png": "[encoded data removed]",
      "text/plain": [
       "<Figure size 432x288 with 1 Axes>"
      ]
     },
     "metadata": {
      "needs_background": "light"
     },
     "output_type": "display_data"
    },
    {
     "data": {
      "image/png": "[encoded data removed]",
      "text/plain": [
       "<Figure size 432x288 with 1 Axes>"
      ]
     },
     "metadata": {
      "needs_background": "light"
     },
     "output_type": "display_data"
    },
    {
     "data": {
      "image/png": "[encoded data removed]",
      "text/plain": [
       "<Figure size 432x288 with 1 Axes>"
      ]
     },
     "metadata": {
      "needs_background": "light"
     },
     "output_type": "display_data"
    },
    {
     "data": {
      "image/png": "[encoded data removed]",
      "text/plain": [
       "<Figure size 432x288 with 1 Axes>"
      ]
     },
     "metadata": {
      "needs_background": "light"
     },
     "output_type": "display_data"
    }
   ],
   "source": [
    "df_users_seed.groupby('tier').plot.scatter(x='wins', y='losses')"
   ]
  },
  {
   "cell_type": "markdown",
   "metadata": {},
   "source": [
    "**Pelo grafico, podemos ver que o mais comum é a pessoa ter a mesma quantidade de vitórias que derrotas, então os valores não são necessáriamente outliers. Como último passo para detectar outliers, iremos verificar o win-rate do jogador, ou seja, quantas vitórias ele tem comparado ao total de partidas jogadas.**"
   ]
  },
  {
   "cell_type": "code",
   "execution_count": 49,
   "metadata": {},
   "outputs": [
    {
     "data": {
      "text/html": [
       "<div>\n",
       "<style scoped>\n",
       "    .dataframe tbody tr th:only-of-type {\n",
       "        vertical-align: middle;\n",
       "    }\n",
       "\n",
       "    .dataframe tbody tr th {\n",
       "        vertical-align: top;\n",
       "    }\n",
       "\n",
       "    .dataframe thead th {\n",
       "        text-align: right;\n",
       "    }\n",
       "</style>\n",
       "<table border=\"1\" class=\"dataframe\">\n",
       "  <thead>\n",
       "    <tr style=\"text-align: right;\">\n",
       "      <th></th>\n",
       "      <th>tier</th>\n",
       "      <th>summonerId</th>\n",
       "      <th>summonerName</th>\n",
       "      <th>leaguePoints</th>\n",
       "      <th>wins</th>\n",
       "      <th>losses</th>\n",
       "      <th>veteran</th>\n",
       "      <th>inactive</th>\n",
       "      <th>freshBlood</th>\n",
       "      <th>hotStreak</th>\n",
       "      <th>summonerLevel</th>\n",
       "      <th>puuid</th>\n",
       "      <th>win-rate</th>\n",
       "      <th>lose-rate</th>\n",
       "      <th>win_rate</th>\n",
       "    </tr>\n",
       "    <tr>\n",
       "      <th>accountId</th>\n",
       "      <th></th>\n",
       "      <th></th>\n",
       "      <th></th>\n",
       "      <th></th>\n",
       "      <th></th>\n",
       "      <th></th>\n",
       "      <th></th>\n",
       "      <th></th>\n",
       "      <th></th>\n",
       "      <th></th>\n",
       "      <th></th>\n",
       "      <th></th>\n",
       "      <th></th>\n",
       "      <th></th>\n",
       "      <th></th>\n",
       "    </tr>\n",
       "  </thead>\n",
       "  <tbody>\n",
       "    <tr>\n",
       "      <th>bk1m2_GS-2L9loYOKil6EbsEHnQOCY15LRVByLuQvjf46Cc</th>\n",
       "      <td>DIAMONDI</td>\n",
       "      <td>a6XNnr-OC1673HAJaeCorjI1T9Sbe7gYJIBpbsu_CllJIOI</td>\n",
       "      <td>LokiFc</td>\n",
       "      <td>39</td>\n",
       "      <td>192</td>\n",
       "      <td>184</td>\n",
       "      <td>False</td>\n",
       "      <td>False</td>\n",
       "      <td>False</td>\n",
       "      <td>False</td>\n",
       "      <td>291</td>\n",
       "      <td>AvAT9pAFILqL0Eo0kWmFOXug4KyIBh4QprnfHU4Ao2e3Bj...</td>\n",
       "      <td>0.510638</td>\n",
       "      <td>0.489362</td>\n",
       "      <td>0.510638</td>\n",
       "    </tr>\n",
       "    <tr>\n",
       "      <th>B6nuFHgma2xw3B4ZYsSQeb38pgQxgajWykeB8OEZHm0sSO8</th>\n",
       "      <td>DIAMONDI</td>\n",
       "      <td>h_TlijF-s3RAtZaCyUVvBvgO-GGVuG60TqH3h7cTGrOKT18</td>\n",
       "      <td>lepanta</td>\n",
       "      <td>96</td>\n",
       "      <td>123</td>\n",
       "      <td>102</td>\n",
       "      <td>False</td>\n",
       "      <td>False</td>\n",
       "      <td>False</td>\n",
       "      <td>False</td>\n",
       "      <td>131</td>\n",
       "      <td>z2NP0f9IPVNevXHBEiZ5wjOHHwmqifJM0St3OpTjgI8xon...</td>\n",
       "      <td>0.546667</td>\n",
       "      <td>0.453333</td>\n",
       "      <td>0.546667</td>\n",
       "    </tr>\n",
       "    <tr>\n",
       "      <th>4FnPhlgfii3JW283EbPr2Zl4ZPYoVdk6Qfjc7LIPP8MrZEI</th>\n",
       "      <td>DIAMONDI</td>\n",
       "      <td>8fb8V6VEtBGfFZgq3Fyv3eEJ43UQyIeFOCm0SKEQvgu673M</td>\n",
       "      <td>i still hate you</td>\n",
       "      <td>0</td>\n",
       "      <td>350</td>\n",
       "      <td>298</td>\n",
       "      <td>False</td>\n",
       "      <td>False</td>\n",
       "      <td>False</td>\n",
       "      <td>False</td>\n",
       "      <td>224</td>\n",
       "      <td>CZq0S_gurM-JdaLAI8mZxCHhvxWGSen9ipXUt6QCOkyNDz...</td>\n",
       "      <td>0.540123</td>\n",
       "      <td>0.459877</td>\n",
       "      <td>0.540123</td>\n",
       "    </tr>\n",
       "    <tr>\n",
       "      <th>a3jbDn6LEGapOQp3ecrp3-PS2kUryxZ5NHXzQn40TsOT4tQ</th>\n",
       "      <td>DIAMONDI</td>\n",
       "      <td>alh23IJbh4qXrbhZns-7UZFVrF1z7fUkKaKGUaNcGbM65uA</td>\n",
       "      <td>shadyzïn</td>\n",
       "      <td>16</td>\n",
       "      <td>135</td>\n",
       "      <td>109</td>\n",
       "      <td>False</td>\n",
       "      <td>False</td>\n",
       "      <td>False</td>\n",
       "      <td>False</td>\n",
       "      <td>233</td>\n",
       "      <td>wADRcuNbUSKIB1uAIodgtv23LnbyrZZhTY5-TXAuDZoyzf...</td>\n",
       "      <td>0.553279</td>\n",
       "      <td>0.446721</td>\n",
       "      <td>0.553279</td>\n",
       "    </tr>\n",
       "    <tr>\n",
       "      <th>hsiTGDBRyGqJ57_rcYgKYy-lnj4HVJJrBnviuc41KuaqsTo</th>\n",
       "      <td>DIAMONDI</td>\n",
       "      <td>DLlFV0Vyigj3Bm--a-DH-ADL54C8and8CGL_08TiFKU_-ig</td>\n",
       "      <td>lagartin safo</td>\n",
       "      <td>0</td>\n",
       "      <td>137</td>\n",
       "      <td>115</td>\n",
       "      <td>False</td>\n",
       "      <td>False</td>\n",
       "      <td>False</td>\n",
       "      <td>False</td>\n",
       "      <td>137</td>\n",
       "      <td>XnADRrwXtgMPlKMovnXyUvc31v_1H-0chebhzdZ7piXF31...</td>\n",
       "      <td>0.543651</td>\n",
       "      <td>0.456349</td>\n",
       "      <td>0.543651</td>\n",
       "    </tr>\n",
       "  </tbody>\n",
       "</table>\n",
       "</div>"
      ],
      "text/plain": [
       "                                                     tier  \\\n",
       "accountId                                                   \n",
       "bk1m2_GS-2L9loYOKil6EbsEHnQOCY15LRVByLuQvjf46Cc  DIAMONDI   \n",
       "B6nuFHgma2xw3B4ZYsSQeb38pgQxgajWykeB8OEZHm0sSO8  DIAMONDI   \n",
       "4FnPhlgfii3JW283EbPr2Zl4ZPYoVdk6Qfjc7LIPP8MrZEI  DIAMONDI   \n",
       "a3jbDn6LEGapOQp3ecrp3-PS2kUryxZ5NHXzQn40TsOT4tQ  DIAMONDI   \n",
       "hsiTGDBRyGqJ57_rcYgKYy-lnj4HVJJrBnviuc41KuaqsTo  DIAMONDI   \n",
       "\n",
       "                                                                                      summonerId  \\\n",
       "accountId                                                                                          \n",
       "bk1m2_GS-2L9loYOKil6EbsEHnQOCY15LRVByLuQvjf46Cc  a6XNnr-OC1673HAJaeCorjI1T9Sbe7gYJIBpbsu_CllJIOI   \n",
       "B6nuFHgma2xw3B4ZYsSQeb38pgQxgajWykeB8OEZHm0sSO8  h_TlijF-s3RAtZaCyUVvBvgO-GGVuG60TqH3h7cTGrOKT18   \n",
       "4FnPhlgfii3JW283EbPr2Zl4ZPYoVdk6Qfjc7LIPP8MrZEI  8fb8V6VEtBGfFZgq3Fyv3eEJ43UQyIeFOCm0SKEQvgu673M   \n",
       "a3jbDn6LEGapOQp3ecrp3-PS2kUryxZ5NHXzQn40TsOT4tQ  alh23IJbh4qXrbhZns-7UZFVrF1z7fUkKaKGUaNcGbM65uA   \n",
       "hsiTGDBRyGqJ57_rcYgKYy-lnj4HVJJrBnviuc41KuaqsTo  DLlFV0Vyigj3Bm--a-DH-ADL54C8and8CGL_08TiFKU_-ig   \n",
       "\n",
       "                                                     summonerName  \\\n",
       "accountId                                                           \n",
       "bk1m2_GS-2L9loYOKil6EbsEHnQOCY15LRVByLuQvjf46Cc            LokiFc   \n",
       "B6nuFHgma2xw3B4ZYsSQeb38pgQxgajWykeB8OEZHm0sSO8           lepanta   \n",
       "4FnPhlgfii3JW283EbPr2Zl4ZPYoVdk6Qfjc7LIPP8MrZEI  i still hate you   \n",
       "a3jbDn6LEGapOQp3ecrp3-PS2kUryxZ5NHXzQn40TsOT4tQ          shadyzïn   \n",
       "hsiTGDBRyGqJ57_rcYgKYy-lnj4HVJJrBnviuc41KuaqsTo     lagartin safo   \n",
       "\n",
       "                                                 leaguePoints  wins  losses  \\\n",
       "accountId                                                                     \n",
       "bk1m2_GS-2L9loYOKil6EbsEHnQOCY15LRVByLuQvjf46Cc            39   192     184   \n",
       "B6nuFHgma2xw3B4ZYsSQeb38pgQxgajWykeB8OEZHm0sSO8            96   123     102   \n",
       "4FnPhlgfii3JW283EbPr2Zl4ZPYoVdk6Qfjc7LIPP8MrZEI             0   350     298   \n",
       "a3jbDn6LEGapOQp3ecrp3-PS2kUryxZ5NHXzQn40TsOT4tQ            16   135     109   \n",
       "hsiTGDBRyGqJ57_rcYgKYy-lnj4HVJJrBnviuc41KuaqsTo             0   137     115   \n",
       "\n",
       "                                                 veteran  inactive  \\\n",
       "accountId                                                            \n",
       "bk1m2_GS-2L9loYOKil6EbsEHnQOCY15LRVByLuQvjf46Cc    False     False   \n",
       "B6nuFHgma2xw3B4ZYsSQeb38pgQxgajWykeB8OEZHm0sSO8    False     False   \n",
       "4FnPhlgfii3JW283EbPr2Zl4ZPYoVdk6Qfjc7LIPP8MrZEI    False     False   \n",
       "a3jbDn6LEGapOQp3ecrp3-PS2kUryxZ5NHXzQn40TsOT4tQ    False     False   \n",
       "hsiTGDBRyGqJ57_rcYgKYy-lnj4HVJJrBnviuc41KuaqsTo    False     False   \n",
       "\n",
       "                                                 freshBlood  hotStreak  \\\n",
       "accountId                                                                \n",
       "bk1m2_GS-2L9loYOKil6EbsEHnQOCY15LRVByLuQvjf46Cc       False      False   \n",
       "B6nuFHgma2xw3B4ZYsSQeb38pgQxgajWykeB8OEZHm0sSO8       False      False   \n",
       "4FnPhlgfii3JW283EbPr2Zl4ZPYoVdk6Qfjc7LIPP8MrZEI       False      False   \n",
       "a3jbDn6LEGapOQp3ecrp3-PS2kUryxZ5NHXzQn40TsOT4tQ       False      False   \n",
       "hsiTGDBRyGqJ57_rcYgKYy-lnj4HVJJrBnviuc41KuaqsTo       False      False   \n",
       "\n",
       "                                                 summonerLevel  \\\n",
       "accountId                                                        \n",
       "bk1m2_GS-2L9loYOKil6EbsEHnQOCY15LRVByLuQvjf46Cc            291   \n",
       "B6nuFHgma2xw3B4ZYsSQeb38pgQxgajWykeB8OEZHm0sSO8            131   \n",
       "4FnPhlgfii3JW283EbPr2Zl4ZPYoVdk6Qfjc7LIPP8MrZEI            224   \n",
       "a3jbDn6LEGapOQp3ecrp3-PS2kUryxZ5NHXzQn40TsOT4tQ            233   \n",
       "hsiTGDBRyGqJ57_rcYgKYy-lnj4HVJJrBnviuc41KuaqsTo            137   \n",
       "\n",
       "                                                                                             puuid  \\\n",
       "accountId                                                                                            \n",
       "bk1m2_GS-2L9loYOKil6EbsEHnQOCY15LRVByLuQvjf46Cc  AvAT9pAFILqL0Eo0kWmFOXug4KyIBh4QprnfHU4Ao2e3Bj...   \n",
       "B6nuFHgma2xw3B4ZYsSQeb38pgQxgajWykeB8OEZHm0sSO8  z2NP0f9IPVNevXHBEiZ5wjOHHwmqifJM0St3OpTjgI8xon...   \n",
       "4FnPhlgfii3JW283EbPr2Zl4ZPYoVdk6Qfjc7LIPP8MrZEI  CZq0S_gurM-JdaLAI8mZxCHhvxWGSen9ipXUt6QCOkyNDz...   \n",
       "a3jbDn6LEGapOQp3ecrp3-PS2kUryxZ5NHXzQn40TsOT4tQ  wADRcuNbUSKIB1uAIodgtv23LnbyrZZhTY5-TXAuDZoyzf...   \n",
       "hsiTGDBRyGqJ57_rcYgKYy-lnj4HVJJrBnviuc41KuaqsTo  XnADRrwXtgMPlKMovnXyUvc31v_1H-0chebhzdZ7piXF31...   \n",
       "\n",
       "                                                 win-rate  lose-rate  win_rate  \n",
       "accountId                                                                       \n",
       "bk1m2_GS-2L9loYOKil6EbsEHnQOCY15LRVByLuQvjf46Cc  0.510638   0.489362  0.510638  \n",
       "B6nuFHgma2xw3B4ZYsSQeb38pgQxgajWykeB8OEZHm0sSO8  0.546667   0.453333  0.546667  \n",
       "4FnPhlgfii3JW283EbPr2Zl4ZPYoVdk6Qfjc7LIPP8MrZEI  0.540123   0.459877  0.540123  \n",
       "a3jbDn6LEGapOQp3ecrp3-PS2kUryxZ5NHXzQn40TsOT4tQ  0.553279   0.446721  0.553279  \n",
       "hsiTGDBRyGqJ57_rcYgKYy-lnj4HVJJrBnviuc41KuaqsTo  0.543651   0.456349  0.543651  "
      ]
     },
     "execution_count": 49,
     "metadata": {},
     "output_type": "execute_result"
    }
   ],
   "source": [
    "df_users_seed['win_rate'] = df_users_seed['wins']/(df_users_seed['wins'] + df_users_seed['losses'])\n",
    "df_users_seed.head()"
   ]
  },
  {
   "cell_type": "code",
   "execution_count": 50,
   "metadata": {},
   "outputs": [
    {
     "data": {
      "text/plain": [
       "count    2661.000000\n",
       "mean        0.537335\n",
       "std         0.042307\n",
       "min         0.412500\n",
       "25%         0.510989\n",
       "50%         0.524611\n",
       "75%         0.551237\n",
       "max         0.869565\n",
       "Name: win_rate, dtype: float64"
      ]
     },
     "execution_count": 50,
     "metadata": {},
     "output_type": "execute_result"
    }
   ],
   "source": [
    "df_users_seed['win_rate'].describe()"
   ]
  },
  {
   "cell_type": "code",
   "execution_count": 51,
   "metadata": {},
   "outputs": [
    {
     "data": {
      "text/plain": [
       "<matplotlib.axes._subplots.AxesSubplot at 0x1a047675910>"
      ]
     },
     "execution_count": 51,
     "metadata": {},
     "output_type": "execute_result"
    },
    {
     "data": {
      "image/png": "[encoded data removed]",
      "text/plain": [
       "<Figure size 432x288 with 1 Axes>"
      ]
     },
     "metadata": {
      "needs_background": "light"
     },
     "output_type": "display_data"
    }
   ],
   "source": [
    "df_users_seed['win_rate'].hist()"
   ]
  },
  {
   "cell_type": "code",
   "execution_count": 53,
   "metadata": {},
   "outputs": [
    {
     "name": "stdout",
     "output_type": "stream",
     "text": [
      "0.040247738127596855\n"
     ]
    }
   ],
   "source": [
    "q1 = df_users_seed['win_rate'].quantile(q=0.25)\n",
    "q3 = df_users_seed['win_rate'].quantile(q=0.75)\n",
    "iqr = q3 - q1\n",
    "print(iqr)"
   ]
  },
  {
   "cell_type": "code",
   "execution_count": null,
   "metadata": {},
   "outputs": [],
   "source": [
    "df_users_seed[df_users_seed['win_rate'] < (q1-1.5*iqr)]"
   ]
  },
  {
   "cell_type": "markdown",
   "metadata": {},
   "source": [
    "### Saindo um pouco dos dados ligados aos users, a base a seguir contem as estatistica relacionadas as partidas, estas por vez, podem ligadas ao usuário via id."
   ]
  },
  {
   "cell_type": "code",
   "execution_count": 24,
   "metadata": {},
   "outputs": [
    {
     "ename": "NameError",
     "evalue": "name 'df_match_stats' is not defined",
     "output_type": "error",
     "traceback": [
      "\u001b[1;31m---------------------------------------------------------------------------\u001b[0m",
      "\u001b[1;31mNameError\u001b[0m                                 Traceback (most recent call last)",
      "\u001b[1;32m<ipython-input-24-1f1fda7c8ad7>\u001b[0m in \u001b[0;36m<module>\u001b[1;34m\u001b[0m\n\u001b[1;32m----> 1\u001b[1;33m \u001b[0mdf_match_stats\u001b[0m\u001b[1;33m.\u001b[0m\u001b[0mcolumns\u001b[0m\u001b[1;33m\u001b[0m\u001b[1;33m\u001b[0m\u001b[0m\n\u001b[0m",
      "\u001b[1;31mNameError\u001b[0m: name 'df_match_stats' is not defined"
     ]
    }
   ],
   "source": [
    "df_match_stats.columns"
   ]
  },
  {
   "cell_type": "code",
   "execution_count": null,
   "metadata": {},
   "outputs": [],
   "source": [
    "### O tipo"
   ]
  },
  {
   "cell_type": "code",
   "execution_count": null,
   "metadata": {},
   "outputs": [],
   "source": [
    "#Primeiramente através de uma matriz de correlação irei tentar encontrar algumas relações que determinam ou não uma vitoria.\n",
    "#Como a coluna win é um categoria iremos trata-la para que entre na nossa analise de correlação.\n",
    "df_dummies = pd.get_dummies(df_match_stats['win'],prefix=\"game\")\n",
    "df_match_stats_PP = pd.concat([df_match_stats, df_dummies], axis=1)\n"
   ]
  },
  {
   "cell_type": "code",
   "execution_count": null,
   "metadata": {},
   "outputs": [],
   "source": [
    "df_match_stats_PP.head(2)"
   ]
  },
  {
   "cell_type": "code",
   "execution_count": 25,
   "metadata": {},
   "outputs": [],
   "source": [
    "sns.set(rc={'figure.figsize':(11.7,8.27)})\n",
    "def generate_corr_matrix(df):\n",
    "    corr = df.corr()\n",
    "    ax = sns.heatmap(\n",
    "        corr, \n",
    "        vmin=-1, vmax=1, center=0,\n",
    "        cmap=sns.diverging_palette(20, 220, n=200),\n",
    "        square=True,\n",
    "        annot=True\n",
    "    )\n",
    "    ax.set_xticklabels(\n",
    "        ax.get_xticklabels(),\n",
    "        rotation=45,\n",
    "        horizontalalignment='right'\n",
    "    );"
   ]
  },
  {
   "cell_type": "code",
   "execution_count": 26,
   "metadata": {},
   "outputs": [
    {
     "ename": "NameError",
     "evalue": "name 'df_match_stats_PP' is not defined",
     "output_type": "error",
     "traceback": [
      "\u001b[1;31m---------------------------------------------------------------------------\u001b[0m",
      "\u001b[1;31mNameError\u001b[0m                                 Traceback (most recent call last)",
      "\u001b[1;32m<ipython-input-26-04fe535ae66b>\u001b[0m in \u001b[0;36m<module>\u001b[1;34m\u001b[0m\n\u001b[1;32m----> 1\u001b[1;33m \u001b[0mgenerate_corr_matrix\u001b[0m\u001b[1;33m(\u001b[0m\u001b[0mdf_match_stats_PP\u001b[0m\u001b[1;33m)\u001b[0m\u001b[1;33m\u001b[0m\u001b[1;33m\u001b[0m\u001b[0m\n\u001b[0m",
      "\u001b[1;31mNameError\u001b[0m: name 'df_match_stats_PP' is not defined"
     ]
    }
   ],
   "source": [
    "generate_corr_matrix(df_match_stats_PP)"
   ]
  },
  {
   "cell_type": "markdown",
   "metadata": {},
   "source": [
    "#### Aqui para os valores mais escuros, acimas de 0,7 podemos ver algumas relações. Sendo as mais interessantesas ligadas ao ganhar o jogo ou nao."
   ]
  },
  {
   "cell_type": "code",
   "execution_count": 27,
   "metadata": {},
   "outputs": [
    {
     "data": {
      "text/html": [
       "<div>\n",
       "<style scoped>\n",
       "    .dataframe tbody tr th:only-of-type {\n",
       "        vertical-align: middle;\n",
       "    }\n",
       "\n",
       "    .dataframe tbody tr th {\n",
       "        vertical-align: top;\n",
       "    }\n",
       "\n",
       "    .dataframe thead th {\n",
       "        text-align: right;\n",
       "    }\n",
       "</style>\n",
       "<table border=\"1\" class=\"dataframe\">\n",
       "  <thead>\n",
       "    <tr style=\"text-align: right;\">\n",
       "      <th></th>\n",
       "      <th>champion</th>\n",
       "      <th>spell1</th>\n",
       "      <th>spell2</th>\n",
       "      <th>win</th>\n",
       "      <th>kills</th>\n",
       "      <th>deaths</th>\n",
       "      <th>assists</th>\n",
       "      <th>totalDamageDealt</th>\n",
       "      <th>goldEarned</th>\n",
       "      <th>champLevel</th>\n",
       "      <th>totalMinionsKilled</th>\n",
       "      <th>item0</th>\n",
       "      <th>item1</th>\n",
       "    </tr>\n",
       "    <tr>\n",
       "      <th>gameId</th>\n",
       "      <th></th>\n",
       "      <th></th>\n",
       "      <th></th>\n",
       "      <th></th>\n",
       "      <th></th>\n",
       "      <th></th>\n",
       "      <th></th>\n",
       "      <th></th>\n",
       "      <th></th>\n",
       "      <th></th>\n",
       "      <th></th>\n",
       "      <th></th>\n",
       "      <th></th>\n",
       "    </tr>\n",
       "  </thead>\n",
       "  <tbody>\n",
       "    <tr>\n",
       "      <th>2063497560</th>\n",
       "      <td>53</td>\n",
       "      <td>4</td>\n",
       "      <td>14</td>\n",
       "      <td>True</td>\n",
       "      <td>1</td>\n",
       "      <td>4</td>\n",
       "      <td>9</td>\n",
       "      <td>24558</td>\n",
       "      <td>7223</td>\n",
       "      <td>13</td>\n",
       "      <td>41</td>\n",
       "      <td>3050</td>\n",
       "      <td>3857</td>\n",
       "    </tr>\n",
       "    <tr>\n",
       "      <th>2063497560</th>\n",
       "      <td>79</td>\n",
       "      <td>4</td>\n",
       "      <td>11</td>\n",
       "      <td>True</td>\n",
       "      <td>13</td>\n",
       "      <td>2</td>\n",
       "      <td>15</td>\n",
       "      <td>181277</td>\n",
       "      <td>13186</td>\n",
       "      <td>16</td>\n",
       "      <td>29</td>\n",
       "      <td>3020</td>\n",
       "      <td>3157</td>\n",
       "    </tr>\n",
       "    <tr>\n",
       "      <th>2063497560</th>\n",
       "      <td>51</td>\n",
       "      <td>4</td>\n",
       "      <td>7</td>\n",
       "      <td>True</td>\n",
       "      <td>1</td>\n",
       "      <td>8</td>\n",
       "      <td>8</td>\n",
       "      <td>104542</td>\n",
       "      <td>9518</td>\n",
       "      <td>14</td>\n",
       "      <td>160</td>\n",
       "      <td>3094</td>\n",
       "      <td>1038</td>\n",
       "    </tr>\n",
       "    <tr>\n",
       "      <th>2063497560</th>\n",
       "      <td>61</td>\n",
       "      <td>12</td>\n",
       "      <td>4</td>\n",
       "      <td>True</td>\n",
       "      <td>15</td>\n",
       "      <td>0</td>\n",
       "      <td>8</td>\n",
       "      <td>152303</td>\n",
       "      <td>13942</td>\n",
       "      <td>16</td>\n",
       "      <td>201</td>\n",
       "      <td>3040</td>\n",
       "      <td>2055</td>\n",
       "    </tr>\n",
       "    <tr>\n",
       "      <th>2063497560</th>\n",
       "      <td>420</td>\n",
       "      <td>12</td>\n",
       "      <td>4</td>\n",
       "      <td>True</td>\n",
       "      <td>4</td>\n",
       "      <td>2</td>\n",
       "      <td>3</td>\n",
       "      <td>126026</td>\n",
       "      <td>10285</td>\n",
       "      <td>16</td>\n",
       "      <td>168</td>\n",
       "      <td>3071</td>\n",
       "      <td>1054</td>\n",
       "    </tr>\n",
       "    <tr>\n",
       "      <th>2063497560</th>\n",
       "      <td>64</td>\n",
       "      <td>4</td>\n",
       "      <td>11</td>\n",
       "      <td>False</td>\n",
       "      <td>4</td>\n",
       "      <td>4</td>\n",
       "      <td>1</td>\n",
       "      <td>151533</td>\n",
       "      <td>9526</td>\n",
       "      <td>13</td>\n",
       "      <td>20</td>\n",
       "      <td>3111</td>\n",
       "      <td>1412</td>\n",
       "    </tr>\n",
       "    <tr>\n",
       "      <th>2063497560</th>\n",
       "      <td>25</td>\n",
       "      <td>14</td>\n",
       "      <td>4</td>\n",
       "      <td>False</td>\n",
       "      <td>1</td>\n",
       "      <td>9</td>\n",
       "      <td>9</td>\n",
       "      <td>28987</td>\n",
       "      <td>7351</td>\n",
       "      <td>10</td>\n",
       "      <td>16</td>\n",
       "      <td>3157</td>\n",
       "      <td>3853</td>\n",
       "    </tr>\n",
       "    <tr>\n",
       "      <th>2063497560</th>\n",
       "      <td>498</td>\n",
       "      <td>4</td>\n",
       "      <td>7</td>\n",
       "      <td>False</td>\n",
       "      <td>4</td>\n",
       "      <td>8</td>\n",
       "      <td>5</td>\n",
       "      <td>134404</td>\n",
       "      <td>10830</td>\n",
       "      <td>13</td>\n",
       "      <td>211</td>\n",
       "      <td>3006</td>\n",
       "      <td>3508</td>\n",
       "    </tr>\n",
       "    <tr>\n",
       "      <th>2063497560</th>\n",
       "      <td>131</td>\n",
       "      <td>4</td>\n",
       "      <td>14</td>\n",
       "      <td>False</td>\n",
       "      <td>3</td>\n",
       "      <td>9</td>\n",
       "      <td>0</td>\n",
       "      <td>119454</td>\n",
       "      <td>9315</td>\n",
       "      <td>14</td>\n",
       "      <td>151</td>\n",
       "      <td>3100</td>\n",
       "      <td>3115</td>\n",
       "    </tr>\n",
       "    <tr>\n",
       "      <th>2063497560</th>\n",
       "      <td>23</td>\n",
       "      <td>4</td>\n",
       "      <td>6</td>\n",
       "      <td>False</td>\n",
       "      <td>4</td>\n",
       "      <td>4</td>\n",
       "      <td>0</td>\n",
       "      <td>218143</td>\n",
       "      <td>13527</td>\n",
       "      <td>16</td>\n",
       "      <td>247</td>\n",
       "      <td>3078</td>\n",
       "      <td>3031</td>\n",
       "    </tr>\n",
       "  </tbody>\n",
       "</table>\n",
       "</div>"
      ],
      "text/plain": [
       "            champion  spell1  spell2    win  kills  deaths  assists  \\\n",
       "gameId                                                                \n",
       "2063497560        53       4      14   True      1       4        9   \n",
       "2063497560        79       4      11   True     13       2       15   \n",
       "2063497560        51       4       7   True      1       8        8   \n",
       "2063497560        61      12       4   True     15       0        8   \n",
       "2063497560       420      12       4   True      4       2        3   \n",
       "2063497560        64       4      11  False      4       4        1   \n",
       "2063497560        25      14       4  False      1       9        9   \n",
       "2063497560       498       4       7  False      4       8        5   \n",
       "2063497560       131       4      14  False      3       9        0   \n",
       "2063497560        23       4       6  False      4       4        0   \n",
       "\n",
       "            totalDamageDealt  goldEarned  champLevel  totalMinionsKilled  \\\n",
       "gameId                                                                     \n",
       "2063497560             24558        7223          13                  41   \n",
       "2063497560            181277       13186          16                  29   \n",
       "2063497560            104542        9518          14                 160   \n",
       "2063497560            152303       13942          16                 201   \n",
       "2063497560            126026       10285          16                 168   \n",
       "2063497560            151533        9526          13                  20   \n",
       "2063497560             28987        7351          10                  16   \n",
       "2063497560            134404       10830          13                 211   \n",
       "2063497560            119454        9315          14                 151   \n",
       "2063497560            218143       13527          16                 247   \n",
       "\n",
       "            item0  item1  \n",
       "gameId                    \n",
       "2063497560   3050   3857  \n",
       "2063497560   3020   3157  \n",
       "2063497560   3094   1038  \n",
       "2063497560   3040   2055  \n",
       "2063497560   3071   1054  \n",
       "2063497560   3111   1412  \n",
       "2063497560   3157   3853  \n",
       "2063497560   3006   3508  \n",
       "2063497560   3100   3115  \n",
       "2063497560   3078   3031  "
      ]
     },
     "execution_count": 27,
     "metadata": {},
     "output_type": "execute_result"
    }
   ],
   "source": [
    "df_players_matches_stats.head(10)"
   ]
  },
  {
   "cell_type": "code",
   "execution_count": 28,
   "metadata": {},
   "outputs": [
    {
     "data": {
      "text/plain": [
       "(303252, 13)"
      ]
     },
     "execution_count": 28,
     "metadata": {},
     "output_type": "execute_result"
    }
   ],
   "source": [
    "df_players_matches_stats.shape"
   ]
  },
  {
   "cell_type": "code",
   "execution_count": 29,
   "metadata": {},
   "outputs": [],
   "source": [
    "###Podemos fazer o join dessas duas bases apresentadas, para tentar relacionar algumas e encontrar possiveis hipoteses"
   ]
  },
  {
   "cell_type": "code",
   "execution_count": 30,
   "metadata": {},
   "outputs": [
    {
     "data": {
      "image/png": "[encoded data removed]",
      "text/plain": [
       "<Figure size 842.4x595.44 with 2 Axes>"
      ]
     },
     "metadata": {},
     "output_type": "display_data"
    }
   ],
   "source": [
    "generate_corr_matrix(df_players_matches_stats)"
   ]
  },
  {
   "cell_type": "markdown",
   "metadata": {},
   "source": [
    "**Save Post Processed Data**"
   ]
  },
  {
   "cell_type": "code",
   "execution_count": 31,
   "metadata": {},
   "outputs": [
    {
     "ename": "NameError",
     "evalue": "name 'df_match_stats' is not defined",
     "output_type": "error",
     "traceback": [
      "\u001b[1;31m---------------------------------------------------------------------------\u001b[0m",
      "\u001b[1;31mNameError\u001b[0m                                 Traceback (most recent call last)",
      "\u001b[1;32m<ipython-input-31-44d93b998329>\u001b[0m in \u001b[0;36m<module>\u001b[1;34m\u001b[0m\n\u001b[0;32m      3\u001b[0m \u001b[0mdf_matches_acc_id\u001b[0m\u001b[1;33m.\u001b[0m\u001b[0mto_csv\u001b[0m\u001b[1;33m(\u001b[0m\u001b[1;34m\"matchByAccounbtIdFiltered10_PP.csv\"\u001b[0m\u001b[1;33m)\u001b[0m\u001b[1;33m\u001b[0m\u001b[1;33m\u001b[0m\u001b[0m\n\u001b[0;32m      4\u001b[0m \u001b[1;33m\u001b[0m\u001b[0m\n\u001b[1;32m----> 5\u001b[1;33m \u001b[0mdf_match_stats\u001b[0m\u001b[1;33m.\u001b[0m\u001b[0mto_csv\u001b[0m\u001b[1;33m(\u001b[0m\u001b[1;34m\"dataMatchesStats_PP.csv\"\u001b[0m\u001b[1;33m)\u001b[0m\u001b[1;33m\u001b[0m\u001b[1;33m\u001b[0m\u001b[0m\n\u001b[0m\u001b[0;32m      6\u001b[0m \u001b[1;33m\u001b[0m\u001b[0m\n\u001b[0;32m      7\u001b[0m \u001b[0mdf_players_matches_stats\u001b[0m\u001b[1;33m.\u001b[0m\u001b[0mto_csv\u001b[0m\u001b[1;33m(\u001b[0m\u001b[1;34m\"playersMatchesStats_PP.csv\"\u001b[0m\u001b[1;33m)\u001b[0m\u001b[1;33m\u001b[0m\u001b[1;33m\u001b[0m\u001b[0m\n",
      "\u001b[1;31mNameError\u001b[0m: name 'df_match_stats' is not defined"
     ]
    }
   ],
   "source": [
    "df_users_seed.to_csv(\"SummonerFinalData_PP.csv\")\n",
    "\n",
    "df_matches_acc_id.to_csv(\"matchByAccounbtIdFiltered10_PP.csv\")\n",
    "\n",
    "df_match_stats.to_csv(\"dataMatchesStats_PP.csv\")\n",
    "\n",
    "df_players_matches_stats.to_csv(\"playersMatchesStats_PP.csv\")"
   ]
  },
  {
   "cell_type": "code",
   "execution_count": null,
   "metadata": {},
   "outputs": [],
   "source": []
  },
  {
   "cell_type": "code",
   "execution_count": null,
   "metadata": {},
   "outputs": [],
   "source": []
  }
 ],
 "metadata": {
  "kernelspec": {
   "display_name": "Python 3",
   "language": "python",
   "name": "python3"
  },
  "language_info": {
   "codemirror_mode": {
    "name": "ipython",
    "version": 3
   },
   "file_extension": ".py",
   "mimetype": "text/x-python",
   "name": "python",
   "nbconvert_exporter": "python",
   "pygments_lexer": "ipython3",
   "version": "3.8.3"
  }
 },
 "nbformat": 4,
 "nbformat_minor": 4
}
